{
 "cells": [
  {
   "attachments": {},
   "cell_type": "markdown",
   "metadata": {},
   "source": [
    "### Improving Employee Retention by Predicting Employee Attrition Using Machine Learning\n",
    "<i>by: Lutfia Husna K</i>"
   ]
  },
  {
   "attachments": {},
   "cell_type": "markdown",
   "metadata": {},
   "source": [
    "HR Dashboard : [link](https://public.tableau.com/views/HRDashboard_16890846361810/Dashboard1?:language=en-US&publish=yes&:display_count=n&:origin=viz_share_link)"
   ]
  },
  {
   "attachments": {},
   "cell_type": "markdown",
   "metadata": {},
   "source": [
    "### Library and Data Import"
   ]
  },
  {
   "cell_type": "code",
   "execution_count": 105,
   "metadata": {},
   "outputs": [],
   "source": [
    "import pandas as pd\n",
    "import matplotlib.pyplot as plt\n",
    "import seaborn as sns\n",
    "import plotly.express as px\n",
    "import plotly.graph_objects as go\n",
    "from datetime import datetime\n",
    "from sklearn.preprocessing import MinMaxScaler\n",
    "from sklearn.model_selection import train_test_split"
   ]
  },
  {
   "cell_type": "code",
   "execution_count": 106,
   "metadata": {},
   "outputs": [
    {
     "data": {
      "text/html": [
       "<div>\n",
       "<style scoped>\n",
       "    .dataframe tbody tr th:only-of-type {\n",
       "        vertical-align: middle;\n",
       "    }\n",
       "\n",
       "    .dataframe tbody tr th {\n",
       "        vertical-align: top;\n",
       "    }\n",
       "\n",
       "    .dataframe thead th {\n",
       "        text-align: right;\n",
       "    }\n",
       "</style>\n",
       "<table border=\"1\" class=\"dataframe\">\n",
       "  <thead>\n",
       "    <tr style=\"text-align: right;\">\n",
       "      <th></th>\n",
       "      <th>Username</th>\n",
       "      <th>EnterpriseID</th>\n",
       "      <th>StatusPernikahan</th>\n",
       "      <th>JenisKelamin</th>\n",
       "      <th>StatusKepegawaian</th>\n",
       "      <th>Pekerjaan</th>\n",
       "      <th>JenjangKarir</th>\n",
       "      <th>PerformancePegawai</th>\n",
       "      <th>AsalDaerah</th>\n",
       "      <th>HiringPlatform</th>\n",
       "      <th>...</th>\n",
       "      <th>NomorHP</th>\n",
       "      <th>Email</th>\n",
       "      <th>TingkatPendidikan</th>\n",
       "      <th>PernahBekerja</th>\n",
       "      <th>IkutProgramLOP</th>\n",
       "      <th>AlasanResign</th>\n",
       "      <th>TanggalLahir</th>\n",
       "      <th>TanggalHiring</th>\n",
       "      <th>TanggalPenilaianKaryawan</th>\n",
       "      <th>TanggalResign</th>\n",
       "    </tr>\n",
       "  </thead>\n",
       "  <tbody>\n",
       "    <tr>\n",
       "      <th>0</th>\n",
       "      <td>spiritedPorpoise3</td>\n",
       "      <td>111065</td>\n",
       "      <td>Belum_menikah</td>\n",
       "      <td>Pria</td>\n",
       "      <td>Outsource</td>\n",
       "      <td>Software Engineer (Back End)</td>\n",
       "      <td>Freshgraduate_program</td>\n",
       "      <td>Sangat_bagus</td>\n",
       "      <td>Jakarta Timur</td>\n",
       "      <td>Employee_Referral</td>\n",
       "      <td>...</td>\n",
       "      <td>+6282232522xxx</td>\n",
       "      <td>spiritedPorpoise3135@yahoo.com</td>\n",
       "      <td>Magister</td>\n",
       "      <td>1</td>\n",
       "      <td>1.0</td>\n",
       "      <td>masih_bekerja</td>\n",
       "      <td>1972-07-01</td>\n",
       "      <td>2011-01-10</td>\n",
       "      <td>2016-2-15</td>\n",
       "      <td>-</td>\n",
       "    </tr>\n",
       "    <tr>\n",
       "      <th>1</th>\n",
       "      <td>jealousGelding2</td>\n",
       "      <td>106080</td>\n",
       "      <td>Belum_menikah</td>\n",
       "      <td>Pria</td>\n",
       "      <td>FullTime</td>\n",
       "      <td>Data Analyst</td>\n",
       "      <td>Freshgraduate_program</td>\n",
       "      <td>Sangat_kurang</td>\n",
       "      <td>Jakarta Utara</td>\n",
       "      <td>Website</td>\n",
       "      <td>...</td>\n",
       "      <td>+6281270745xxx</td>\n",
       "      <td>jealousGelding2239@yahoo.com</td>\n",
       "      <td>Sarjana</td>\n",
       "      <td>1</td>\n",
       "      <td>1.0</td>\n",
       "      <td>toxic_culture</td>\n",
       "      <td>1984-04-26</td>\n",
       "      <td>2014-01-06</td>\n",
       "      <td>2020-1-17</td>\n",
       "      <td>2018-6-16</td>\n",
       "    </tr>\n",
       "    <tr>\n",
       "      <th>2</th>\n",
       "      <td>pluckyMuesli3</td>\n",
       "      <td>106452</td>\n",
       "      <td>Menikah</td>\n",
       "      <td>Pria</td>\n",
       "      <td>FullTime</td>\n",
       "      <td>Software Engineer (Front End)</td>\n",
       "      <td>Freshgraduate_program</td>\n",
       "      <td>Bagus</td>\n",
       "      <td>Jakarta Timur</td>\n",
       "      <td>Indeed</td>\n",
       "      <td>...</td>\n",
       "      <td>+6281346215xxx</td>\n",
       "      <td>pluckyMuesli3961@icloud.com</td>\n",
       "      <td>Magister</td>\n",
       "      <td>1</td>\n",
       "      <td>1.0</td>\n",
       "      <td>jam_kerja</td>\n",
       "      <td>1974-01-07</td>\n",
       "      <td>2011-01-10</td>\n",
       "      <td>2016-01-10</td>\n",
       "      <td>2014-9-24</td>\n",
       "    </tr>\n",
       "    <tr>\n",
       "      <th>3</th>\n",
       "      <td>stressedTruffle1</td>\n",
       "      <td>106325</td>\n",
       "      <td>Belum_menikah</td>\n",
       "      <td>Pria</td>\n",
       "      <td>Outsource</td>\n",
       "      <td>Software Engineer (Front End)</td>\n",
       "      <td>Freshgraduate_program</td>\n",
       "      <td>Bagus</td>\n",
       "      <td>Jakarta Pusat</td>\n",
       "      <td>LinkedIn</td>\n",
       "      <td>...</td>\n",
       "      <td>+6283233846xxx</td>\n",
       "      <td>stressedTruffle1406@hotmail.com</td>\n",
       "      <td>Sarjana</td>\n",
       "      <td>1</td>\n",
       "      <td>0.0</td>\n",
       "      <td>masih_bekerja</td>\n",
       "      <td>1979-11-24</td>\n",
       "      <td>2014-2-17</td>\n",
       "      <td>2020-02-04</td>\n",
       "      <td>-</td>\n",
       "    </tr>\n",
       "    <tr>\n",
       "      <th>4</th>\n",
       "      <td>shyTermite7</td>\n",
       "      <td>111171</td>\n",
       "      <td>Belum_menikah</td>\n",
       "      <td>Wanita</td>\n",
       "      <td>FullTime</td>\n",
       "      <td>Product Manager</td>\n",
       "      <td>Freshgraduate_program</td>\n",
       "      <td>Bagus</td>\n",
       "      <td>Jakarta Timur</td>\n",
       "      <td>LinkedIn</td>\n",
       "      <td>...</td>\n",
       "      <td>+6287883263xxx</td>\n",
       "      <td>shyTermite7149@gmail.com</td>\n",
       "      <td>Sarjana</td>\n",
       "      <td>1</td>\n",
       "      <td>0.0</td>\n",
       "      <td>ganti_karir</td>\n",
       "      <td>1974-11-07</td>\n",
       "      <td>2013-11-11</td>\n",
       "      <td>2020-1-22</td>\n",
       "      <td>2018-09-06</td>\n",
       "    </tr>\n",
       "  </tbody>\n",
       "</table>\n",
       "<p>5 rows × 25 columns</p>\n",
       "</div>"
      ],
      "text/plain": [
       "            Username  EnterpriseID StatusPernikahan JenisKelamin  \\\n",
       "0  spiritedPorpoise3        111065    Belum_menikah         Pria   \n",
       "1    jealousGelding2        106080    Belum_menikah         Pria   \n",
       "2      pluckyMuesli3        106452          Menikah         Pria   \n",
       "3   stressedTruffle1        106325    Belum_menikah         Pria   \n",
       "4        shyTermite7        111171    Belum_menikah       Wanita   \n",
       "\n",
       "  StatusKepegawaian                      Pekerjaan           JenjangKarir  \\\n",
       "0         Outsource   Software Engineer (Back End)  Freshgraduate_program   \n",
       "1          FullTime                   Data Analyst  Freshgraduate_program   \n",
       "2          FullTime  Software Engineer (Front End)  Freshgraduate_program   \n",
       "3         Outsource  Software Engineer (Front End)  Freshgraduate_program   \n",
       "4          FullTime                Product Manager  Freshgraduate_program   \n",
       "\n",
       "  PerformancePegawai     AsalDaerah     HiringPlatform  ...         NomorHP  \\\n",
       "0       Sangat_bagus  Jakarta Timur  Employee_Referral  ...  +6282232522xxx   \n",
       "1      Sangat_kurang  Jakarta Utara            Website  ...  +6281270745xxx   \n",
       "2              Bagus  Jakarta Timur             Indeed  ...  +6281346215xxx   \n",
       "3              Bagus  Jakarta Pusat           LinkedIn  ...  +6283233846xxx   \n",
       "4              Bagus  Jakarta Timur           LinkedIn  ...  +6287883263xxx   \n",
       "\n",
       "                             Email  TingkatPendidikan  PernahBekerja  \\\n",
       "0   spiritedPorpoise3135@yahoo.com           Magister              1   \n",
       "1     jealousGelding2239@yahoo.com            Sarjana              1   \n",
       "2      pluckyMuesli3961@icloud.com           Magister              1   \n",
       "3  stressedTruffle1406@hotmail.com            Sarjana              1   \n",
       "4         shyTermite7149@gmail.com            Sarjana              1   \n",
       "\n",
       "   IkutProgramLOP   AlasanResign TanggalLahir TanggalHiring  \\\n",
       "0             1.0  masih_bekerja   1972-07-01    2011-01-10   \n",
       "1             1.0  toxic_culture   1984-04-26    2014-01-06   \n",
       "2             1.0      jam_kerja   1974-01-07    2011-01-10   \n",
       "3             0.0  masih_bekerja   1979-11-24     2014-2-17   \n",
       "4             0.0    ganti_karir   1974-11-07    2013-11-11   \n",
       "\n",
       "  TanggalPenilaianKaryawan  TanggalResign  \n",
       "0                2016-2-15              -  \n",
       "1                2020-1-17      2018-6-16  \n",
       "2               2016-01-10      2014-9-24  \n",
       "3               2020-02-04              -  \n",
       "4                2020-1-22     2018-09-06  \n",
       "\n",
       "[5 rows x 25 columns]"
      ]
     },
     "execution_count": 106,
     "metadata": {},
     "output_type": "execute_result"
    }
   ],
   "source": [
    "df = pd.read_excel('Improving Employee Retention by Predicting Employee Attrition Using Machine Learning.xlsx')\n",
    "df.head()"
   ]
  },
  {
   "cell_type": "code",
   "execution_count": 107,
   "metadata": {},
   "outputs": [
    {
     "name": "stdout",
     "output_type": "stream",
     "text": [
      "<class 'pandas.core.frame.DataFrame'>\n",
      "RangeIndex: 287 entries, 0 to 286\n",
      "Data columns (total 25 columns):\n",
      " #   Column                              Non-Null Count  Dtype  \n",
      "---  ------                              --------------  -----  \n",
      " 0   Username                            287 non-null    object \n",
      " 1   EnterpriseID                        287 non-null    int64  \n",
      " 2   StatusPernikahan                    287 non-null    object \n",
      " 3   JenisKelamin                        287 non-null    object \n",
      " 4   StatusKepegawaian                   287 non-null    object \n",
      " 5   Pekerjaan                           287 non-null    object \n",
      " 6   JenjangKarir                        287 non-null    object \n",
      " 7   PerformancePegawai                  287 non-null    object \n",
      " 8   AsalDaerah                          287 non-null    object \n",
      " 9   HiringPlatform                      287 non-null    object \n",
      " 10  SkorSurveyEngagement                287 non-null    int64  \n",
      " 11  SkorKepuasanPegawai                 282 non-null    float64\n",
      " 12  JumlahKeikutsertaanProjek           284 non-null    float64\n",
      " 13  JumlahKeterlambatanSebulanTerakhir  286 non-null    float64\n",
      " 14  JumlahKetidakhadiran                281 non-null    float64\n",
      " 15  NomorHP                             287 non-null    object \n",
      " 16  Email                               287 non-null    object \n",
      " 17  TingkatPendidikan                   287 non-null    object \n",
      " 18  PernahBekerja                       287 non-null    object \n",
      " 19  IkutProgramLOP                      29 non-null     float64\n",
      " 20  AlasanResign                        221 non-null    object \n",
      " 21  TanggalLahir                        287 non-null    object \n",
      " 22  TanggalHiring                       287 non-null    object \n",
      " 23  TanggalPenilaianKaryawan            287 non-null    object \n",
      " 24  TanggalResign                       287 non-null    object \n",
      "dtypes: float64(5), int64(2), object(18)\n",
      "memory usage: 56.2+ KB\n"
     ]
    }
   ],
   "source": [
    "df.info()"
   ]
  },
  {
   "attachments": {},
   "cell_type": "markdown",
   "metadata": {},
   "source": [
    "Dataset memiliki 287 record data dan 25 kolom data."
   ]
  },
  {
   "attachments": {},
   "cell_type": "markdown",
   "metadata": {},
   "source": [
    "### Data Cleansing & Preparation"
   ]
  },
  {
   "attachments": {},
   "cell_type": "markdown",
   "metadata": {},
   "source": [
    "**Missing Value Handling**"
   ]
  },
  {
   "cell_type": "code",
   "execution_count": 108,
   "metadata": {},
   "outputs": [
    {
     "data": {
      "text/html": [
       "<div>\n",
       "<style scoped>\n",
       "    .dataframe tbody tr th:only-of-type {\n",
       "        vertical-align: middle;\n",
       "    }\n",
       "\n",
       "    .dataframe tbody tr th {\n",
       "        vertical-align: top;\n",
       "    }\n",
       "\n",
       "    .dataframe thead th {\n",
       "        text-align: right;\n",
       "    }\n",
       "</style>\n",
       "<table border=\"1\" class=\"dataframe\">\n",
       "  <thead>\n",
       "    <tr style=\"text-align: right;\">\n",
       "      <th></th>\n",
       "      <th>index</th>\n",
       "      <th>0</th>\n",
       "      <th>percentation</th>\n",
       "    </tr>\n",
       "  </thead>\n",
       "  <tbody>\n",
       "    <tr>\n",
       "      <th>19</th>\n",
       "      <td>IkutProgramLOP</td>\n",
       "      <td>258</td>\n",
       "      <td>0.90</td>\n",
       "    </tr>\n",
       "    <tr>\n",
       "      <th>20</th>\n",
       "      <td>AlasanResign</td>\n",
       "      <td>66</td>\n",
       "      <td>0.23</td>\n",
       "    </tr>\n",
       "    <tr>\n",
       "      <th>11</th>\n",
       "      <td>SkorKepuasanPegawai</td>\n",
       "      <td>5</td>\n",
       "      <td>0.02</td>\n",
       "    </tr>\n",
       "    <tr>\n",
       "      <th>14</th>\n",
       "      <td>JumlahKetidakhadiran</td>\n",
       "      <td>6</td>\n",
       "      <td>0.02</td>\n",
       "    </tr>\n",
       "    <tr>\n",
       "      <th>12</th>\n",
       "      <td>JumlahKeikutsertaanProjek</td>\n",
       "      <td>3</td>\n",
       "      <td>0.01</td>\n",
       "    </tr>\n",
       "    <tr>\n",
       "      <th>13</th>\n",
       "      <td>JumlahKeterlambatanSebulanTerakhir</td>\n",
       "      <td>1</td>\n",
       "      <td>0.00</td>\n",
       "    </tr>\n",
       "  </tbody>\n",
       "</table>\n",
       "</div>"
      ],
      "text/plain": [
       "                                 index    0  percentation\n",
       "19                      IkutProgramLOP  258          0.90\n",
       "20                        AlasanResign   66          0.23\n",
       "11                 SkorKepuasanPegawai    5          0.02\n",
       "14                JumlahKetidakhadiran    6          0.02\n",
       "12           JumlahKeikutsertaanProjek    3          0.01\n",
       "13  JumlahKeterlambatanSebulanTerakhir    1          0.00"
      ]
     },
     "execution_count": 108,
     "metadata": {},
     "output_type": "execute_result"
    }
   ],
   "source": [
    "# Checking Missing Data\n",
    "missing_value = df.isnull().sum().reset_index()\n",
    "missing_value = missing_value[missing_value[0] > 0]\n",
    "missing_value['percentation'] = (missing_value[0]/len(df)).round(2)\n",
    "missing_value = missing_value.sort_values('percentation', ascending = False)\n",
    "missing_value"
   ]
  },
  {
   "attachments": {},
   "cell_type": "markdown",
   "metadata": {},
   "source": [
    "Karena kolom IkutProgramLOP memiliki missing value sebesar 90%, sehingga kita tidak akan menggunakan kolom ini karena kurang memberikan informasi karena banyak data hilang."
   ]
  },
  {
   "cell_type": "code",
   "execution_count": 109,
   "metadata": {},
   "outputs": [],
   "source": [
    "df = df.drop('IkutProgramLOP', axis = 1)"
   ]
  },
  {
   "attachments": {},
   "cell_type": "markdown",
   "metadata": {},
   "source": [
    "Untuk kolom Alasan Resign, kita perlu untuk melihat apakah records data dengan AlasanResign kosong merupakan karyawan yang telah resign atau bukan."
   ]
  },
  {
   "cell_type": "code",
   "execution_count": 110,
   "metadata": {},
   "outputs": [
    {
     "data": {
      "text/html": [
       "<div>\n",
       "<style scoped>\n",
       "    .dataframe tbody tr th:only-of-type {\n",
       "        vertical-align: middle;\n",
       "    }\n",
       "\n",
       "    .dataframe tbody tr th {\n",
       "        vertical-align: top;\n",
       "    }\n",
       "\n",
       "    .dataframe thead th {\n",
       "        text-align: right;\n",
       "    }\n",
       "</style>\n",
       "<table border=\"1\" class=\"dataframe\">\n",
       "  <thead>\n",
       "    <tr style=\"text-align: right;\">\n",
       "      <th></th>\n",
       "      <th>TanggalResign</th>\n",
       "      <th>AlasanResign</th>\n",
       "    </tr>\n",
       "  </thead>\n",
       "  <tbody>\n",
       "    <tr>\n",
       "      <th>105</th>\n",
       "      <td>-</td>\n",
       "      <td>NaN</td>\n",
       "    </tr>\n",
       "    <tr>\n",
       "      <th>187</th>\n",
       "      <td>-</td>\n",
       "      <td>NaN</td>\n",
       "    </tr>\n",
       "    <tr>\n",
       "      <th>189</th>\n",
       "      <td>-</td>\n",
       "      <td>NaN</td>\n",
       "    </tr>\n",
       "    <tr>\n",
       "      <th>190</th>\n",
       "      <td>-</td>\n",
       "      <td>NaN</td>\n",
       "    </tr>\n",
       "    <tr>\n",
       "      <th>195</th>\n",
       "      <td>-</td>\n",
       "      <td>NaN</td>\n",
       "    </tr>\n",
       "    <tr>\n",
       "      <th>...</th>\n",
       "      <td>...</td>\n",
       "      <td>...</td>\n",
       "    </tr>\n",
       "    <tr>\n",
       "      <th>279</th>\n",
       "      <td>-</td>\n",
       "      <td>NaN</td>\n",
       "    </tr>\n",
       "    <tr>\n",
       "      <th>280</th>\n",
       "      <td>-</td>\n",
       "      <td>NaN</td>\n",
       "    </tr>\n",
       "    <tr>\n",
       "      <th>281</th>\n",
       "      <td>-</td>\n",
       "      <td>NaN</td>\n",
       "    </tr>\n",
       "    <tr>\n",
       "      <th>282</th>\n",
       "      <td>-</td>\n",
       "      <td>NaN</td>\n",
       "    </tr>\n",
       "    <tr>\n",
       "      <th>286</th>\n",
       "      <td>-</td>\n",
       "      <td>NaN</td>\n",
       "    </tr>\n",
       "  </tbody>\n",
       "</table>\n",
       "<p>66 rows × 2 columns</p>\n",
       "</div>"
      ],
      "text/plain": [
       "    TanggalResign AlasanResign\n",
       "105             -          NaN\n",
       "187             -          NaN\n",
       "189             -          NaN\n",
       "190             -          NaN\n",
       "195             -          NaN\n",
       "..            ...          ...\n",
       "279             -          NaN\n",
       "280             -          NaN\n",
       "281             -          NaN\n",
       "282             -          NaN\n",
       "286             -          NaN\n",
       "\n",
       "[66 rows x 2 columns]"
      ]
     },
     "execution_count": 110,
     "metadata": {},
     "output_type": "execute_result"
    }
   ],
   "source": [
    "# Checking AlasanResign Column\n",
    "df[df['AlasanResign'].isnull() == True][['TanggalResign', 'AlasanResign']]"
   ]
  },
  {
   "cell_type": "code",
   "execution_count": 111,
   "metadata": {},
   "outputs": [
    {
     "name": "stdout",
     "output_type": "stream",
     "text": [
      "Karyawan yang masih bekerja dengan kolom AlasanResign kosong : 66\n",
      "Karyawan yang telah resign dengan kolom AlasanResign kosong : 0\n"
     ]
    }
   ],
   "source": [
    "# Checking missing value of the AlasanResign column\n",
    "# Apakah ada Karyawan yang masih bekerja dan kolom 'AlasanResign' kosong?\n",
    "print('Karyawan yang masih bekerja dengan kolom AlasanResign kosong :',len(df[(df['AlasanResign'].isnull()) & (df['TanggalResign'] == '-')]))\n",
    "print('Karyawan yang telah resign dengan kolom AlasanResign kosong :',len(df[(df['AlasanResign'].isnull()) & (df['TanggalResign'] != '-')]))"
   ]
  },
  {
   "attachments": {},
   "cell_type": "markdown",
   "metadata": {},
   "source": [
    "Kolom AlasanResign yang memiliki data kosong merupakan record data dari karyawan yang masih bekerja, sehingga akan kita imputasi dengan keterangan 'masih bekerja'"
   ]
  },
  {
   "cell_type": "code",
   "execution_count": 112,
   "metadata": {},
   "outputs": [
    {
     "data": {
      "text/html": [
       "<div>\n",
       "<style scoped>\n",
       "    .dataframe tbody tr th:only-of-type {\n",
       "        vertical-align: middle;\n",
       "    }\n",
       "\n",
       "    .dataframe tbody tr th {\n",
       "        vertical-align: top;\n",
       "    }\n",
       "\n",
       "    .dataframe thead th {\n",
       "        text-align: right;\n",
       "    }\n",
       "</style>\n",
       "<table border=\"1\" class=\"dataframe\">\n",
       "  <thead>\n",
       "    <tr style=\"text-align: right;\">\n",
       "      <th></th>\n",
       "      <th>index</th>\n",
       "      <th>0</th>\n",
       "      <th>percentation</th>\n",
       "    </tr>\n",
       "  </thead>\n",
       "  <tbody>\n",
       "    <tr>\n",
       "      <th>11</th>\n",
       "      <td>SkorKepuasanPegawai</td>\n",
       "      <td>5</td>\n",
       "      <td>0.02</td>\n",
       "    </tr>\n",
       "    <tr>\n",
       "      <th>14</th>\n",
       "      <td>JumlahKetidakhadiran</td>\n",
       "      <td>6</td>\n",
       "      <td>0.02</td>\n",
       "    </tr>\n",
       "    <tr>\n",
       "      <th>12</th>\n",
       "      <td>JumlahKeikutsertaanProjek</td>\n",
       "      <td>3</td>\n",
       "      <td>0.01</td>\n",
       "    </tr>\n",
       "    <tr>\n",
       "      <th>13</th>\n",
       "      <td>JumlahKeterlambatanSebulanTerakhir</td>\n",
       "      <td>1</td>\n",
       "      <td>0.00</td>\n",
       "    </tr>\n",
       "  </tbody>\n",
       "</table>\n",
       "</div>"
      ],
      "text/plain": [
       "                                 index  0  percentation\n",
       "11                 SkorKepuasanPegawai  5          0.02\n",
       "14                JumlahKetidakhadiran  6          0.02\n",
       "12           JumlahKeikutsertaanProjek  3          0.01\n",
       "13  JumlahKeterlambatanSebulanTerakhir  1          0.00"
      ]
     },
     "execution_count": 112,
     "metadata": {},
     "output_type": "execute_result"
    }
   ],
   "source": [
    "# Imputate AlasanResign \n",
    "df['AlasanResign'] = df['AlasanResign'].fillna('masih_bekerja')\n",
    "# Checking Missing Data\n",
    "missing_value = df.isnull().sum().reset_index()\n",
    "missing_value = missing_value[missing_value[0] > 0]\n",
    "missing_value['percentation'] = (missing_value[0]/len(df)).round(2)\n",
    "missing_value = missing_value.sort_values('percentation', ascending = False)\n",
    "missing_value"
   ]
  },
  {
   "attachments": {},
   "cell_type": "markdown",
   "metadata": {},
   "source": [
    "**Duplicated Value**"
   ]
  },
  {
   "cell_type": "code",
   "execution_count": 113,
   "metadata": {},
   "outputs": [
    {
     "data": {
      "text/plain": [
       "0"
      ]
     },
     "execution_count": 113,
     "metadata": {},
     "output_type": "execute_result"
    }
   ],
   "source": [
    "df.duplicated().sum()"
   ]
  },
  {
   "attachments": {},
   "cell_type": "markdown",
   "metadata": {},
   "source": [
    "Untuk missing value lain akan kita abaikan terlebih dahulu pada saat melakukan EDA"
   ]
  },
  {
   "attachments": {},
   "cell_type": "markdown",
   "metadata": {},
   "source": [
    "**Checking incorrect data**"
   ]
  },
  {
   "cell_type": "code",
   "execution_count": 114,
   "metadata": {},
   "outputs": [
    {
     "name": "stdout",
     "output_type": "stream",
     "text": [
      "Username column :  {'enviousPie8', 'brainyGranola0', 'peacefulEggs3', 'jealousGelding2', 'pluckyMuesli3', 'jubilantTeal7', 'giddyCod5', 'finickyDunbird1', 'excludedTeal8', 'brainyBittern0', 'amazedMoth0', 'peskyJaguar5', 'dopeyBass1', 'needfulZebra5', 'joyfulMacaw9', 'crummyPudding5', 'hushedBobolink8', 'excludedPorpoise4', 'shySyrup7', 'madFerret4', 'excludedCoconut6', 'enviousMacaw4', 'forsakenAntelope5', 'pacifiedCow0', 'cockyBuzzard5', 'alertSyrup3', 'trustingLizard8', 'worldlyPaella8', 'dopeyGatorade1', 'chicSalami4', 'anxiousTeal2', 'obsessedCake8', 'curiousMackerel5', 'worldlyCow6', 'crushedRaisins0', 'mellowCheese1', 'pluckyRhino0', 'cruelCaviar1', 'grudgingMeerkat3', 'trustingCrane4', 'cautiousOwl6', 'somberBoars0', 'thrilledThrushe4', 'somberRelish9', 'pluckyHoopoe3', 'giddyMallard9', 'truthfulHawk9', 'exactingZebra6', 'dopeySheep0', 'fondDoughnut4', 'boastfulWasp1', 'somberCod8', 'wornoutCrane2', 'jumpyCaviar5', 'culturedMandrill6', 'jumpyBuck8', 'abjectRuffs3', 'wingedPorpoise5', 'spiritedHeron5', 'spiritedWeaver4', 'grizzledSnipe7', 'peacefulChamois3', 'hushedOil9', 'mercifulCheetah9', 'pridefulChamois9', 'troubledThrushe9', 'contentAbalone0', 'goofyMare7', 'shamefulIguana0', 'stressedBittern3', 'morbidTruffle8', 'wingedLeopard7', 'wrathfulMagpie6', 'guiltyDoughnut4', 'soreDunbird3', 'scornfulCoati1', 'excludedPlover4', 'puzzledBagels7', 'insecureIcecream8', 'decimalAbalone6', 'gloomyClam6', 'excludedPoultry2', 'affectedLollies9', 'anxiousWasp6', 'brainyRice8', 'brainySalt8', 'lyingAntelope8', 'guiltyMoth4', 'importedJerky1', 'grizzledDingo0', 'finickySwift5', 'peskyPudding8', 'cautiousLeopard7', 'mereCaribou1', 'forsakenSalt3', 'hushedSeahorse7', 'crummyPolenta1', 'needfulCardinal0', 'sincereSeafowl4', 'jealousIguana3', 'lazyPorpoise0', 'gutturalRhino1', 'lovesickRhino0', 'sincereBass4', 'cautiousPonie3', 'puzzledUnicorn3', 'joyfulMandrill4', 'guiltyCardinal3', 'ferventAbalone7', 'jubilantTruffle2', 'needfulLeopard2', 'sheepishOatmeal5', 'brainyFish3', 'forsakenOwl1', 'artisticTacos7', 'finickyRat1', 'puzzledCake4', 'annoyedSalt4', 'blissfulCow2', 'unhappyPorpoise4', 'boredEggs0', 'grumpyFish5', 'brainyMagpie7', 'crushedLollies6', 'pitifulMallard6', 'mereBaboon2', 'peskyFlamingo7', 'betrayedLizard5', 'drearyLemur9', 'blissfulMussel3', 'amusedIcecream0', 'resolvedMoth3', 'ashamedSyrup5', 'lyingMussel8', 'mellowCheese4', 'outlyingCamel2', 'similarHeron2', 'cockyTruffle7', 'jumpyTomatoe4', 'solidSheep7', 'selfishBagels2', 'importedOwl7', 'awedBaboon6', 'lazyToucan3', 'affectedPup0', 'solidMacaw1', 'tautTacos4', 'stressedMare5', 'troubledQuiche5', 'dejectedPolenta7', 'kindEland7', 'cheerfulPear0', 'madZebra1', 'wakefulPolenta7', 'dearKitten3', 'brainyLlama9', 'sheepishSheep9', 'superiorLemur1', 'soreTruffle3', 'solemnLemur7', 'aloofBasmati5', 'debonairPlover9', 'cynicalMandrill7', 'grumpyFish4', 'giddyCheetah9', 'shamefulSalami8', 'sincereGatorade8', 'bubblyPup4', 'similarTortoise9', 'forsakenWidgeon8', 'somberJerky8', 'enviousSalami4', 'puzzledFish5', 'dreadfulKitten0', 'amazedRhino8', 'mereEland2', 'joyfulBuzzard8', 'wingedPoultry2', 'mellowPudding2', 'eagerHoopoe7', 'blissfulGnu4', 'pacifiedRaisins7', 'dreadfulBobolink0', 'scornfulDove3', 'sheepishWidgeon1', 'peacefulCoati5', 'selfishBasmati2', 'culturedOrange6', 'pridefulBuck8', 'cockyTeal5', 'wornoutChamois3', 'boredHyena0', 'obsessedSwift1', 'pluckyApples4', 'spiritedPorpoise3', 'alertDoughnut7', 'enviousMoth4', 'forsakenCow7', 'ardentLapwing0', 'murkySausage9', 'pluckyMacaw2', 'zestyTermite5', 'selfishBurritos1', 'mellowSalami5', 'similarCardinal3', 'selfishApples3', 'boastfulSyrup4', 'betrayedHeron3', 'ferventHyena2', 'thriftyMoth4', 'boastfulLlama7', 'spiritedDunbird4', 'grumpyCow6', 'cruelWidgeon9', 'gutturalDotterel4', 'truthfulMoth4', 'soreEggs6', 'cruelGnu6', 'emptyMussel0', 'aboardUnicorn8', 'mercifulSmelt7', 'shyTermite7', 'yearningBagels0', 'peacefulKitten4', 'affectedLemur7', 'curiousBaboon5', 'cautiousTortoise1', 'soreCaribou0', 'puzzledBurritos7', 'boastfulDinosaur8', 'madSardines6', 'mildAbalone7', 'wornoutDoughnut2', 'zestyPorpoise7', 'insecureShads2', 'insecureClam1', 'emptyMacaw4', 'exactingBuck0', 'joyfulVenison6', 'debonairChile3', 'yearningPorpoise4', 'joyfulCod3', 'cautiousPolenta9', 'peskyTeal7', 'excitedCake6', 'adoringMacaw3', 'ferventRhino1', 'sugaryIcecream2', 'adoringCardinal9', 'stressedTruffle1', 'grudgingMuesli6', 'resolvedCod5', 'grizzledCod7', 'worriedSyrup7', 'jealousPlover2', 'jumpyBasmati9', 'chicPlover7', 'mildChowder7', 'giddyMandrill6', 'jumpySeahorse6', 'crushedMallard7', 'guiltySnail8', 'crushedHyena6', 'madWildfowl7', 'peskyCoconut7', 'joyfulCockatoo5', 'similarCaviar3', 'needySyrup4', 'aloofChile5', 'solidEagle1', 'boredTortoise1', 'selfishDinosaur9', 'gleefulKitten1', 'scornfulBoa6', 'annoyedWhiting8', 'grizzledFlamingo9', 'worldlyMackerel2', 'soreGranola0', 'mildBuck3', 'offendedIguana0', 'importedApricots7', 'thriftyHare2', 'blissfulHyena1', 'jubilantWildfowl6', 'mercifulSausage4'}\n",
      "StatusPernikahan column :  {'-', 'Menikah', 'Lainnya', 'Bercerai', 'Belum_menikah'}\n",
      "JenisKelamin column :  {'Wanita', 'Pria'}\n",
      "StatusKepegawaian column :  {'FullTime', 'Internship', 'Outsource'}\n",
      "Pekerjaan column :  {'Software Architect', 'Machine Learning Engineer', 'Software Engineer (Android)', 'Data Analyst', 'Product Manager', 'Product Design (UX Researcher)', 'DevOps Engineer', 'Digital Product Manager', 'Product Design (UI & UX)', 'Software Engineer (Back End)', 'Software Engineer (iOS)', 'Scrum Master', 'Software Engineer (Front End)', 'Data Engineer'}\n",
      "JenjangKarir column :  {'Senior_level', 'Freshgraduate_program', 'Mid_level'}\n",
      "PerformancePegawai column :  {'Biasa', 'Sangat_kurang', 'Sangat_bagus', 'Bagus', 'Kurang'}\n",
      "AsalDaerah column :  {'Jakarta Barat', 'Jakarta Selatan', 'Jakarta Utara', 'Jakarta Pusat', 'Jakarta Timur'}\n",
      "HiringPlatform column :  {'Employee_Referral', 'Website', 'Diversity_Job_Fair', 'On-line_Web_application', 'Google_Search', 'LinkedIn', 'Other', 'CareerBuilder', 'Indeed'}\n",
      "NomorHP column :  {'+6281872169xxx', '+6285896821xxx', '+6289841872xxx', '+6289864418xxx', '+6285783035xxx', '+6282206634xxx', '+6281977529xxx', '+6289546076xxx', '+6281336578xxx', '+6281961300xxx', '+6281205790xxx', '+6287898271xxx', '+6289723429xxx', '+6285581511xxx', '+6285982588xxx', '+6289519764xxx', '+6289783478xxx', '+6283843655xxx', '+6285838402xxx', '+6281305913xxx', '+6285654618xxx', '+6289663000xxx', '+6285715469xxx', '+6281230982xxx', '+6283157914xxx', '+6283269904xxx', '+6285627455xxx', '+6289563833xxx', '+6285664605xxx', '+6287803460xxx', '+6285777032xxx', '+6289679074xxx', '+6281212698xxx', '+6285778884xxx', '+6285951035xxx', '+6289922130xxx', '+6281222782xxx', '+6285982568xxx', '+6285615899xxx', '+6287742497xxx', '+6283263626xxx', '+6285717696xxx', '+6285742730xxx', '+6283307754xxx', '+6283105380xxx', '+6281222388xxx', '+6281272430xxx', '+6285856642xxx', '+6289673952xxx', '+6281225029xxx', '+6282232522xxx', '+6289987666xxx', '+6287787391xxx', '+6281209655xxx', '+6281989141xxx', '+6283851827xxx', '+6283163515xxx', '+6285998643xxx', '+6285741068xxx', '+6289528552xxx', '+6283126068xxx', '+6283218201xxx', '+6289791534xxx', '+6289998200xxx', '+6282295263xxx', '+6285814395xxx', '+6285821950xxx', '+6285622739xxx', '+6283244035xxx', '+6289655446xxx', '+6289697234xxx', '+6281209062xxx', '+6289967540xxx', '+6285700061xxx', '+6287717879xxx', '+6285607737xxx', '+6285889643xxx', '+6285858800xxx', '+6287731679xxx', '+6289919120xxx', '+6285507346xxx', '+6281293511xxx', '+6289832939xxx', '+6285946196xxx', '+6285636782xxx', '+6283206252xxx', '+6287705186xxx', '+6289829434xxx', '+6289907753xxx', '+6289717407xxx', '+6281965329xxx', '+6281316733xxx', '+6281271727xxx', '+6289713525xxx', '+6289511334xxx', '+6281908593xxx', '+6281973417xxx', '+6283373813xxx', '+6289913280xxx', '+6281213075xxx', '+6283227259xxx', '+6283343465xxx', '+6285936816xxx', '+6285585054xxx', '+6283185998xxx', '+6281883291xxx', '+6289691256xxx', '+6289565639xxx', '+6283215136xxx', '+6285710367xxx', '+6287886819xxx', '+6289622388xxx', '+6283303593xxx', '+6281988935xxx', '+6282255326xxx', '+6285522082xxx', '+6285960968xxx', '+6283805300xxx', '+6285714869xxx', '+6285922491xxx', '+6281251580xxx', '+6287822509xxx', '+6281801928xxx', '+6281206622xxx', '+6281913444xxx', '+6281967947xxx', '+6287819903xxx', '+6281832158xxx', '+6285908172xxx', '+6287890050xxx', '+6281238359xxx', '+6281276485xxx', '+6285919278xxx', '+6289531301xxx', '+6285978175xxx', '+6283300431xxx', '+6285710742xxx', '+6283359623xxx', '+6287843062xxx', '+6285660996xxx', '+6281206113xxx', '+6281287214xxx', '+6289794136xxx', '+6281307483xxx', '+6289713466xxx', '+6281276322xxx', '+6289591398xxx', '+6283355427xxx', '+6283315810xxx', '+6287879882xxx', '+6285917539xxx', '+6281393313xxx', '+6281290438xxx', '+6285758275xxx', '+6281335006xxx', '+6283307603xxx', '+6283327274xxx', '+6281383552xxx', '+6285735701xxx', '+6281806218xxx', '+6289570871xxx', '+6281803209xxx', '+6285591576xxx', '+6285508465xxx', '+6281290991xxx', '+6281290096xxx', '+6281209169xxx', '+6285503547xxx', '+6281943118xxx', '+6281380903xxx', '+6281257867xxx', '+6283842230xxx', '+6281959858xxx', '+6281328735xxx', '+6289758085xxx', '+6289729171xxx', '+6287725725xxx', '+6287713961xxx', '+6285581609xxx', '+6281202919xxx', '+6289968388xxx', '+6289640675xxx', '+6283346575xxx', '+6289521535xxx', '+6285806554xxx', '+6289931606xxx', '+6285679942xxx', '+6289652194xxx', '+6287761474xxx', '+6283342582xxx', '+6287866077xxx', '+6282208741xxx', '+6289724050xxx', '+6281270745xxx', '+6285718122xxx', '+6283886053xxx', '+6283858649xxx', '+6289537268xxx', '+6289954216xxx', '+6287885203xxx', '+6281288888xxx', '+6289859069xxx', '+6287794061xxx', '+6287883263xxx', '+6283263312xxx', '+6285892182xxx', '+6287739176xxx', '+6282244826xxx', '+6289997684xxx', '+6289558729xxx', '+6281272189xxx', '+6283112563xxx', '+6289720470xxx', '+6285732429xxx', '+6289640533xxx', '+6287829760xxx', '+6281366582xxx', '+6283233846xxx', '+6289797498xxx', '+6289811806xxx', '+6289900398xxx', '+6281228852xxx', '+6283134314xxx', '+6283334899xxx', '+6289989448xxx', '+6287864537xxx', '+6282251549xxx', '+6285780582xxx', '+6281210001xxx', '+6285896075xxx', '+6282234371xxx', '+6289741767xxx', '+6283203119xxx', '+6285696756xxx', '+6285645161xxx', '+6281346215xxx', '+6281244714xxx', '+6285756514xxx', '+6283194302xxx', '+6289993369xxx', '+6283854646xxx', '+6283898937xxx', '+6282250643xxx', '+6281933005xxx', '+6281263218xxx', '+6281315242xxx', '+6285733263xxx', '+6285595323xxx', '+6289763743xxx', '+6281830594xxx', '+6281207070xxx', '+6281268533xxx', '+6283112696xxx', '+6289793710xxx', '+6282293404xxx', '+6285899573xxx', '+6283181215xxx', '+6283186563xxx', '+6285683201xxx', '+6289687151xxx', '+6282254352xxx', '+6289949044xxx', '+6283347244xxx', '+6281218824xxx', '+6285683205xxx', '+6285916008xxx', '+6285931209xxx', '+6282234433xxx', '+6289594763xxx', '+6289878705xxx', '+6289935357xxx', '+6281254157xxx', '+6289950860xxx', '+6281937385xxx', '+6281216232xxx', '+6281279787xxx', '+6289567915xxx', '+6281267984xxx', '+6283144061xxx', '+6281258404xxx', '+6289799136xxx', '+6283349250xxx', '+6289989384xxx', '+6287722818xxx', '+6281391211xxx', '+6285930735xxx', '+6285890385xxx'}\n",
      "Email column :  {'alertSyrup3002@hotmail.com', 'madFerret4760@hotmail.com', 'lazyPorpoise0172@yahoo.com', 'importedApricots7729@hotmail.com', 'jubilantTeal7049@hotmail.com', 'solidMacaw1167@gmail.com', 'sugaryIcecream2932@outlook.com', 'wakefulPolenta7723@outlook.com', 'mildAbalone7337@hotmail.com', 'trustingLizard8944@hotmail.com', 'boredHyena0206@hotmail.com', 'boastfulDinosaur8246@yahoo.com', 'wingedPorpoise5929@outlook.com', 'adoringCardinal9745@yahoo.com', 'stressedTruffle1406@hotmail.com', 'cautiousPolenta9061@proton.com', 'forsakenCow7683@gmail.com', 'puzzledCake4844@icloud.com', 'jealousIguana3026@gmail.com', 'somberRelish9280@gmail.com', 'jumpySeahorse6149@gmail.com', 'pluckyRhino0779@gmail.com', 'peacefulChamois3574@icloud.com', 'wrathfulMagpie6981@gmail.com', 'forsakenOwl1469@outlook.com', 'awedBaboon6031@proton.com', 'similarCaviar3516@icloud.com', 'joyfulBuzzard8100@gmail.com', 'cautiousLeopard7395@yahoo.com', 'spiritedPorpoise3135@yahoo.com', 'forsakenWidgeon8050@proton.com', 'selfishBurritos1329@hotmail.com', 'giddyCod5287@proton.com', 'cautiousOwl6613@proton.com', 'thriftyHare2990@gmail.com', 'troubledQuiche5924@icloud.com', 'gleefulKitten1142@outlook.com', 'blissfulHyena1934@hotmail.com', 'mereCaribou1593@gmail.com', 'wingedPoultry2087@hotmail.com', 'pacifiedCow0861@icloud.com', 'mercifulSausage4755@icloud.com', 'mildBuck3345@outlook.com', 'kindEland7431@hotmail.com', 'insecureClam1801@proton.com', 'boastfulSyrup4371@yahoo.com', 'needySyrup4506@hotmail.com', 'spiritedDunbird4070@icloud.com', 'annoyedWhiting8110@outlook.com', 'excitedCake6722@proton.com', 'pitifulMallard6993@outlook.com', 'sincereBass4134@yahoo.com', 'superiorLemur1276@yahoo.com', 'cockyBuzzard5324@proton.com', 'dopeySheep0297@icloud.com', 'zestyPorpoise7101@gmail.com', 'peskyTeal7261@icloud.com', 'selfishBagels2421@gmail.com', 'adoringMacaw3272@yahoo.com', 'aloofChile5822@outlook.com', 'truthfulMoth4663@yahoo.com', 'similarHeron2961@hotmail.com', 'grizzledCod7824@hotmail.com', 'somberBoars0230@proton.com', 'shyTermite7149@gmail.com', 'jubilantTruffle2009@proton.com', 'grudgingMuesli6971@icloud.com', 'blissfulGnu4786@hotmail.com', 'eagerHoopoe7199@hotmail.com', 'chicSalami4094@hotmail.com', 'puzzledUnicorn3199@outlook.com', 'blissfulMussel3985@outlook.com', 'ashamedSyrup5760@gmail.com', 'enviousSalami4948@hotmail.com', 'cockyTeal5115@icloud.com', 'forsakenAntelope5142@gmail.com', 'excludedPlover4963@yahoo.com', 'finickyDunbird1042@icloud.com', 'chicPlover7178@hotmail.com', 'puzzledBurritos7565@icloud.com', 'curiousMackerel5858@hotmail.com', 'solemnLemur7109@gmail.com', 'bubblyPup4032@proton.com', 'spiritedWeaver4174@hotmail.com', 'grudgingMeerkat3383@proton.com', 'soreGranola0345@icloud.com', 'affectedLemur7726@yahoo.com', 'cynicalMandrill7920@hotmail.com', 'mereEland2033@gmail.com', 'mereBaboon2299@hotmail.com', 'contentAbalone0699@icloud.com', 'shySyrup7423@yahoo.com', 'sincereSeafowl4749@hotmail.com', 'enviousMacaw4523@icloud.com', 'exactingBuck0287@icloud.com', 'giddyMallard9195@icloud.com', 'morbidTruffle8334@icloud.com', 'lovesickRhino0235@hotmail.com', 'jealousGelding2239@yahoo.com', 'lyingAntelope8984@outlook.com', 'yearningBagels0311@outlook.com', 'dearKitten3235@yahoo.com', 'forsakenSalt3729@proton.com', 'stressedMare5193@proton.com', 'yearningPorpoise4421@yahoo.com', 'wornoutCrane2580@gmail.com', 'similarTortoise9156@outlook.com', 'culturedOrange6330@yahoo.com', 'somberCod8452@icloud.com', 'joyfulVenison6060@gmail.com', 'pridefulBuck8335@icloud.com', 'selfishBasmati2000@hotmail.com', 'artisticTacos7452@proton.com', 'fondDoughnut4927@outlook.com', 'guiltyCardinal3824@proton.com', 'solidSheep7216@outlook.com', 'giddyCheetah9745@icloud.com', 'pluckyMacaw2231@icloud.com', 'hushedOil9777@proton.com', 'scornfulCoati1438@icloud.com', 'resolvedCod5392@outlook.com', 'grumpyCow6508@icloud.com', 'amazedMoth0683@outlook.com', 'mercifulCheetah9150@proton.com', 'thrilledThrushe4101@outlook.com', 'crummyPolenta1401@icloud.com', 'tautTacos4135@hotmail.com', 'boredTortoise1055@hotmail.com', 'crushedLollies6670@outlook.com', 'similarCardinal3436@icloud.com', 'lazyToucan3860@gmail.com', 'dopeyGatorade1019@gmail.com', 'emptyMacaw4468@yahoo.com', 'excludedPorpoise4252@icloud.com', 'emptyMussel0325@outlook.com', 'crushedMallard7339@outlook.com', 'sheepishSheep9611@outlook.com', 'peskyFlamingo7657@proton.com', 'excludedTeal8756@gmail.com', 'peskyCoconut7276@outlook.com', 'shamefulIguana0780@yahoo.com', 'brainyLlama9557@gmail.com', 'joyfulMacaw9993@yahoo.com', 'scornfulDove3185@gmail.com', 'alertDoughnut7481@yahoo.com', 'trustingCrane4883@icloud.com', 'affectedPup0249@outlook.com', 'worldlyMackerel2662@hotmail.com', 'troubledThrushe9146@proton.com', 'aboardUnicorn8967@outlook.com', 'dreadfulKitten0985@proton.com', 'brainyBittern0336@icloud.com', 'pridefulChamois9218@proton.com', 'jumpyBuck8498@outlook.com', 'finickySwift5808@icloud.com', 'mildChowder7653@yahoo.com', 'aloofBasmati5005@yahoo.com', 'grizzledDingo0438@hotmail.com', 'dreadfulBobolink0484@proton.com', 'pacifiedRaisins7330@outlook.com', 'boredEggs0834@outlook.com', 'anxiousTeal2015@gmail.com', 'betrayedHeron3360@hotmail.com', 'grumpyFish4017@hotmail.com', 'somberJerky8901@icloud.com', 'scornfulBoa6602@yahoo.com', 'boredEggs0225@outlook.com', 'mellowPudding2026@outlook.com', 'amusedIcecream0506@outlook.com', 'cruelCaviar1334@outlook.com', 'peskyPudding8206@hotmail.com', 'cruelWidgeon9579@hotmail.com', 'gutturalRhino1711@yahoo.com', 'mellowCheese4272@gmail.com', 'curiousBaboon5744@icloud.com', 'truthfulHawk9561@yahoo.com', 'puzzledFish5776@hotmail.com', 'betrayedLizard5694@gmail.com', 'selfishApples3642@hotmail.com', 'goofyMare7910@outlook.com', 'ferventAbalone7081@proton.com', 'brainyFish3571@hotmail.com', 'crushedHyena6043@yahoo.com', 'cautiousPonie3736@gmail.com', 'wornoutChamois3020@hotmail.com', 'worldlyCow6773@gmail.com', 'mercifulSmelt7471@proton.com', 'enviousMoth4516@yahoo.com', 'soreEggs6451@yahoo.com', 'spiritedHeron5223@yahoo.com', 'puzzledBagels7691@hotmail.com', 'unhappyPorpoise4277@proton.com', 'brainyGranola0883@gmail.com', 'cockyTruffle7952@icloud.com', 'offendedIguana0059@yahoo.com', 'boastfulWasp1154@gmail.com', 'jumpyTomatoe4555@gmail.com', 'peskyJaguar5956@icloud.com', 'peacefulKitten4282@yahoo.com', 'mellowSalami5497@icloud.com', 'exactingZebra6270@icloud.com', 'lyingMussel8944@proton.com', 'sheepishOatmeal5286@yahoo.com', 'jealousPlover2299@hotmail.com', 'finickyRat1900@icloud.com', 'anxiousWasp6788@outlook.com', 'enviousPie8891@hotmail.com', 'wingedLeopard7878@hotmail.com', 'madZebra1244@icloud.com', 'stressedBittern3064@yahoo.com', 'ardentLapwing0588@gmail.com', 'excludedCoconut6557@yahoo.com', 'amazedRhino8622@gmail.com', 'crummyPudding5519@icloud.com', 'joyfulCockatoo5977@hotmail.com', 'dopeyBass1665@proton.com', 'brainyMagpie7608@proton.com', 'zestyTermite5310@yahoo.com', 'blissfulCow2350@gmail.com', 'jumpyCaviar5364@icloud.com', 'joyfulMandrill4830@yahoo.com', 'pluckyMuesli3961@icloud.com', 'jubilantWildfowl6521@yahoo.com', 'decimalAbalone6779@outlook.com', 'peacefulEggs3191@yahoo.com', 'guiltyMoth4337@icloud.com', 'giddyMandrill6475@gmail.com', 'obsessedCake8683@yahoo.com', 'excludedPoultry2788@hotmail.com', 'grumpyFish5094@icloud.com', 'importedJerky1918@yahoo.com', 'importedOwl7056@icloud.com', 'selfishDinosaur9598@icloud.com', 'resolvedMoth3943@yahoo.com', 'needfulZebra5962@gmail.com', 'soreCaribou0431@outlook.com', 'thriftyMoth4270@icloud.com', 'jumpyBasmati9859@proton.com', 'annoyedSalt4842@hotmail.com', 'worriedSyrup7917@yahoo.com', 'madWildfowl7630@gmail.com', 'brainyRice8142@icloud.com', 'insecureShads2204@proton.com', 'obsessedSwift1187@outlook.com', 'ferventRhino1271@outlook.com', 'dejectedPolenta7016@proton.com', 'crushedRaisins0204@gmail.com', 'cautiousTortoise1671@yahoo.com', 'hushedSeahorse7404@icloud.com', 'guiltySnail8568@outlook.com', 'sincereGatorade8842@icloud.com', 'ferventHyena2884@outlook.com', 'brainyMagpie7048@gmail.com', 'outlyingCamel2337@icloud.com', 'needfulCardinal0741@proton.com', 'shamefulSalami8906@proton.com', 'wornoutDoughnut2488@outlook.com', 'brainySalt8580@proton.com', 'gutturalDotterel4945@icloud.com', 'grizzledFlamingo9139@proton.com', 'mellowCheese1411@icloud.com', 'joyfulCod3447@yahoo.com', 'worldlyPaella8406@yahoo.com', 'debonairChile3133@gmail.com', 'cruelGnu6026@gmail.com', 'drearyLemur9992@icloud.com', 'peacefulCoati5154@yahoo.com', 'soreTruffle3888@outlook.com', 'sheepishWidgeon1917@outlook.com', 'debonairPlover9126@icloud.com', 'madSardines6012@yahoo.com', 'abjectRuffs3176@proton.com', 'insecureIcecream8676@yahoo.com', 'affectedLollies9935@proton.com', 'pluckyApples4880@icloud.com', 'gloomyClam6755@gmail.com', 'hushedBobolink8263@outlook.com', 'soreDunbird3996@hotmail.com', 'murkySausage9688@yahoo.com', 'pluckyHoopoe3654@yahoo.com', 'solidEagle1834@icloud.com', 'needfulLeopard2944@gmail.com', 'cheerfulPear0374@hotmail.com', 'boastfulLlama7262@yahoo.com', 'guiltyDoughnut4476@yahoo.com', 'grizzledSnipe7992@outlook.com', 'culturedMandrill6815@yahoo.com'}\n",
      "TingkatPendidikan column :  {'Magister', 'Sarjana', 'Doktor'}\n",
      "PernahBekerja column :  {1, 'yes'}\n",
      "AlasanResign column :  {'ganti_karir', 'internal_conflict', 'leadership', 'Product Design (UI & UX)', 'jam_kerja', 'tidak_bahagia', 'toxic_culture', 'tidak_bisa_remote', 'apresiasi', 'masih_bekerja', 'kejelasan_karir'}\n",
      "TanggalLahir column :  {'1975-11-02', '1983-09-04', '1989-05-06', '1970-02-08', '1983-02-02', '1981-08-31', '1983-11-08', '1983-05-06', '1970-10-27', '1985-08-24', '1980-04-18', '1975-10-22', '1979-07-25', '1977-04-08', '1972-08-27', '1992-06-18', '1974-05-02', '1971-07-10', '1979-04-06', '1980-07-05', '1983-05-16', '1979-01-17', '1986-04-26', '1977-09-08', '1971-10-23', '1988-09-14', '1984-01-04', '1951-01-02', '1970-07-09', '1977-11-22', '1981-04-14', '1985-09-16', '1968-07-20', '1964-01-04', '1983-07-20', '1987-06-18', '1986-05-25', '1981-10-11', '1951-02-25', '1963-10-30', '1988-03-06', '1979-11-27', '1973-02-14', '1981-10-26', '1977-05-09', '1976-09-22', '1991-09-05', '1969-02-09', '1967-06-03', '1965-05-07', '1987-11-07', '1988-08-29', '1953-05-24', '1963-05-15', '1986-07-20', '1973-03-12', '1982-05-19', '1979-02-20', '1954-10-12', '1979-02-12', '1986-10-07', '1972-02-09', '1961-06-19', '1983-09-02', '1985-01-07', '1976-12-03', '1976-08-25', '1984-06-10', '1987-10-24', '1986-08-17', '1987-03-18', '1989-09-08', '1979-03-10', '1970-02-11', '1983-05-21', '1985-09-05', '1983-12-02', '1975-05-05', '1984-12-31', '1986-11-06', '1955-04-14', '1984-03-11', '1984-10-15', '1984-02-21', '1979-04-16', '1992-08-17', '1984-11-06', '1975-03-10', '1975-12-17', '1984-07-07', '1987-04-04', '1974-05-09', '1977-03-31', '1968-07-06', '1970-04-25', '1986-04-23', '1969-10-30', '1958-12-27', '1972-07-01', '1987-05-21', '1984-04-26', '1987-04-10', '1982-10-07', '1970-12-22', '1977-03-23', '1984-09-16', '1970-03-10', '1986-09-01', '1976-12-26', '1980-08-26', '1973-01-12', '1979-05-01', '1979-08-12', '1981-10-01', '1983-08-27', '1981-11-23', '1988-08-10', '1973-11-28', '1978-12-02', '1972-09-11', '1970-10-08', '1954-09-21', '1978-08-25', '1988-04-15', '1965-05-09', '1985-03-15', '1967-04-19', '1989-03-31', '1965-02-02', '1973-03-26', '1988-07-04', '1982-08-25', '1965-09-09', '1983-03-28', '1975-09-30', '1983-08-24', '1974-12-01', '1959-08-19', '1974-01-07', '1990-10-01', '1978-11-25', '1986-08-26', '1984-09-05', '1973-05-27', '1983-02-18', '1977-07-15', '1977-10-31', '1952-01-18', '1979-05-24', '1988-09-19', '1968-01-15', '1989-10-18', '1988-12-27', '1978-09-22', '1983-08-09', '1964-06-01', '1987-04-05', '1988-07-10', '1986-11-07', '1980-03-02', '1979-03-19', '1985-01-28', '1983-03-19', '1963-08-28', '1977-05-22', '1974-11-07', '1979-07-05', '1984-08-16', '1972-07-03', '1966-11-22', '1989-05-02', '1980-05-12', '1974-12-05', '1990-05-11', '1981-03-26', '1969-09-08', '1988-05-19', '1974-10-09', '1988-05-05', '1977-11-10', '1981-04-16', '1989-06-30', '1979-09-14', '1989-09-01', '1967-01-16', '1974-05-31', '1966-04-17', '1980-05-08', '1973-04-05', '1983-02-09', '1986-06-10', '1978-03-28', '1989-05-12', '1987-05-14', '1981-03-16', '1984-02-16', '1952-08-18', '1988-01-07', '1974-02-21', '1986-07-07', '1988-11-08', '1987-09-27', '1985-09-15', '1989-07-18', '1974-08-09', '1979-11-24', '1982-09-02', '1981-09-05', '1964-07-30', '1976-01-19', '1964-04-13', '1992-05-07', '1970-09-22', '1983-12-08', '1985-03-14', '1978-11-05', '1982-07-22', '1982-03-28', '1980-02-02', '1975-04-03', '1988-05-31', '1972-11-09', '1989-11-11', '1986-04-04', '1979-04-04', '1970-06-11', '1983-06-14', '1972-11-21', '1968-06-06', '1974-01-12', '1973-09-23', '1970-04-24', '1980-09-30', '1991-01-28', '1987-11-25', '1987-11-24', '1977-08-19', '1952-02-11', '1986-10-05', '1966-03-17', '1986-04-17', '1975-09-16', '1970-05-15', '1984-07-01', '1987-12-17', '1973-12-08', '1983-07-10', '1990-04-19', '1976-12-11', '1988-03-17', '1981-07-11', '1986-12-09', '1981-08-10', '1986-07-24', '1984-05-09', '1968-05-30', '1985-06-29', '1988-07-18', '1983-07-28', '1975-07-07', '1989-09-22', '1988-10-05', '1987-01-07', '1988-09-27', '1985-11-23', '1990-09-21', '1982-11-15', '1974-12-21', '1969-09-29', '1979-05-21', '1989-08-25', '1987-05-15', '1990-08-24', '1967-06-05', '1987-06-14', '1986-06-06', '1986-12-10', '1966-03-22', '1989-11-24', '1981-10-18', '1976-11-15', '1968-08-15', '1964-10-12', '1969-02-24'}\n",
      "TanggalHiring column :  {'2017-4-20', '2011-5-16', '2014-9-30', '2012-9-24', '2009-4-27', '2012-10-02', '2012-8-13', '2015-05-01', '2013-07-08', '2011-07-05', '2009-07-06', '2011-09-06', '2011-05-02', '2012-8-16', '2011-5-31', '2012-07-02', '2009-01-05', '2010-9-27', '2010-7-20', '2017-01-07', '2006-01-09', '2016-07-06', '2014-2-17', '2015-01-05', '2008-10-27', '2015-2-16', '2012-07-09', '2010-4-26', '2011-10-03', '2016-09-06', '2007-6-25', '2009-01-08', '2012-2-15', '2013-2-18', '2011-01-10', '2012-4-30', '2016-1-28', '2014-07-07', '2012-03-07', '2007-11-05', '2015-06-05', '2016-10-02', '2016-01-05', '2016-06-06', '2014-01-06', '2010-05-01', '2012-04-02', '2012-2-20', '2016-07-04', '2011-2-21', '2012-01-09', '2015-05-11', '2013-1-20', '2009-10-26', '2018-07-09', '2015-06-02', '2011-6-27', '2017-2-15', '2012-11-05', '2017-02-10', '2014-05-12', '2011-02-07', '2011-8-15', '2011-07-11', '2013-01-07', '2011-06-10', '2013-04-01', '2012-03-05', '2011-04-04', '2016-7-21', '2012-5-14', '2010-10-25', '2011-9-26', '2010-8-30', '2014-11-10', '2013-11-11', '2011-03-07', '2015-3-30', '2013-8-19', '2008-01-07', '2011-1-21', '2014-3-31', '2014-5-18', '2016-05-11', '2012-09-05', '2014-01-05', '2013-9-30', '2011-11-07', '2011-4-15', '2014-9-29', '2013-5-13', '2014-12-01', '2014-8-18', '2014-9-18', '2014-05-05', '2011-11-28', '2016-6-30'}\n",
      "TanggalPenilaianKaryawan column :  {'2017-05-01', '2017-1-16', '2020-1-21', '2014-04-05', '2020-2-19', '2019-2-14', '2013-08-10', '2020-02-04', '2020-1-25', '2017-02-04', '2018-07-02', '2020-1-18', '2011-7-14', '2020-01-04', '2020-1-30', '2013-07-02', '2020-02-08', '2020-1-16', '2014-04-02', '2017-02-01', '2016-05-02', '2016-03-10', '2020-2-26', '2019-04-12', '2020-2-22', '2020-2-15', '2020-1-28', '2015-03-04', '2017-1-30', '2016-8-16', '2017-03-02', '2012-10-22', '2016-03-02', '2017-04-05', '2018-1-15', '2014-03-04', '2016-02-06', '2020-02-12', '2018-04-06', '2014-2-20', '2017-4-29', '2017-02-05', '2013-2-15', '2015-01-05', '2012-03-06', '2016-03-05', '2020-2-25', '2016-1-20', '2020-02-01', '2015-2-20', '2019-02-04', '2016-03-01', '2017-05-06', '2020-1-29', '2020-2-21', '2020-2-27', '2020-1-24', '2017-02-03', '2019-07-02', '2016-1-15', '2014-07-02', '2018-04-09', '2014-03-02', '2016-4-15', '2020-1-17', '2019-02-05', '2017-2-24', '2020-2-28', '2016-02-02', '2020-02-11', '2014-06-03', '2020-02-06', '2014-3-30', '2014-02-10', '2020-01-11', '2020-2-13', '2020-01-10', '2018-04-01', '2018-02-12', '2018-4-18', '2019-03-09', '2015-1-15', '2015-5-13', '2020-2-14', '2020-01-07', '2016-01-04', '2016-4-20', '2019-2-13', '2013-01-06', '2013-01-07', '2019-03-02', '2017-06-10', '2016-01-10', '2019-04-02', '2013-05-03', '2017-03-06', '2020-01-08', '2016-2-15', '2020-2-18', '2015-4-19', '2020-1-22', '2014-01-10', '2016-3-30', '2020-1-15', '2017-01-10', '2018-04-05', '2013-2-20', '2018-03-02', '2012-05-04', '2013-5-15', '2020-02-07', '2020-01-02', '2020-1-14', '2014-1-30', '2020-1-23', '2014-02-01', '2020-1-31', '2014-8-15', '2013-03-05', '2013-04-12', '2016-05-06', '2020-01-03', '2016-04-02', '2020-1-27', '2020-1-19', '2017-04-02', '2014-1-14'}\n",
      "TanggalResign column :  {'2017-12-12', '2018-6-16', '2020-4-29', '2017-3-15', '2015-6-18', '2018-2-19', '2017-12-15', '2017-09-12', '-', '2016-3-31', '2016-04-04', '2018-04-01', '2018-9-23', '2020-2-25', '2018-09-06', '2018-9-19', '2019-04-06', '2017-11-14', '2019-9-26', '2019-06-06', '2015-01-07', '2020-8-19', '2013-9-26', '2014-9-24', '2015-4-15', '2015-04-01', '2014-8-19', '2016-01-11', '2017-09-05', '2016-4-24', '2016-01-09', '2017-06-04', '2016-08-07', '2013-5-30', '2015-6-24', '2017-6-25', '2015-01-09', '2015-06-05', '2017-11-04', '2019-01-12', '2017-11-15', '2016-08-02', '2019-08-04', '2018-5-17', '2018-06-08', '2015-6-15', '2016-10-31', '2017-4-15', '2020-9-27', '2020-9-26', '2014-04-07', '2018-9-15', '2018-11-15'}\n"
     ]
    }
   ],
   "source": [
    "for i in df.select_dtypes('object').columns:\n",
    "    print(i, 'column : ', set(df[i]))"
   ]
  },
  {
   "attachments": {},
   "cell_type": "markdown",
   "metadata": {},
   "source": [
    "Terlihat ada incorrect data pada kolom PernahBekerja dan StatusPernikahan."
   ]
  },
  {
   "cell_type": "code",
   "execution_count": 115,
   "metadata": {},
   "outputs": [
    {
     "name": "stdout",
     "output_type": "stream",
     "text": [
      "{'Yes', 'No'}\n",
      "{'Menikah', 'Bercerai', 'Belum_menikah', 'Lainnya'}\n"
     ]
    }
   ],
   "source": [
    "df['PernahBekerja'] = df['PernahBekerja'].replace({'yes':'Yes', 1:'No'})\n",
    "print(set(df['PernahBekerja']))\n",
    "df['StatusPernikahan'] = df['StatusPernikahan'].replace({'-':'Lainnya'})\n",
    "print(set(df['StatusPernikahan']))"
   ]
  },
  {
   "attachments": {},
   "cell_type": "markdown",
   "metadata": {},
   "source": [
    "**Create New Column**"
   ]
  },
  {
   "attachments": {},
   "cell_type": "markdown",
   "metadata": {},
   "source": [
    "**Resign Column**"
   ]
  },
  {
   "attachments": {},
   "cell_type": "markdown",
   "metadata": {},
   "source": [
    "Selanjutnya, untuk memudahkan kita dalam mengidentifikasi karyawan yang stay atau resign, kita buat kolom baru yaitu Resign."
   ]
  },
  {
   "cell_type": "code",
   "execution_count": 116,
   "metadata": {},
   "outputs": [
    {
     "data": {
      "text/plain": [
       "{'No', 'Yes'}"
      ]
     },
     "execution_count": 116,
     "metadata": {},
     "output_type": "execute_result"
    }
   ],
   "source": [
    "# Resign status\n",
    "df['Resign'] = df['TanggalResign'].apply(lambda x: 'No' if x == '-' else 'Yes')\n",
    "set(df['Resign'])"
   ]
  },
  {
   "attachments": {},
   "cell_type": "markdown",
   "metadata": {},
   "source": [
    "**Age column**"
   ]
  },
  {
   "attachments": {},
   "cell_type": "markdown",
   "metadata": {},
   "source": [
    "Selanjutnya, dibuat kolom Age untuk melihat usia karyawan"
   ]
  },
  {
   "cell_type": "code",
   "execution_count": 117,
   "metadata": {},
   "outputs": [],
   "source": [
    "# Age\n",
    "from datetime import datetime\n",
    "now = datetime.now()\n",
    "df['TanggalLahir'] = pd.to_datetime(df['TanggalLahir'])\n",
    "# Menghitung jarak tahun\n",
    "df['Age'] = now.year - df['TanggalLahir'].dt.year"
   ]
  },
  {
   "attachments": {},
   "cell_type": "markdown",
   "metadata": {},
   "source": [
    "### Exploratory Data Analysis"
   ]
  },
  {
   "attachments": {},
   "cell_type": "markdown",
   "metadata": {},
   "source": [
    "Exploratory Data Analysis dilakukan untuk menggali insight dari data. Hal utama yang ingin kita ketahui adalah bagaimana keadaan karyawan secara keseluruhan, bagaimana karakteristik karyawan yang stay dan resign."
   ]
  },
  {
   "attachments": {},
   "cell_type": "markdown",
   "metadata": {},
   "source": [
    "### Analisis Keseluruhan karyawan"
   ]
  },
  {
   "attachments": {},
   "cell_type": "markdown",
   "metadata": {},
   "source": [
    "**Persentase Karyawan Resign**"
   ]
  },
  {
   "cell_type": "code",
   "execution_count": 118,
   "metadata": {},
   "outputs": [
    {
     "data": {
      "application/vnd.plotly.v1+json": {
       "config": {
        "plotlyServerURL": "https://plot.ly"
       },
       "data": [
        {
         "customdata": [
          [
           "No"
          ],
          [
           "Yes"
          ]
         ],
         "domain": {
          "x": [
           0,
           1
          ],
          "y": [
           0,
           1
          ]
         },
         "hole": 0.5,
         "hovertemplate": "label=%{label}<br>value=%{value}<br>color=%{customdata[0]}<extra></extra>",
         "labels": [
          "Stay",
          "Resign"
         ],
         "legendgroup": "",
         "marker": {
          "colors": [
           "#4B878B",
           "#921416"
          ]
         },
         "name": "",
         "pull": [
          0.1,
          0,
          0,
          0,
          0
         ],
         "rotation": -115,
         "showlegend": true,
         "textfont": {
          "color": "black",
          "size": 13
         },
         "textinfo": "label+percent",
         "textposition": "outside",
         "type": "pie",
         "values": [
          198,
          89
         ]
        }
       ],
       "layout": {
        "legend": {
         "tracegroupgap": 0
        },
        "margin": {
         "t": 60
        },
        "template": {
         "data": {
          "bar": [
           {
            "error_x": {
             "color": "#2a3f5f"
            },
            "error_y": {
             "color": "#2a3f5f"
            },
            "marker": {
             "line": {
              "color": "#E5ECF6",
              "width": 0.5
             },
             "pattern": {
              "fillmode": "overlay",
              "size": 10,
              "solidity": 0.2
             }
            },
            "type": "bar"
           }
          ],
          "barpolar": [
           {
            "marker": {
             "line": {
              "color": "#E5ECF6",
              "width": 0.5
             },
             "pattern": {
              "fillmode": "overlay",
              "size": 10,
              "solidity": 0.2
             }
            },
            "type": "barpolar"
           }
          ],
          "carpet": [
           {
            "aaxis": {
             "endlinecolor": "#2a3f5f",
             "gridcolor": "white",
             "linecolor": "white",
             "minorgridcolor": "white",
             "startlinecolor": "#2a3f5f"
            },
            "baxis": {
             "endlinecolor": "#2a3f5f",
             "gridcolor": "white",
             "linecolor": "white",
             "minorgridcolor": "white",
             "startlinecolor": "#2a3f5f"
            },
            "type": "carpet"
           }
          ],
          "choropleth": [
           {
            "colorbar": {
             "outlinewidth": 0,
             "ticks": ""
            },
            "type": "choropleth"
           }
          ],
          "contour": [
           {
            "colorbar": {
             "outlinewidth": 0,
             "ticks": ""
            },
            "colorscale": [
             [
              0,
              "#0d0887"
             ],
             [
              0.1111111111111111,
              "#46039f"
             ],
             [
              0.2222222222222222,
              "#7201a8"
             ],
             [
              0.3333333333333333,
              "#9c179e"
             ],
             [
              0.4444444444444444,
              "#bd3786"
             ],
             [
              0.5555555555555556,
              "#d8576b"
             ],
             [
              0.6666666666666666,
              "#ed7953"
             ],
             [
              0.7777777777777778,
              "#fb9f3a"
             ],
             [
              0.8888888888888888,
              "#fdca26"
             ],
             [
              1,
              "#f0f921"
             ]
            ],
            "type": "contour"
           }
          ],
          "contourcarpet": [
           {
            "colorbar": {
             "outlinewidth": 0,
             "ticks": ""
            },
            "type": "contourcarpet"
           }
          ],
          "heatmap": [
           {
            "colorbar": {
             "outlinewidth": 0,
             "ticks": ""
            },
            "colorscale": [
             [
              0,
              "#0d0887"
             ],
             [
              0.1111111111111111,
              "#46039f"
             ],
             [
              0.2222222222222222,
              "#7201a8"
             ],
             [
              0.3333333333333333,
              "#9c179e"
             ],
             [
              0.4444444444444444,
              "#bd3786"
             ],
             [
              0.5555555555555556,
              "#d8576b"
             ],
             [
              0.6666666666666666,
              "#ed7953"
             ],
             [
              0.7777777777777778,
              "#fb9f3a"
             ],
             [
              0.8888888888888888,
              "#fdca26"
             ],
             [
              1,
              "#f0f921"
             ]
            ],
            "type": "heatmap"
           }
          ],
          "heatmapgl": [
           {
            "colorbar": {
             "outlinewidth": 0,
             "ticks": ""
            },
            "colorscale": [
             [
              0,
              "#0d0887"
             ],
             [
              0.1111111111111111,
              "#46039f"
             ],
             [
              0.2222222222222222,
              "#7201a8"
             ],
             [
              0.3333333333333333,
              "#9c179e"
             ],
             [
              0.4444444444444444,
              "#bd3786"
             ],
             [
              0.5555555555555556,
              "#d8576b"
             ],
             [
              0.6666666666666666,
              "#ed7953"
             ],
             [
              0.7777777777777778,
              "#fb9f3a"
             ],
             [
              0.8888888888888888,
              "#fdca26"
             ],
             [
              1,
              "#f0f921"
             ]
            ],
            "type": "heatmapgl"
           }
          ],
          "histogram": [
           {
            "marker": {
             "pattern": {
              "fillmode": "overlay",
              "size": 10,
              "solidity": 0.2
             }
            },
            "type": "histogram"
           }
          ],
          "histogram2d": [
           {
            "colorbar": {
             "outlinewidth": 0,
             "ticks": ""
            },
            "colorscale": [
             [
              0,
              "#0d0887"
             ],
             [
              0.1111111111111111,
              "#46039f"
             ],
             [
              0.2222222222222222,
              "#7201a8"
             ],
             [
              0.3333333333333333,
              "#9c179e"
             ],
             [
              0.4444444444444444,
              "#bd3786"
             ],
             [
              0.5555555555555556,
              "#d8576b"
             ],
             [
              0.6666666666666666,
              "#ed7953"
             ],
             [
              0.7777777777777778,
              "#fb9f3a"
             ],
             [
              0.8888888888888888,
              "#fdca26"
             ],
             [
              1,
              "#f0f921"
             ]
            ],
            "type": "histogram2d"
           }
          ],
          "histogram2dcontour": [
           {
            "colorbar": {
             "outlinewidth": 0,
             "ticks": ""
            },
            "colorscale": [
             [
              0,
              "#0d0887"
             ],
             [
              0.1111111111111111,
              "#46039f"
             ],
             [
              0.2222222222222222,
              "#7201a8"
             ],
             [
              0.3333333333333333,
              "#9c179e"
             ],
             [
              0.4444444444444444,
              "#bd3786"
             ],
             [
              0.5555555555555556,
              "#d8576b"
             ],
             [
              0.6666666666666666,
              "#ed7953"
             ],
             [
              0.7777777777777778,
              "#fb9f3a"
             ],
             [
              0.8888888888888888,
              "#fdca26"
             ],
             [
              1,
              "#f0f921"
             ]
            ],
            "type": "histogram2dcontour"
           }
          ],
          "mesh3d": [
           {
            "colorbar": {
             "outlinewidth": 0,
             "ticks": ""
            },
            "type": "mesh3d"
           }
          ],
          "parcoords": [
           {
            "line": {
             "colorbar": {
              "outlinewidth": 0,
              "ticks": ""
             }
            },
            "type": "parcoords"
           }
          ],
          "pie": [
           {
            "automargin": true,
            "type": "pie"
           }
          ],
          "scatter": [
           {
            "fillpattern": {
             "fillmode": "overlay",
             "size": 10,
             "solidity": 0.2
            },
            "type": "scatter"
           }
          ],
          "scatter3d": [
           {
            "line": {
             "colorbar": {
              "outlinewidth": 0,
              "ticks": ""
             }
            },
            "marker": {
             "colorbar": {
              "outlinewidth": 0,
              "ticks": ""
             }
            },
            "type": "scatter3d"
           }
          ],
          "scattercarpet": [
           {
            "marker": {
             "colorbar": {
              "outlinewidth": 0,
              "ticks": ""
             }
            },
            "type": "scattercarpet"
           }
          ],
          "scattergeo": [
           {
            "marker": {
             "colorbar": {
              "outlinewidth": 0,
              "ticks": ""
             }
            },
            "type": "scattergeo"
           }
          ],
          "scattergl": [
           {
            "marker": {
             "colorbar": {
              "outlinewidth": 0,
              "ticks": ""
             }
            },
            "type": "scattergl"
           }
          ],
          "scattermapbox": [
           {
            "marker": {
             "colorbar": {
              "outlinewidth": 0,
              "ticks": ""
             }
            },
            "type": "scattermapbox"
           }
          ],
          "scatterpolar": [
           {
            "marker": {
             "colorbar": {
              "outlinewidth": 0,
              "ticks": ""
             }
            },
            "type": "scatterpolar"
           }
          ],
          "scatterpolargl": [
           {
            "marker": {
             "colorbar": {
              "outlinewidth": 0,
              "ticks": ""
             }
            },
            "type": "scatterpolargl"
           }
          ],
          "scatterternary": [
           {
            "marker": {
             "colorbar": {
              "outlinewidth": 0,
              "ticks": ""
             }
            },
            "type": "scatterternary"
           }
          ],
          "surface": [
           {
            "colorbar": {
             "outlinewidth": 0,
             "ticks": ""
            },
            "colorscale": [
             [
              0,
              "#0d0887"
             ],
             [
              0.1111111111111111,
              "#46039f"
             ],
             [
              0.2222222222222222,
              "#7201a8"
             ],
             [
              0.3333333333333333,
              "#9c179e"
             ],
             [
              0.4444444444444444,
              "#bd3786"
             ],
             [
              0.5555555555555556,
              "#d8576b"
             ],
             [
              0.6666666666666666,
              "#ed7953"
             ],
             [
              0.7777777777777778,
              "#fb9f3a"
             ],
             [
              0.8888888888888888,
              "#fdca26"
             ],
             [
              1,
              "#f0f921"
             ]
            ],
            "type": "surface"
           }
          ],
          "table": [
           {
            "cells": {
             "fill": {
              "color": "#EBF0F8"
             },
             "line": {
              "color": "white"
             }
            },
            "header": {
             "fill": {
              "color": "#C8D4E3"
             },
             "line": {
              "color": "white"
             }
            },
            "type": "table"
           }
          ]
         },
         "layout": {
          "annotationdefaults": {
           "arrowcolor": "#2a3f5f",
           "arrowhead": 0,
           "arrowwidth": 1
          },
          "autotypenumbers": "strict",
          "coloraxis": {
           "colorbar": {
            "outlinewidth": 0,
            "ticks": ""
           }
          },
          "colorscale": {
           "diverging": [
            [
             0,
             "#8e0152"
            ],
            [
             0.1,
             "#c51b7d"
            ],
            [
             0.2,
             "#de77ae"
            ],
            [
             0.3,
             "#f1b6da"
            ],
            [
             0.4,
             "#fde0ef"
            ],
            [
             0.5,
             "#f7f7f7"
            ],
            [
             0.6,
             "#e6f5d0"
            ],
            [
             0.7,
             "#b8e186"
            ],
            [
             0.8,
             "#7fbc41"
            ],
            [
             0.9,
             "#4d9221"
            ],
            [
             1,
             "#276419"
            ]
           ],
           "sequential": [
            [
             0,
             "#0d0887"
            ],
            [
             0.1111111111111111,
             "#46039f"
            ],
            [
             0.2222222222222222,
             "#7201a8"
            ],
            [
             0.3333333333333333,
             "#9c179e"
            ],
            [
             0.4444444444444444,
             "#bd3786"
            ],
            [
             0.5555555555555556,
             "#d8576b"
            ],
            [
             0.6666666666666666,
             "#ed7953"
            ],
            [
             0.7777777777777778,
             "#fb9f3a"
            ],
            [
             0.8888888888888888,
             "#fdca26"
            ],
            [
             1,
             "#f0f921"
            ]
           ],
           "sequentialminus": [
            [
             0,
             "#0d0887"
            ],
            [
             0.1111111111111111,
             "#46039f"
            ],
            [
             0.2222222222222222,
             "#7201a8"
            ],
            [
             0.3333333333333333,
             "#9c179e"
            ],
            [
             0.4444444444444444,
             "#bd3786"
            ],
            [
             0.5555555555555556,
             "#d8576b"
            ],
            [
             0.6666666666666666,
             "#ed7953"
            ],
            [
             0.7777777777777778,
             "#fb9f3a"
            ],
            [
             0.8888888888888888,
             "#fdca26"
            ],
            [
             1,
             "#f0f921"
            ]
           ]
          },
          "colorway": [
           "#636efa",
           "#EF553B",
           "#00cc96",
           "#ab63fa",
           "#FFA15A",
           "#19d3f3",
           "#FF6692",
           "#B6E880",
           "#FF97FF",
           "#FECB52"
          ],
          "font": {
           "color": "#2a3f5f"
          },
          "geo": {
           "bgcolor": "white",
           "lakecolor": "white",
           "landcolor": "#E5ECF6",
           "showlakes": true,
           "showland": true,
           "subunitcolor": "white"
          },
          "hoverlabel": {
           "align": "left"
          },
          "hovermode": "closest",
          "mapbox": {
           "style": "light"
          },
          "paper_bgcolor": "white",
          "plot_bgcolor": "#E5ECF6",
          "polar": {
           "angularaxis": {
            "gridcolor": "white",
            "linecolor": "white",
            "ticks": ""
           },
           "bgcolor": "#E5ECF6",
           "radialaxis": {
            "gridcolor": "white",
            "linecolor": "white",
            "ticks": ""
           }
          },
          "scene": {
           "xaxis": {
            "backgroundcolor": "#E5ECF6",
            "gridcolor": "white",
            "gridwidth": 2,
            "linecolor": "white",
            "showbackground": true,
            "ticks": "",
            "zerolinecolor": "white"
           },
           "yaxis": {
            "backgroundcolor": "#E5ECF6",
            "gridcolor": "white",
            "gridwidth": 2,
            "linecolor": "white",
            "showbackground": true,
            "ticks": "",
            "zerolinecolor": "white"
           },
           "zaxis": {
            "backgroundcolor": "#E5ECF6",
            "gridcolor": "white",
            "gridwidth": 2,
            "linecolor": "white",
            "showbackground": true,
            "ticks": "",
            "zerolinecolor": "white"
           }
          },
          "shapedefaults": {
           "line": {
            "color": "#2a3f5f"
           }
          },
          "ternary": {
           "aaxis": {
            "gridcolor": "white",
            "linecolor": "white",
            "ticks": ""
           },
           "baxis": {
            "gridcolor": "white",
            "linecolor": "white",
            "ticks": ""
           },
           "bgcolor": "#E5ECF6",
           "caxis": {
            "gridcolor": "white",
            "linecolor": "white",
            "ticks": ""
           }
          },
          "title": {
           "x": 0.05
          },
          "xaxis": {
           "automargin": true,
           "gridcolor": "white",
           "linecolor": "white",
           "ticks": "",
           "title": {
            "standoff": 15
           },
           "zerolinecolor": "white",
           "zerolinewidth": 2
          },
          "yaxis": {
           "automargin": true,
           "gridcolor": "white",
           "linecolor": "white",
           "ticks": "",
           "title": {
            "standoff": 15
           },
           "zerolinecolor": "white",
           "zerolinewidth": 2
          }
         }
        },
        "title": {
         "font": {
          "size": 16
         },
         "text": "<b>Client Risk Level</b>"
        },
        "width": 550
       }
      }
     },
     "metadata": {},
     "output_type": "display_data"
    }
   ],
   "source": [
    "label = ['Stay', 'Resign']\n",
    "resign_stay_plot = px.pie(df, values=df['Resign'].value_counts().values, color=df['Resign'].value_counts().index, names=label, color_discrete_map = {'No':'#4B878B', 'Yes':'#921416'}, hole=0.5, width = 550)\n",
    "resign_stay_plot.update_traces(textposition=\"outside\", textfont=dict(color=\"black\",size=13), textinfo=\"label+percent\",pull=[0.1,0,0,0,0],rotation = -115)\n",
    "resign_stay_plot.update_layout(title=\"<b>Client Risk Level</b>\", title_font=dict(size=16))\n",
    "resign_stay_plot"
   ]
  },
  {
   "attachments": {},
   "cell_type": "markdown",
   "metadata": {},
   "source": [
    "Dalam rentang tahun 2006 hingga 2020, terdapat 31% karyawan yang resign."
   ]
  },
  {
   "attachments": {},
   "cell_type": "markdown",
   "metadata": {},
   "source": [
    "Selanjutnya kita akan lihat bagaimana data karyawan masuk dan resign tiap tahunnya."
   ]
  },
  {
   "cell_type": "code",
   "execution_count": 119,
   "metadata": {},
   "outputs": [],
   "source": [
    "# Create Hiring Year\n",
    "df['TanggalHiring'] = pd.to_datetime(df['TanggalHiring'])\n",
    "df['TahunHiring'] = df['TanggalHiring'].dt.year\n",
    "\n",
    "list = []\n",
    "for index, i in df.iterrows():\n",
    "    if i['TanggalResign'] == '-':\n",
    "        list.append('-')\n",
    "    else:\n",
    "        list.append(pd.to_datetime(i['TanggalResign']).year)\n",
    "df['TahunResign'] = list"
   ]
  },
  {
   "cell_type": "code",
   "execution_count": 120,
   "metadata": {},
   "outputs": [
    {
     "data": {
      "text/html": [
       "<div>\n",
       "<style scoped>\n",
       "    .dataframe tbody tr th:only-of-type {\n",
       "        vertical-align: middle;\n",
       "    }\n",
       "\n",
       "    .dataframe tbody tr th {\n",
       "        vertical-align: top;\n",
       "    }\n",
       "\n",
       "    .dataframe thead th {\n",
       "        text-align: right;\n",
       "    }\n",
       "</style>\n",
       "<table border=\"1\" class=\"dataframe\">\n",
       "  <thead>\n",
       "    <tr style=\"text-align: right;\">\n",
       "      <th></th>\n",
       "      <th>Tahun</th>\n",
       "      <th>Hiring</th>\n",
       "      <th>Resign</th>\n",
       "      <th>TotalKaryawan</th>\n",
       "      <th>ResignRate (%)</th>\n",
       "    </tr>\n",
       "  </thead>\n",
       "  <tbody>\n",
       "    <tr>\n",
       "      <th>0</th>\n",
       "      <td>2006</td>\n",
       "      <td>1.0</td>\n",
       "      <td>0.0</td>\n",
       "      <td>1.0</td>\n",
       "      <td>0.00</td>\n",
       "    </tr>\n",
       "    <tr>\n",
       "      <th>1</th>\n",
       "      <td>2007</td>\n",
       "      <td>2.0</td>\n",
       "      <td>0.0</td>\n",
       "      <td>3.0</td>\n",
       "      <td>0.00</td>\n",
       "    </tr>\n",
       "    <tr>\n",
       "      <th>2</th>\n",
       "      <td>2008</td>\n",
       "      <td>2.0</td>\n",
       "      <td>0.0</td>\n",
       "      <td>5.0</td>\n",
       "      <td>0.00</td>\n",
       "    </tr>\n",
       "    <tr>\n",
       "      <th>3</th>\n",
       "      <td>2009</td>\n",
       "      <td>7.0</td>\n",
       "      <td>0.0</td>\n",
       "      <td>12.0</td>\n",
       "      <td>0.00</td>\n",
       "    </tr>\n",
       "    <tr>\n",
       "      <th>4</th>\n",
       "      <td>2010</td>\n",
       "      <td>8.0</td>\n",
       "      <td>0.0</td>\n",
       "      <td>20.0</td>\n",
       "      <td>0.00</td>\n",
       "    </tr>\n",
       "    <tr>\n",
       "      <th>5</th>\n",
       "      <td>2011</td>\n",
       "      <td>76.0</td>\n",
       "      <td>0.0</td>\n",
       "      <td>96.0</td>\n",
       "      <td>0.00</td>\n",
       "    </tr>\n",
       "    <tr>\n",
       "      <th>6</th>\n",
       "      <td>2012</td>\n",
       "      <td>41.0</td>\n",
       "      <td>0.0</td>\n",
       "      <td>137.0</td>\n",
       "      <td>0.00</td>\n",
       "    </tr>\n",
       "    <tr>\n",
       "      <th>7</th>\n",
       "      <td>2013</td>\n",
       "      <td>43.0</td>\n",
       "      <td>5.0</td>\n",
       "      <td>175.0</td>\n",
       "      <td>2.86</td>\n",
       "    </tr>\n",
       "    <tr>\n",
       "      <th>8</th>\n",
       "      <td>2014</td>\n",
       "      <td>56.0</td>\n",
       "      <td>12.0</td>\n",
       "      <td>219.0</td>\n",
       "      <td>5.48</td>\n",
       "    </tr>\n",
       "    <tr>\n",
       "      <th>9</th>\n",
       "      <td>2015</td>\n",
       "      <td>31.0</td>\n",
       "      <td>8.0</td>\n",
       "      <td>242.0</td>\n",
       "      <td>3.31</td>\n",
       "    </tr>\n",
       "    <tr>\n",
       "      <th>10</th>\n",
       "      <td>2016</td>\n",
       "      <td>14.0</td>\n",
       "      <td>8.0</td>\n",
       "      <td>248.0</td>\n",
       "      <td>3.23</td>\n",
       "    </tr>\n",
       "    <tr>\n",
       "      <th>11</th>\n",
       "      <td>2017</td>\n",
       "      <td>5.0</td>\n",
       "      <td>19.0</td>\n",
       "      <td>234.0</td>\n",
       "      <td>8.12</td>\n",
       "    </tr>\n",
       "    <tr>\n",
       "      <th>12</th>\n",
       "      <td>2018</td>\n",
       "      <td>1.0</td>\n",
       "      <td>26.0</td>\n",
       "      <td>209.0</td>\n",
       "      <td>12.44</td>\n",
       "    </tr>\n",
       "    <tr>\n",
       "      <th>13</th>\n",
       "      <td>2019</td>\n",
       "      <td>0.0</td>\n",
       "      <td>5.0</td>\n",
       "      <td>204.0</td>\n",
       "      <td>2.45</td>\n",
       "    </tr>\n",
       "    <tr>\n",
       "      <th>14</th>\n",
       "      <td>2020</td>\n",
       "      <td>0.0</td>\n",
       "      <td>6.0</td>\n",
       "      <td>198.0</td>\n",
       "      <td>3.03</td>\n",
       "    </tr>\n",
       "  </tbody>\n",
       "</table>\n",
       "</div>"
      ],
      "text/plain": [
       "   Tahun  Hiring  Resign  TotalKaryawan  ResignRate (%)\n",
       "0   2006     1.0     0.0            1.0            0.00\n",
       "1   2007     2.0     0.0            3.0            0.00\n",
       "2   2008     2.0     0.0            5.0            0.00\n",
       "3   2009     7.0     0.0           12.0            0.00\n",
       "4   2010     8.0     0.0           20.0            0.00\n",
       "5   2011    76.0     0.0           96.0            0.00\n",
       "6   2012    41.0     0.0          137.0            0.00\n",
       "7   2013    43.0     5.0          175.0            2.86\n",
       "8   2014    56.0    12.0          219.0            5.48\n",
       "9   2015    31.0     8.0          242.0            3.31\n",
       "10  2016    14.0     8.0          248.0            3.23\n",
       "11  2017     5.0    19.0          234.0            8.12\n",
       "12  2018     1.0    26.0          209.0           12.44\n",
       "13  2019     0.0     5.0          204.0            2.45\n",
       "14  2020     0.0     6.0          198.0            3.03"
      ]
     },
     "execution_count": 120,
     "metadata": {},
     "output_type": "execute_result"
    }
   ],
   "source": [
    "hiringbyyear = df.groupby('TahunHiring').agg(count = ('EnterpriseID', 'nunique')).reset_index()\n",
    "resignbyyear = df.groupby('TahunResign').agg(count = ('EnterpriseID', 'nunique')).reset_index()\n",
    "Reportbyyear = pd.merge(hiringbyyear, resignbyyear, left_on='TahunHiring', right_on = 'TahunResign', how='outer')\n",
    "Reportbyyear['Tahun'] = [2006, 2007, 2008, 2009, 2010, 2011, 2012, 2013, 2014, 2015, 2016, 2017, 2018, 2019, 2020, '-']\n",
    "Reportbyyear = Reportbyyear[['Tahun', 'count_x', 'count_y']]\n",
    "Reportbyyear = Reportbyyear.rename({'count_x':'Hiring', 'count_y':'Resign'}, axis = 1)\n",
    "Reportbyyear[['Hiring', 'Resign']] = Reportbyyear[['Hiring', 'Resign']].fillna(0) \n",
    "Reportbyyear = Reportbyyear[Reportbyyear['Tahun'] != '-']\n",
    "Reportbyyear['TotalKaryawan'] = (Reportbyyear['Hiring'] - Reportbyyear['Resign']).cumsum()\n",
    "Reportbyyear['ResignRate (%)'] = ((Reportbyyear['Resign']/Reportbyyear['TotalKaryawan'])*100).round(2)\n",
    "Reportbyyear"
   ]
  },
  {
   "cell_type": "code",
   "execution_count": 121,
   "metadata": {},
   "outputs": [
    {
     "data": {
      "application/vnd.plotly.v1+json": {
       "config": {
        "plotlyServerURL": "https://plot.ly"
       },
       "data": [
        {
         "hovertemplate": "Tahun=%{x}<br>TotalKaryawan=%{text}<extra></extra>",
         "legendgroup": "",
         "line": {
          "color": "green",
          "dash": "solid"
         },
         "marker": {
          "symbol": "circle"
         },
         "mode": "text+markers+lines",
         "name": "",
         "orientation": "v",
         "showlegend": false,
         "text": [
          1,
          3,
          5,
          12,
          20,
          96,
          137,
          175,
          219,
          242,
          248,
          234,
          209,
          204,
          198
         ],
         "textposition": "top left",
         "type": "scatter",
         "x": [
          2006,
          2007,
          2008,
          2009,
          2010,
          2011,
          2012,
          2013,
          2014,
          2015,
          2016,
          2017,
          2018,
          2019,
          2020
         ],
         "xaxis": "x",
         "y": [
          1,
          3,
          5,
          12,
          20,
          96,
          137,
          175,
          219,
          242,
          248,
          234,
          209,
          204,
          198
         ],
         "yaxis": "y"
        }
       ],
       "layout": {
        "legend": {
         "tracegroupgap": 0
        },
        "margin": {
         "t": 60
        },
        "template": {
         "data": {
          "bar": [
           {
            "error_x": {
             "color": "#2a3f5f"
            },
            "error_y": {
             "color": "#2a3f5f"
            },
            "marker": {
             "line": {
              "color": "#E5ECF6",
              "width": 0.5
             },
             "pattern": {
              "fillmode": "overlay",
              "size": 10,
              "solidity": 0.2
             }
            },
            "type": "bar"
           }
          ],
          "barpolar": [
           {
            "marker": {
             "line": {
              "color": "#E5ECF6",
              "width": 0.5
             },
             "pattern": {
              "fillmode": "overlay",
              "size": 10,
              "solidity": 0.2
             }
            },
            "type": "barpolar"
           }
          ],
          "carpet": [
           {
            "aaxis": {
             "endlinecolor": "#2a3f5f",
             "gridcolor": "white",
             "linecolor": "white",
             "minorgridcolor": "white",
             "startlinecolor": "#2a3f5f"
            },
            "baxis": {
             "endlinecolor": "#2a3f5f",
             "gridcolor": "white",
             "linecolor": "white",
             "minorgridcolor": "white",
             "startlinecolor": "#2a3f5f"
            },
            "type": "carpet"
           }
          ],
          "choropleth": [
           {
            "colorbar": {
             "outlinewidth": 0,
             "ticks": ""
            },
            "type": "choropleth"
           }
          ],
          "contour": [
           {
            "colorbar": {
             "outlinewidth": 0,
             "ticks": ""
            },
            "colorscale": [
             [
              0,
              "#0d0887"
             ],
             [
              0.1111111111111111,
              "#46039f"
             ],
             [
              0.2222222222222222,
              "#7201a8"
             ],
             [
              0.3333333333333333,
              "#9c179e"
             ],
             [
              0.4444444444444444,
              "#bd3786"
             ],
             [
              0.5555555555555556,
              "#d8576b"
             ],
             [
              0.6666666666666666,
              "#ed7953"
             ],
             [
              0.7777777777777778,
              "#fb9f3a"
             ],
             [
              0.8888888888888888,
              "#fdca26"
             ],
             [
              1,
              "#f0f921"
             ]
            ],
            "type": "contour"
           }
          ],
          "contourcarpet": [
           {
            "colorbar": {
             "outlinewidth": 0,
             "ticks": ""
            },
            "type": "contourcarpet"
           }
          ],
          "heatmap": [
           {
            "colorbar": {
             "outlinewidth": 0,
             "ticks": ""
            },
            "colorscale": [
             [
              0,
              "#0d0887"
             ],
             [
              0.1111111111111111,
              "#46039f"
             ],
             [
              0.2222222222222222,
              "#7201a8"
             ],
             [
              0.3333333333333333,
              "#9c179e"
             ],
             [
              0.4444444444444444,
              "#bd3786"
             ],
             [
              0.5555555555555556,
              "#d8576b"
             ],
             [
              0.6666666666666666,
              "#ed7953"
             ],
             [
              0.7777777777777778,
              "#fb9f3a"
             ],
             [
              0.8888888888888888,
              "#fdca26"
             ],
             [
              1,
              "#f0f921"
             ]
            ],
            "type": "heatmap"
           }
          ],
          "heatmapgl": [
           {
            "colorbar": {
             "outlinewidth": 0,
             "ticks": ""
            },
            "colorscale": [
             [
              0,
              "#0d0887"
             ],
             [
              0.1111111111111111,
              "#46039f"
             ],
             [
              0.2222222222222222,
              "#7201a8"
             ],
             [
              0.3333333333333333,
              "#9c179e"
             ],
             [
              0.4444444444444444,
              "#bd3786"
             ],
             [
              0.5555555555555556,
              "#d8576b"
             ],
             [
              0.6666666666666666,
              "#ed7953"
             ],
             [
              0.7777777777777778,
              "#fb9f3a"
             ],
             [
              0.8888888888888888,
              "#fdca26"
             ],
             [
              1,
              "#f0f921"
             ]
            ],
            "type": "heatmapgl"
           }
          ],
          "histogram": [
           {
            "marker": {
             "pattern": {
              "fillmode": "overlay",
              "size": 10,
              "solidity": 0.2
             }
            },
            "type": "histogram"
           }
          ],
          "histogram2d": [
           {
            "colorbar": {
             "outlinewidth": 0,
             "ticks": ""
            },
            "colorscale": [
             [
              0,
              "#0d0887"
             ],
             [
              0.1111111111111111,
              "#46039f"
             ],
             [
              0.2222222222222222,
              "#7201a8"
             ],
             [
              0.3333333333333333,
              "#9c179e"
             ],
             [
              0.4444444444444444,
              "#bd3786"
             ],
             [
              0.5555555555555556,
              "#d8576b"
             ],
             [
              0.6666666666666666,
              "#ed7953"
             ],
             [
              0.7777777777777778,
              "#fb9f3a"
             ],
             [
              0.8888888888888888,
              "#fdca26"
             ],
             [
              1,
              "#f0f921"
             ]
            ],
            "type": "histogram2d"
           }
          ],
          "histogram2dcontour": [
           {
            "colorbar": {
             "outlinewidth": 0,
             "ticks": ""
            },
            "colorscale": [
             [
              0,
              "#0d0887"
             ],
             [
              0.1111111111111111,
              "#46039f"
             ],
             [
              0.2222222222222222,
              "#7201a8"
             ],
             [
              0.3333333333333333,
              "#9c179e"
             ],
             [
              0.4444444444444444,
              "#bd3786"
             ],
             [
              0.5555555555555556,
              "#d8576b"
             ],
             [
              0.6666666666666666,
              "#ed7953"
             ],
             [
              0.7777777777777778,
              "#fb9f3a"
             ],
             [
              0.8888888888888888,
              "#fdca26"
             ],
             [
              1,
              "#f0f921"
             ]
            ],
            "type": "histogram2dcontour"
           }
          ],
          "mesh3d": [
           {
            "colorbar": {
             "outlinewidth": 0,
             "ticks": ""
            },
            "type": "mesh3d"
           }
          ],
          "parcoords": [
           {
            "line": {
             "colorbar": {
              "outlinewidth": 0,
              "ticks": ""
             }
            },
            "type": "parcoords"
           }
          ],
          "pie": [
           {
            "automargin": true,
            "type": "pie"
           }
          ],
          "scatter": [
           {
            "fillpattern": {
             "fillmode": "overlay",
             "size": 10,
             "solidity": 0.2
            },
            "type": "scatter"
           }
          ],
          "scatter3d": [
           {
            "line": {
             "colorbar": {
              "outlinewidth": 0,
              "ticks": ""
             }
            },
            "marker": {
             "colorbar": {
              "outlinewidth": 0,
              "ticks": ""
             }
            },
            "type": "scatter3d"
           }
          ],
          "scattercarpet": [
           {
            "marker": {
             "colorbar": {
              "outlinewidth": 0,
              "ticks": ""
             }
            },
            "type": "scattercarpet"
           }
          ],
          "scattergeo": [
           {
            "marker": {
             "colorbar": {
              "outlinewidth": 0,
              "ticks": ""
             }
            },
            "type": "scattergeo"
           }
          ],
          "scattergl": [
           {
            "marker": {
             "colorbar": {
              "outlinewidth": 0,
              "ticks": ""
             }
            },
            "type": "scattergl"
           }
          ],
          "scattermapbox": [
           {
            "marker": {
             "colorbar": {
              "outlinewidth": 0,
              "ticks": ""
             }
            },
            "type": "scattermapbox"
           }
          ],
          "scatterpolar": [
           {
            "marker": {
             "colorbar": {
              "outlinewidth": 0,
              "ticks": ""
             }
            },
            "type": "scatterpolar"
           }
          ],
          "scatterpolargl": [
           {
            "marker": {
             "colorbar": {
              "outlinewidth": 0,
              "ticks": ""
             }
            },
            "type": "scatterpolargl"
           }
          ],
          "scatterternary": [
           {
            "marker": {
             "colorbar": {
              "outlinewidth": 0,
              "ticks": ""
             }
            },
            "type": "scatterternary"
           }
          ],
          "surface": [
           {
            "colorbar": {
             "outlinewidth": 0,
             "ticks": ""
            },
            "colorscale": [
             [
              0,
              "#0d0887"
             ],
             [
              0.1111111111111111,
              "#46039f"
             ],
             [
              0.2222222222222222,
              "#7201a8"
             ],
             [
              0.3333333333333333,
              "#9c179e"
             ],
             [
              0.4444444444444444,
              "#bd3786"
             ],
             [
              0.5555555555555556,
              "#d8576b"
             ],
             [
              0.6666666666666666,
              "#ed7953"
             ],
             [
              0.7777777777777778,
              "#fb9f3a"
             ],
             [
              0.8888888888888888,
              "#fdca26"
             ],
             [
              1,
              "#f0f921"
             ]
            ],
            "type": "surface"
           }
          ],
          "table": [
           {
            "cells": {
             "fill": {
              "color": "#EBF0F8"
             },
             "line": {
              "color": "white"
             }
            },
            "header": {
             "fill": {
              "color": "#C8D4E3"
             },
             "line": {
              "color": "white"
             }
            },
            "type": "table"
           }
          ]
         },
         "layout": {
          "annotationdefaults": {
           "arrowcolor": "#2a3f5f",
           "arrowhead": 0,
           "arrowwidth": 1
          },
          "autotypenumbers": "strict",
          "coloraxis": {
           "colorbar": {
            "outlinewidth": 0,
            "ticks": ""
           }
          },
          "colorscale": {
           "diverging": [
            [
             0,
             "#8e0152"
            ],
            [
             0.1,
             "#c51b7d"
            ],
            [
             0.2,
             "#de77ae"
            ],
            [
             0.3,
             "#f1b6da"
            ],
            [
             0.4,
             "#fde0ef"
            ],
            [
             0.5,
             "#f7f7f7"
            ],
            [
             0.6,
             "#e6f5d0"
            ],
            [
             0.7,
             "#b8e186"
            ],
            [
             0.8,
             "#7fbc41"
            ],
            [
             0.9,
             "#4d9221"
            ],
            [
             1,
             "#276419"
            ]
           ],
           "sequential": [
            [
             0,
             "#0d0887"
            ],
            [
             0.1111111111111111,
             "#46039f"
            ],
            [
             0.2222222222222222,
             "#7201a8"
            ],
            [
             0.3333333333333333,
             "#9c179e"
            ],
            [
             0.4444444444444444,
             "#bd3786"
            ],
            [
             0.5555555555555556,
             "#d8576b"
            ],
            [
             0.6666666666666666,
             "#ed7953"
            ],
            [
             0.7777777777777778,
             "#fb9f3a"
            ],
            [
             0.8888888888888888,
             "#fdca26"
            ],
            [
             1,
             "#f0f921"
            ]
           ],
           "sequentialminus": [
            [
             0,
             "#0d0887"
            ],
            [
             0.1111111111111111,
             "#46039f"
            ],
            [
             0.2222222222222222,
             "#7201a8"
            ],
            [
             0.3333333333333333,
             "#9c179e"
            ],
            [
             0.4444444444444444,
             "#bd3786"
            ],
            [
             0.5555555555555556,
             "#d8576b"
            ],
            [
             0.6666666666666666,
             "#ed7953"
            ],
            [
             0.7777777777777778,
             "#fb9f3a"
            ],
            [
             0.8888888888888888,
             "#fdca26"
            ],
            [
             1,
             "#f0f921"
            ]
           ]
          },
          "colorway": [
           "#636efa",
           "#EF553B",
           "#00cc96",
           "#ab63fa",
           "#FFA15A",
           "#19d3f3",
           "#FF6692",
           "#B6E880",
           "#FF97FF",
           "#FECB52"
          ],
          "font": {
           "color": "#2a3f5f"
          },
          "geo": {
           "bgcolor": "white",
           "lakecolor": "white",
           "landcolor": "#E5ECF6",
           "showlakes": true,
           "showland": true,
           "subunitcolor": "white"
          },
          "hoverlabel": {
           "align": "left"
          },
          "hovermode": "closest",
          "mapbox": {
           "style": "light"
          },
          "paper_bgcolor": "white",
          "plot_bgcolor": "#E5ECF6",
          "polar": {
           "angularaxis": {
            "gridcolor": "white",
            "linecolor": "white",
            "ticks": ""
           },
           "bgcolor": "#E5ECF6",
           "radialaxis": {
            "gridcolor": "white",
            "linecolor": "white",
            "ticks": ""
           }
          },
          "scene": {
           "xaxis": {
            "backgroundcolor": "#E5ECF6",
            "gridcolor": "white",
            "gridwidth": 2,
            "linecolor": "white",
            "showbackground": true,
            "ticks": "",
            "zerolinecolor": "white"
           },
           "yaxis": {
            "backgroundcolor": "#E5ECF6",
            "gridcolor": "white",
            "gridwidth": 2,
            "linecolor": "white",
            "showbackground": true,
            "ticks": "",
            "zerolinecolor": "white"
           },
           "zaxis": {
            "backgroundcolor": "#E5ECF6",
            "gridcolor": "white",
            "gridwidth": 2,
            "linecolor": "white",
            "showbackground": true,
            "ticks": "",
            "zerolinecolor": "white"
           }
          },
          "shapedefaults": {
           "line": {
            "color": "#2a3f5f"
           }
          },
          "ternary": {
           "aaxis": {
            "gridcolor": "white",
            "linecolor": "white",
            "ticks": ""
           },
           "baxis": {
            "gridcolor": "white",
            "linecolor": "white",
            "ticks": ""
           },
           "bgcolor": "#E5ECF6",
           "caxis": {
            "gridcolor": "white",
            "linecolor": "white",
            "ticks": ""
           }
          },
          "title": {
           "x": 0.05
          },
          "xaxis": {
           "automargin": true,
           "gridcolor": "white",
           "linecolor": "white",
           "ticks": "",
           "title": {
            "standoff": 15
           },
           "zerolinecolor": "white",
           "zerolinewidth": 2
          },
          "yaxis": {
           "automargin": true,
           "gridcolor": "white",
           "linecolor": "white",
           "ticks": "",
           "title": {
            "standoff": 15
           },
           "zerolinecolor": "white",
           "zerolinewidth": 2
          }
         }
        },
        "title": {
         "font": {
          "color": "black",
          "size": 18
         },
         "text": "Report Angka Karyawan per Tahun"
        },
        "xaxis": {
         "anchor": "y",
         "domain": [
          0,
          1
         ],
         "tickmode": "linear",
         "title": {
          "text": "Tahun"
         }
        },
        "yaxis": {
         "anchor": "x",
         "domain": [
          0,
          1
         ],
         "title": {
          "text": "TotalKaryawan"
         }
        }
       }
      }
     },
     "metadata": {},
     "output_type": "display_data"
    }
   ],
   "source": [
    "totalkaryawan = px.line(Reportbyyear, x = 'Tahun', y = 'TotalKaryawan', text = 'TotalKaryawan', color_discrete_sequence = ['green'], markers = True)\n",
    "totalkaryawan.update_traces(textposition=\"top left\")\n",
    "totalkaryawan.update_layout(\n",
    "    xaxis=dict(\n",
    "        tickmode='linear'\n",
    "    )\n",
    ")\n",
    "totalkaryawan.update_layout(title=\"Report Angka Karyawan per Tahun\",title_font=dict(size=18, color=\"black\"))"
   ]
  },
  {
   "attachments": {},
   "cell_type": "markdown",
   "metadata": {},
   "source": [
    "Banyak karyawan terus naik dari tahun 2006, hingga puncaknya pada 2016, hal ini menandakan angka karyawan masuk lebih besar daripada karyawan resign. Dan sejak tahun 2017 terjadi penurunan angka karyawan, dan terus berlanjut hingga tahun 2020."
   ]
  },
  {
   "cell_type": "code",
   "execution_count": 122,
   "metadata": {},
   "outputs": [
    {
     "data": {
      "application/vnd.plotly.v1+json": {
       "config": {
        "plotlyServerURL": "https://plot.ly"
       },
       "data": [
        {
         "line": {
          "color": "firebrick"
         },
         "name": "Resign",
         "type": "scatter",
         "x": [
          2013,
          2014,
          2015,
          2016,
          2017,
          2018,
          2019,
          2020
         ],
         "y": [
          5,
          12,
          8,
          8,
          19,
          26,
          5,
          6
         ]
        },
        {
         "line": {
          "color": "royalblue"
         },
         "name": "Hiring",
         "type": "scatter",
         "x": [
          2006,
          2007,
          2008,
          2009,
          2010,
          2011,
          2012,
          2013,
          2014,
          2015,
          2016,
          2017,
          2018
         ],
         "y": [
          1,
          2,
          2,
          7,
          8,
          76,
          41,
          43,
          56,
          31,
          14,
          5,
          1
         ]
        }
       ],
       "layout": {
        "legend": {
         "x": 0.01,
         "xanchor": "left",
         "y": 0.99,
         "yanchor": "top"
        },
        "template": {
         "data": {
          "bar": [
           {
            "error_x": {
             "color": "#2a3f5f"
            },
            "error_y": {
             "color": "#2a3f5f"
            },
            "marker": {
             "line": {
              "color": "#E5ECF6",
              "width": 0.5
             },
             "pattern": {
              "fillmode": "overlay",
              "size": 10,
              "solidity": 0.2
             }
            },
            "type": "bar"
           }
          ],
          "barpolar": [
           {
            "marker": {
             "line": {
              "color": "#E5ECF6",
              "width": 0.5
             },
             "pattern": {
              "fillmode": "overlay",
              "size": 10,
              "solidity": 0.2
             }
            },
            "type": "barpolar"
           }
          ],
          "carpet": [
           {
            "aaxis": {
             "endlinecolor": "#2a3f5f",
             "gridcolor": "white",
             "linecolor": "white",
             "minorgridcolor": "white",
             "startlinecolor": "#2a3f5f"
            },
            "baxis": {
             "endlinecolor": "#2a3f5f",
             "gridcolor": "white",
             "linecolor": "white",
             "minorgridcolor": "white",
             "startlinecolor": "#2a3f5f"
            },
            "type": "carpet"
           }
          ],
          "choropleth": [
           {
            "colorbar": {
             "outlinewidth": 0,
             "ticks": ""
            },
            "type": "choropleth"
           }
          ],
          "contour": [
           {
            "colorbar": {
             "outlinewidth": 0,
             "ticks": ""
            },
            "colorscale": [
             [
              0,
              "#0d0887"
             ],
             [
              0.1111111111111111,
              "#46039f"
             ],
             [
              0.2222222222222222,
              "#7201a8"
             ],
             [
              0.3333333333333333,
              "#9c179e"
             ],
             [
              0.4444444444444444,
              "#bd3786"
             ],
             [
              0.5555555555555556,
              "#d8576b"
             ],
             [
              0.6666666666666666,
              "#ed7953"
             ],
             [
              0.7777777777777778,
              "#fb9f3a"
             ],
             [
              0.8888888888888888,
              "#fdca26"
             ],
             [
              1,
              "#f0f921"
             ]
            ],
            "type": "contour"
           }
          ],
          "contourcarpet": [
           {
            "colorbar": {
             "outlinewidth": 0,
             "ticks": ""
            },
            "type": "contourcarpet"
           }
          ],
          "heatmap": [
           {
            "colorbar": {
             "outlinewidth": 0,
             "ticks": ""
            },
            "colorscale": [
             [
              0,
              "#0d0887"
             ],
             [
              0.1111111111111111,
              "#46039f"
             ],
             [
              0.2222222222222222,
              "#7201a8"
             ],
             [
              0.3333333333333333,
              "#9c179e"
             ],
             [
              0.4444444444444444,
              "#bd3786"
             ],
             [
              0.5555555555555556,
              "#d8576b"
             ],
             [
              0.6666666666666666,
              "#ed7953"
             ],
             [
              0.7777777777777778,
              "#fb9f3a"
             ],
             [
              0.8888888888888888,
              "#fdca26"
             ],
             [
              1,
              "#f0f921"
             ]
            ],
            "type": "heatmap"
           }
          ],
          "heatmapgl": [
           {
            "colorbar": {
             "outlinewidth": 0,
             "ticks": ""
            },
            "colorscale": [
             [
              0,
              "#0d0887"
             ],
             [
              0.1111111111111111,
              "#46039f"
             ],
             [
              0.2222222222222222,
              "#7201a8"
             ],
             [
              0.3333333333333333,
              "#9c179e"
             ],
             [
              0.4444444444444444,
              "#bd3786"
             ],
             [
              0.5555555555555556,
              "#d8576b"
             ],
             [
              0.6666666666666666,
              "#ed7953"
             ],
             [
              0.7777777777777778,
              "#fb9f3a"
             ],
             [
              0.8888888888888888,
              "#fdca26"
             ],
             [
              1,
              "#f0f921"
             ]
            ],
            "type": "heatmapgl"
           }
          ],
          "histogram": [
           {
            "marker": {
             "pattern": {
              "fillmode": "overlay",
              "size": 10,
              "solidity": 0.2
             }
            },
            "type": "histogram"
           }
          ],
          "histogram2d": [
           {
            "colorbar": {
             "outlinewidth": 0,
             "ticks": ""
            },
            "colorscale": [
             [
              0,
              "#0d0887"
             ],
             [
              0.1111111111111111,
              "#46039f"
             ],
             [
              0.2222222222222222,
              "#7201a8"
             ],
             [
              0.3333333333333333,
              "#9c179e"
             ],
             [
              0.4444444444444444,
              "#bd3786"
             ],
             [
              0.5555555555555556,
              "#d8576b"
             ],
             [
              0.6666666666666666,
              "#ed7953"
             ],
             [
              0.7777777777777778,
              "#fb9f3a"
             ],
             [
              0.8888888888888888,
              "#fdca26"
             ],
             [
              1,
              "#f0f921"
             ]
            ],
            "type": "histogram2d"
           }
          ],
          "histogram2dcontour": [
           {
            "colorbar": {
             "outlinewidth": 0,
             "ticks": ""
            },
            "colorscale": [
             [
              0,
              "#0d0887"
             ],
             [
              0.1111111111111111,
              "#46039f"
             ],
             [
              0.2222222222222222,
              "#7201a8"
             ],
             [
              0.3333333333333333,
              "#9c179e"
             ],
             [
              0.4444444444444444,
              "#bd3786"
             ],
             [
              0.5555555555555556,
              "#d8576b"
             ],
             [
              0.6666666666666666,
              "#ed7953"
             ],
             [
              0.7777777777777778,
              "#fb9f3a"
             ],
             [
              0.8888888888888888,
              "#fdca26"
             ],
             [
              1,
              "#f0f921"
             ]
            ],
            "type": "histogram2dcontour"
           }
          ],
          "mesh3d": [
           {
            "colorbar": {
             "outlinewidth": 0,
             "ticks": ""
            },
            "type": "mesh3d"
           }
          ],
          "parcoords": [
           {
            "line": {
             "colorbar": {
              "outlinewidth": 0,
              "ticks": ""
             }
            },
            "type": "parcoords"
           }
          ],
          "pie": [
           {
            "automargin": true,
            "type": "pie"
           }
          ],
          "scatter": [
           {
            "fillpattern": {
             "fillmode": "overlay",
             "size": 10,
             "solidity": 0.2
            },
            "type": "scatter"
           }
          ],
          "scatter3d": [
           {
            "line": {
             "colorbar": {
              "outlinewidth": 0,
              "ticks": ""
             }
            },
            "marker": {
             "colorbar": {
              "outlinewidth": 0,
              "ticks": ""
             }
            },
            "type": "scatter3d"
           }
          ],
          "scattercarpet": [
           {
            "marker": {
             "colorbar": {
              "outlinewidth": 0,
              "ticks": ""
             }
            },
            "type": "scattercarpet"
           }
          ],
          "scattergeo": [
           {
            "marker": {
             "colorbar": {
              "outlinewidth": 0,
              "ticks": ""
             }
            },
            "type": "scattergeo"
           }
          ],
          "scattergl": [
           {
            "marker": {
             "colorbar": {
              "outlinewidth": 0,
              "ticks": ""
             }
            },
            "type": "scattergl"
           }
          ],
          "scattermapbox": [
           {
            "marker": {
             "colorbar": {
              "outlinewidth": 0,
              "ticks": ""
             }
            },
            "type": "scattermapbox"
           }
          ],
          "scatterpolar": [
           {
            "marker": {
             "colorbar": {
              "outlinewidth": 0,
              "ticks": ""
             }
            },
            "type": "scatterpolar"
           }
          ],
          "scatterpolargl": [
           {
            "marker": {
             "colorbar": {
              "outlinewidth": 0,
              "ticks": ""
             }
            },
            "type": "scatterpolargl"
           }
          ],
          "scatterternary": [
           {
            "marker": {
             "colorbar": {
              "outlinewidth": 0,
              "ticks": ""
             }
            },
            "type": "scatterternary"
           }
          ],
          "surface": [
           {
            "colorbar": {
             "outlinewidth": 0,
             "ticks": ""
            },
            "colorscale": [
             [
              0,
              "#0d0887"
             ],
             [
              0.1111111111111111,
              "#46039f"
             ],
             [
              0.2222222222222222,
              "#7201a8"
             ],
             [
              0.3333333333333333,
              "#9c179e"
             ],
             [
              0.4444444444444444,
              "#bd3786"
             ],
             [
              0.5555555555555556,
              "#d8576b"
             ],
             [
              0.6666666666666666,
              "#ed7953"
             ],
             [
              0.7777777777777778,
              "#fb9f3a"
             ],
             [
              0.8888888888888888,
              "#fdca26"
             ],
             [
              1,
              "#f0f921"
             ]
            ],
            "type": "surface"
           }
          ],
          "table": [
           {
            "cells": {
             "fill": {
              "color": "#EBF0F8"
             },
             "line": {
              "color": "white"
             }
            },
            "header": {
             "fill": {
              "color": "#C8D4E3"
             },
             "line": {
              "color": "white"
             }
            },
            "type": "table"
           }
          ]
         },
         "layout": {
          "annotationdefaults": {
           "arrowcolor": "#2a3f5f",
           "arrowhead": 0,
           "arrowwidth": 1
          },
          "autotypenumbers": "strict",
          "coloraxis": {
           "colorbar": {
            "outlinewidth": 0,
            "ticks": ""
           }
          },
          "colorscale": {
           "diverging": [
            [
             0,
             "#8e0152"
            ],
            [
             0.1,
             "#c51b7d"
            ],
            [
             0.2,
             "#de77ae"
            ],
            [
             0.3,
             "#f1b6da"
            ],
            [
             0.4,
             "#fde0ef"
            ],
            [
             0.5,
             "#f7f7f7"
            ],
            [
             0.6,
             "#e6f5d0"
            ],
            [
             0.7,
             "#b8e186"
            ],
            [
             0.8,
             "#7fbc41"
            ],
            [
             0.9,
             "#4d9221"
            ],
            [
             1,
             "#276419"
            ]
           ],
           "sequential": [
            [
             0,
             "#0d0887"
            ],
            [
             0.1111111111111111,
             "#46039f"
            ],
            [
             0.2222222222222222,
             "#7201a8"
            ],
            [
             0.3333333333333333,
             "#9c179e"
            ],
            [
             0.4444444444444444,
             "#bd3786"
            ],
            [
             0.5555555555555556,
             "#d8576b"
            ],
            [
             0.6666666666666666,
             "#ed7953"
            ],
            [
             0.7777777777777778,
             "#fb9f3a"
            ],
            [
             0.8888888888888888,
             "#fdca26"
            ],
            [
             1,
             "#f0f921"
            ]
           ],
           "sequentialminus": [
            [
             0,
             "#0d0887"
            ],
            [
             0.1111111111111111,
             "#46039f"
            ],
            [
             0.2222222222222222,
             "#7201a8"
            ],
            [
             0.3333333333333333,
             "#9c179e"
            ],
            [
             0.4444444444444444,
             "#bd3786"
            ],
            [
             0.5555555555555556,
             "#d8576b"
            ],
            [
             0.6666666666666666,
             "#ed7953"
            ],
            [
             0.7777777777777778,
             "#fb9f3a"
            ],
            [
             0.8888888888888888,
             "#fdca26"
            ],
            [
             1,
             "#f0f921"
            ]
           ]
          },
          "colorway": [
           "#636efa",
           "#EF553B",
           "#00cc96",
           "#ab63fa",
           "#FFA15A",
           "#19d3f3",
           "#FF6692",
           "#B6E880",
           "#FF97FF",
           "#FECB52"
          ],
          "font": {
           "color": "#2a3f5f"
          },
          "geo": {
           "bgcolor": "white",
           "lakecolor": "white",
           "landcolor": "#E5ECF6",
           "showlakes": true,
           "showland": true,
           "subunitcolor": "white"
          },
          "hoverlabel": {
           "align": "left"
          },
          "hovermode": "closest",
          "mapbox": {
           "style": "light"
          },
          "paper_bgcolor": "white",
          "plot_bgcolor": "#E5ECF6",
          "polar": {
           "angularaxis": {
            "gridcolor": "white",
            "linecolor": "white",
            "ticks": ""
           },
           "bgcolor": "#E5ECF6",
           "radialaxis": {
            "gridcolor": "white",
            "linecolor": "white",
            "ticks": ""
           }
          },
          "scene": {
           "xaxis": {
            "backgroundcolor": "#E5ECF6",
            "gridcolor": "white",
            "gridwidth": 2,
            "linecolor": "white",
            "showbackground": true,
            "ticks": "",
            "zerolinecolor": "white"
           },
           "yaxis": {
            "backgroundcolor": "#E5ECF6",
            "gridcolor": "white",
            "gridwidth": 2,
            "linecolor": "white",
            "showbackground": true,
            "ticks": "",
            "zerolinecolor": "white"
           },
           "zaxis": {
            "backgroundcolor": "#E5ECF6",
            "gridcolor": "white",
            "gridwidth": 2,
            "linecolor": "white",
            "showbackground": true,
            "ticks": "",
            "zerolinecolor": "white"
           }
          },
          "shapedefaults": {
           "line": {
            "color": "#2a3f5f"
           }
          },
          "ternary": {
           "aaxis": {
            "gridcolor": "white",
            "linecolor": "white",
            "ticks": ""
           },
           "baxis": {
            "gridcolor": "white",
            "linecolor": "white",
            "ticks": ""
           },
           "bgcolor": "#E5ECF6",
           "caxis": {
            "gridcolor": "white",
            "linecolor": "white",
            "ticks": ""
           }
          },
          "title": {
           "x": 0.05
          },
          "xaxis": {
           "automargin": true,
           "gridcolor": "white",
           "linecolor": "white",
           "ticks": "",
           "title": {
            "standoff": 15
           },
           "zerolinecolor": "white",
           "zerolinewidth": 2
          },
          "yaxis": {
           "automargin": true,
           "gridcolor": "white",
           "linecolor": "white",
           "ticks": "",
           "title": {
            "standoff": 15
           },
           "zerolinecolor": "white",
           "zerolinewidth": 2
          }
         }
        },
        "title": {
         "font": {
          "color": "black",
          "size": 18
         },
         "text": "Report Angka Karyawan Resign dan Masuk"
        },
        "width": 900,
        "xaxis": {
         "tickmode": "linear"
        }
       }
      }
     },
     "metadata": {},
     "output_type": "display_data"
    }
   ],
   "source": [
    "# Karyawan Masuk dan Resign per tahun\n",
    "yearlyreport = go.Figure()\n",
    "yearlyreport.add_scatter(x = Reportbyyear[Reportbyyear['Resign'] > 0]['Tahun'], y = Reportbyyear[Reportbyyear['Resign'] > 0]['Resign'], name = 'Resign', line=dict(color='firebrick'))\n",
    "yearlyreport.add_scatter(x = Reportbyyear[Reportbyyear['Hiring'] > 0]['Tahun'], y = Reportbyyear[Reportbyyear['Hiring'] > 0]['Hiring'], name = 'Hiring', line=dict(color='royalblue'))\n",
    "yearlyreport.update_layout(\n",
    "    xaxis=dict(\n",
    "        tickmode='linear'), \n",
    "    width = 900,\n",
    "    legend=dict(\n",
    "        yanchor=\"top\",\n",
    "        y=0.99,\n",
    "        xanchor=\"left\",\n",
    "        x=0.01)\n",
    ")\n",
    "yearlyreport.update_layout(title=\"Report Angka Karyawan Resign dan Masuk\",title_font=dict(size=18, color=\"black\"))"
   ]
  },
  {
   "attachments": {},
   "cell_type": "markdown",
   "metadata": {},
   "source": [
    "Pada tahun 2006 hingga 2012 tidak terdapat karyawan resign, hal ini diakibatkan karena perusahaan baru mulai berdiri.\n",
    "\n",
    "Pada tahun 2013 baru terdapat karyawan resign sebanyak 5 karyawan, dan kemudian naik pada tahun selanjutnya. Angka karyawan resign meninggi dari tahun 2016, dan angka karyawan resign lebih tinggi daripada karyawan masuk sejak tahun 2017.\n",
    "\n",
    "Sejak tahun 2019 tidak ada karyawan masuk lagi, dan angka karyawan resign tetap berlanjut hingga tahun 2020."
   ]
  },
  {
   "attachments": {},
   "cell_type": "markdown",
   "metadata": {},
   "source": [
    "Untuk lebih mengetahun kembali rasio haryawan resign dan karyawan stay, kita akan melihat trend resign rate perusahaan."
   ]
  },
  {
   "cell_type": "code",
   "execution_count": 123,
   "metadata": {},
   "outputs": [
    {
     "data": {
      "application/vnd.plotly.v1+json": {
       "config": {
        "plotlyServerURL": "https://plot.ly"
       },
       "data": [
        {
         "hovertemplate": "Tahun=%{x}<br>ResignRate (%)=%{y}<br>text=%{text}<extra></extra>",
         "legendgroup": "",
         "line": {
          "color": "firebrick",
          "dash": "solid"
         },
         "marker": {
          "symbol": "circle"
         },
         "mode": "text+markers+lines",
         "name": "",
         "orientation": "v",
         "showlegend": false,
         "text": [
          "0.0%",
          "0.0%",
          "0.0%",
          "0.0%",
          "0.0%",
          "0.0%",
          "0.0%",
          "2.86%",
          "5.48%",
          "3.31%",
          "3.23%",
          "8.12%",
          "12.44%",
          "2.45%",
          "3.03%"
         ],
         "textposition": "top left",
         "type": "scatter",
         "x": [
          2006,
          2007,
          2008,
          2009,
          2010,
          2011,
          2012,
          2013,
          2014,
          2015,
          2016,
          2017,
          2018,
          2019,
          2020
         ],
         "xaxis": "x",
         "y": [
          0,
          0,
          0,
          0,
          0,
          0,
          0,
          2.86,
          5.48,
          3.31,
          3.23,
          8.12,
          12.44,
          2.45,
          3.03
         ],
         "yaxis": "y"
        }
       ],
       "layout": {
        "legend": {
         "tracegroupgap": 0
        },
        "margin": {
         "t": 60
        },
        "template": {
         "data": {
          "bar": [
           {
            "error_x": {
             "color": "#2a3f5f"
            },
            "error_y": {
             "color": "#2a3f5f"
            },
            "marker": {
             "line": {
              "color": "#E5ECF6",
              "width": 0.5
             },
             "pattern": {
              "fillmode": "overlay",
              "size": 10,
              "solidity": 0.2
             }
            },
            "type": "bar"
           }
          ],
          "barpolar": [
           {
            "marker": {
             "line": {
              "color": "#E5ECF6",
              "width": 0.5
             },
             "pattern": {
              "fillmode": "overlay",
              "size": 10,
              "solidity": 0.2
             }
            },
            "type": "barpolar"
           }
          ],
          "carpet": [
           {
            "aaxis": {
             "endlinecolor": "#2a3f5f",
             "gridcolor": "white",
             "linecolor": "white",
             "minorgridcolor": "white",
             "startlinecolor": "#2a3f5f"
            },
            "baxis": {
             "endlinecolor": "#2a3f5f",
             "gridcolor": "white",
             "linecolor": "white",
             "minorgridcolor": "white",
             "startlinecolor": "#2a3f5f"
            },
            "type": "carpet"
           }
          ],
          "choropleth": [
           {
            "colorbar": {
             "outlinewidth": 0,
             "ticks": ""
            },
            "type": "choropleth"
           }
          ],
          "contour": [
           {
            "colorbar": {
             "outlinewidth": 0,
             "ticks": ""
            },
            "colorscale": [
             [
              0,
              "#0d0887"
             ],
             [
              0.1111111111111111,
              "#46039f"
             ],
             [
              0.2222222222222222,
              "#7201a8"
             ],
             [
              0.3333333333333333,
              "#9c179e"
             ],
             [
              0.4444444444444444,
              "#bd3786"
             ],
             [
              0.5555555555555556,
              "#d8576b"
             ],
             [
              0.6666666666666666,
              "#ed7953"
             ],
             [
              0.7777777777777778,
              "#fb9f3a"
             ],
             [
              0.8888888888888888,
              "#fdca26"
             ],
             [
              1,
              "#f0f921"
             ]
            ],
            "type": "contour"
           }
          ],
          "contourcarpet": [
           {
            "colorbar": {
             "outlinewidth": 0,
             "ticks": ""
            },
            "type": "contourcarpet"
           }
          ],
          "heatmap": [
           {
            "colorbar": {
             "outlinewidth": 0,
             "ticks": ""
            },
            "colorscale": [
             [
              0,
              "#0d0887"
             ],
             [
              0.1111111111111111,
              "#46039f"
             ],
             [
              0.2222222222222222,
              "#7201a8"
             ],
             [
              0.3333333333333333,
              "#9c179e"
             ],
             [
              0.4444444444444444,
              "#bd3786"
             ],
             [
              0.5555555555555556,
              "#d8576b"
             ],
             [
              0.6666666666666666,
              "#ed7953"
             ],
             [
              0.7777777777777778,
              "#fb9f3a"
             ],
             [
              0.8888888888888888,
              "#fdca26"
             ],
             [
              1,
              "#f0f921"
             ]
            ],
            "type": "heatmap"
           }
          ],
          "heatmapgl": [
           {
            "colorbar": {
             "outlinewidth": 0,
             "ticks": ""
            },
            "colorscale": [
             [
              0,
              "#0d0887"
             ],
             [
              0.1111111111111111,
              "#46039f"
             ],
             [
              0.2222222222222222,
              "#7201a8"
             ],
             [
              0.3333333333333333,
              "#9c179e"
             ],
             [
              0.4444444444444444,
              "#bd3786"
             ],
             [
              0.5555555555555556,
              "#d8576b"
             ],
             [
              0.6666666666666666,
              "#ed7953"
             ],
             [
              0.7777777777777778,
              "#fb9f3a"
             ],
             [
              0.8888888888888888,
              "#fdca26"
             ],
             [
              1,
              "#f0f921"
             ]
            ],
            "type": "heatmapgl"
           }
          ],
          "histogram": [
           {
            "marker": {
             "pattern": {
              "fillmode": "overlay",
              "size": 10,
              "solidity": 0.2
             }
            },
            "type": "histogram"
           }
          ],
          "histogram2d": [
           {
            "colorbar": {
             "outlinewidth": 0,
             "ticks": ""
            },
            "colorscale": [
             [
              0,
              "#0d0887"
             ],
             [
              0.1111111111111111,
              "#46039f"
             ],
             [
              0.2222222222222222,
              "#7201a8"
             ],
             [
              0.3333333333333333,
              "#9c179e"
             ],
             [
              0.4444444444444444,
              "#bd3786"
             ],
             [
              0.5555555555555556,
              "#d8576b"
             ],
             [
              0.6666666666666666,
              "#ed7953"
             ],
             [
              0.7777777777777778,
              "#fb9f3a"
             ],
             [
              0.8888888888888888,
              "#fdca26"
             ],
             [
              1,
              "#f0f921"
             ]
            ],
            "type": "histogram2d"
           }
          ],
          "histogram2dcontour": [
           {
            "colorbar": {
             "outlinewidth": 0,
             "ticks": ""
            },
            "colorscale": [
             [
              0,
              "#0d0887"
             ],
             [
              0.1111111111111111,
              "#46039f"
             ],
             [
              0.2222222222222222,
              "#7201a8"
             ],
             [
              0.3333333333333333,
              "#9c179e"
             ],
             [
              0.4444444444444444,
              "#bd3786"
             ],
             [
              0.5555555555555556,
              "#d8576b"
             ],
             [
              0.6666666666666666,
              "#ed7953"
             ],
             [
              0.7777777777777778,
              "#fb9f3a"
             ],
             [
              0.8888888888888888,
              "#fdca26"
             ],
             [
              1,
              "#f0f921"
             ]
            ],
            "type": "histogram2dcontour"
           }
          ],
          "mesh3d": [
           {
            "colorbar": {
             "outlinewidth": 0,
             "ticks": ""
            },
            "type": "mesh3d"
           }
          ],
          "parcoords": [
           {
            "line": {
             "colorbar": {
              "outlinewidth": 0,
              "ticks": ""
             }
            },
            "type": "parcoords"
           }
          ],
          "pie": [
           {
            "automargin": true,
            "type": "pie"
           }
          ],
          "scatter": [
           {
            "fillpattern": {
             "fillmode": "overlay",
             "size": 10,
             "solidity": 0.2
            },
            "type": "scatter"
           }
          ],
          "scatter3d": [
           {
            "line": {
             "colorbar": {
              "outlinewidth": 0,
              "ticks": ""
             }
            },
            "marker": {
             "colorbar": {
              "outlinewidth": 0,
              "ticks": ""
             }
            },
            "type": "scatter3d"
           }
          ],
          "scattercarpet": [
           {
            "marker": {
             "colorbar": {
              "outlinewidth": 0,
              "ticks": ""
             }
            },
            "type": "scattercarpet"
           }
          ],
          "scattergeo": [
           {
            "marker": {
             "colorbar": {
              "outlinewidth": 0,
              "ticks": ""
             }
            },
            "type": "scattergeo"
           }
          ],
          "scattergl": [
           {
            "marker": {
             "colorbar": {
              "outlinewidth": 0,
              "ticks": ""
             }
            },
            "type": "scattergl"
           }
          ],
          "scattermapbox": [
           {
            "marker": {
             "colorbar": {
              "outlinewidth": 0,
              "ticks": ""
             }
            },
            "type": "scattermapbox"
           }
          ],
          "scatterpolar": [
           {
            "marker": {
             "colorbar": {
              "outlinewidth": 0,
              "ticks": ""
             }
            },
            "type": "scatterpolar"
           }
          ],
          "scatterpolargl": [
           {
            "marker": {
             "colorbar": {
              "outlinewidth": 0,
              "ticks": ""
             }
            },
            "type": "scatterpolargl"
           }
          ],
          "scatterternary": [
           {
            "marker": {
             "colorbar": {
              "outlinewidth": 0,
              "ticks": ""
             }
            },
            "type": "scatterternary"
           }
          ],
          "surface": [
           {
            "colorbar": {
             "outlinewidth": 0,
             "ticks": ""
            },
            "colorscale": [
             [
              0,
              "#0d0887"
             ],
             [
              0.1111111111111111,
              "#46039f"
             ],
             [
              0.2222222222222222,
              "#7201a8"
             ],
             [
              0.3333333333333333,
              "#9c179e"
             ],
             [
              0.4444444444444444,
              "#bd3786"
             ],
             [
              0.5555555555555556,
              "#d8576b"
             ],
             [
              0.6666666666666666,
              "#ed7953"
             ],
             [
              0.7777777777777778,
              "#fb9f3a"
             ],
             [
              0.8888888888888888,
              "#fdca26"
             ],
             [
              1,
              "#f0f921"
             ]
            ],
            "type": "surface"
           }
          ],
          "table": [
           {
            "cells": {
             "fill": {
              "color": "#EBF0F8"
             },
             "line": {
              "color": "white"
             }
            },
            "header": {
             "fill": {
              "color": "#C8D4E3"
             },
             "line": {
              "color": "white"
             }
            },
            "type": "table"
           }
          ]
         },
         "layout": {
          "annotationdefaults": {
           "arrowcolor": "#2a3f5f",
           "arrowhead": 0,
           "arrowwidth": 1
          },
          "autotypenumbers": "strict",
          "coloraxis": {
           "colorbar": {
            "outlinewidth": 0,
            "ticks": ""
           }
          },
          "colorscale": {
           "diverging": [
            [
             0,
             "#8e0152"
            ],
            [
             0.1,
             "#c51b7d"
            ],
            [
             0.2,
             "#de77ae"
            ],
            [
             0.3,
             "#f1b6da"
            ],
            [
             0.4,
             "#fde0ef"
            ],
            [
             0.5,
             "#f7f7f7"
            ],
            [
             0.6,
             "#e6f5d0"
            ],
            [
             0.7,
             "#b8e186"
            ],
            [
             0.8,
             "#7fbc41"
            ],
            [
             0.9,
             "#4d9221"
            ],
            [
             1,
             "#276419"
            ]
           ],
           "sequential": [
            [
             0,
             "#0d0887"
            ],
            [
             0.1111111111111111,
             "#46039f"
            ],
            [
             0.2222222222222222,
             "#7201a8"
            ],
            [
             0.3333333333333333,
             "#9c179e"
            ],
            [
             0.4444444444444444,
             "#bd3786"
            ],
            [
             0.5555555555555556,
             "#d8576b"
            ],
            [
             0.6666666666666666,
             "#ed7953"
            ],
            [
             0.7777777777777778,
             "#fb9f3a"
            ],
            [
             0.8888888888888888,
             "#fdca26"
            ],
            [
             1,
             "#f0f921"
            ]
           ],
           "sequentialminus": [
            [
             0,
             "#0d0887"
            ],
            [
             0.1111111111111111,
             "#46039f"
            ],
            [
             0.2222222222222222,
             "#7201a8"
            ],
            [
             0.3333333333333333,
             "#9c179e"
            ],
            [
             0.4444444444444444,
             "#bd3786"
            ],
            [
             0.5555555555555556,
             "#d8576b"
            ],
            [
             0.6666666666666666,
             "#ed7953"
            ],
            [
             0.7777777777777778,
             "#fb9f3a"
            ],
            [
             0.8888888888888888,
             "#fdca26"
            ],
            [
             1,
             "#f0f921"
            ]
           ]
          },
          "colorway": [
           "#636efa",
           "#EF553B",
           "#00cc96",
           "#ab63fa",
           "#FFA15A",
           "#19d3f3",
           "#FF6692",
           "#B6E880",
           "#FF97FF",
           "#FECB52"
          ],
          "font": {
           "color": "#2a3f5f"
          },
          "geo": {
           "bgcolor": "white",
           "lakecolor": "white",
           "landcolor": "#E5ECF6",
           "showlakes": true,
           "showland": true,
           "subunitcolor": "white"
          },
          "hoverlabel": {
           "align": "left"
          },
          "hovermode": "closest",
          "mapbox": {
           "style": "light"
          },
          "paper_bgcolor": "white",
          "plot_bgcolor": "#E5ECF6",
          "polar": {
           "angularaxis": {
            "gridcolor": "white",
            "linecolor": "white",
            "ticks": ""
           },
           "bgcolor": "#E5ECF6",
           "radialaxis": {
            "gridcolor": "white",
            "linecolor": "white",
            "ticks": ""
           }
          },
          "scene": {
           "xaxis": {
            "backgroundcolor": "#E5ECF6",
            "gridcolor": "white",
            "gridwidth": 2,
            "linecolor": "white",
            "showbackground": true,
            "ticks": "",
            "zerolinecolor": "white"
           },
           "yaxis": {
            "backgroundcolor": "#E5ECF6",
            "gridcolor": "white",
            "gridwidth": 2,
            "linecolor": "white",
            "showbackground": true,
            "ticks": "",
            "zerolinecolor": "white"
           },
           "zaxis": {
            "backgroundcolor": "#E5ECF6",
            "gridcolor": "white",
            "gridwidth": 2,
            "linecolor": "white",
            "showbackground": true,
            "ticks": "",
            "zerolinecolor": "white"
           }
          },
          "shapedefaults": {
           "line": {
            "color": "#2a3f5f"
           }
          },
          "ternary": {
           "aaxis": {
            "gridcolor": "white",
            "linecolor": "white",
            "ticks": ""
           },
           "baxis": {
            "gridcolor": "white",
            "linecolor": "white",
            "ticks": ""
           },
           "bgcolor": "#E5ECF6",
           "caxis": {
            "gridcolor": "white",
            "linecolor": "white",
            "ticks": ""
           }
          },
          "title": {
           "x": 0.05
          },
          "xaxis": {
           "automargin": true,
           "gridcolor": "white",
           "linecolor": "white",
           "ticks": "",
           "title": {
            "standoff": 15
           },
           "zerolinecolor": "white",
           "zerolinewidth": 2
          },
          "yaxis": {
           "automargin": true,
           "gridcolor": "white",
           "linecolor": "white",
           "ticks": "",
           "title": {
            "standoff": 15
           },
           "zerolinecolor": "white",
           "zerolinewidth": 2
          }
         }
        },
        "title": {
         "font": {
          "color": "black",
          "size": 18
         },
         "text": "Resign rate per Tahun (%)"
        },
        "xaxis": {
         "anchor": "y",
         "domain": [
          0,
          1
         ],
         "tickmode": "linear",
         "title": {
          "text": "Tahun"
         }
        },
        "yaxis": {
         "anchor": "x",
         "domain": [
          0,
          1
         ],
         "title": {
          "text": "ResignRate (%)"
         }
        }
       }
      }
     },
     "metadata": {},
     "output_type": "display_data"
    }
   ],
   "source": [
    "resignrate = px.line(Reportbyyear, x = 'Tahun', y = 'ResignRate (%)', color_discrete_sequence = ['firebrick'], markers = True, text = (Reportbyyear['ResignRate (%)'].astype(str) + '%'))\n",
    "resignrate.update_traces(textposition=\"top left\")\n",
    "resignrate.update_layout(\n",
    "    xaxis=dict(\n",
    "        tickmode='linear'\n",
    "    )\n",
    ")\n",
    "resignrate.update_layout(title=\"Resign rate per Tahun (%)\",title_font=dict(size=18, color=\"black\"))\n"
   ]
  },
  {
   "attachments": {},
   "cell_type": "markdown",
   "metadata": {},
   "source": [
    "Resign rate tertinggi terdapat pada tahun 2014 dan 2018."
   ]
  },
  {
   "attachments": {},
   "cell_type": "markdown",
   "metadata": {},
   "source": [
    "Kemudian, kita akan membuat beberapa tabel yang dapat memberikan ringkasan per tahun sesuai kategori"
   ]
  },
  {
   "attachments": {},
   "cell_type": "markdown",
   "metadata": {},
   "source": [
    "**Profession Yearly Report**"
   ]
  },
  {
   "cell_type": "code",
   "execution_count": 124,
   "metadata": {},
   "outputs": [
    {
     "data": {
      "text/html": [
       "<div>\n",
       "<style scoped>\n",
       "    .dataframe tbody tr th:only-of-type {\n",
       "        vertical-align: middle;\n",
       "    }\n",
       "\n",
       "    .dataframe tbody tr th {\n",
       "        vertical-align: top;\n",
       "    }\n",
       "\n",
       "    .dataframe thead th {\n",
       "        text-align: right;\n",
       "    }\n",
       "</style>\n",
       "<table border=\"1\" class=\"dataframe\">\n",
       "  <thead>\n",
       "    <tr style=\"text-align: right;\">\n",
       "      <th>Resign</th>\n",
       "      <th>Pekerjaan</th>\n",
       "      <th>Not Resign</th>\n",
       "      <th>Resign</th>\n",
       "      <th>Total Karyawan</th>\n",
       "      <th>Resign Rate (%)</th>\n",
       "    </tr>\n",
       "  </thead>\n",
       "  <tbody>\n",
       "    <tr>\n",
       "      <th>0</th>\n",
       "      <td>Data Analyst</td>\n",
       "      <td>8.0</td>\n",
       "      <td>8.0</td>\n",
       "      <td>16.0</td>\n",
       "      <td>50.00</td>\n",
       "    </tr>\n",
       "    <tr>\n",
       "      <th>12</th>\n",
       "      <td>Software Engineer (Front End)</td>\n",
       "      <td>44.0</td>\n",
       "      <td>28.0</td>\n",
       "      <td>72.0</td>\n",
       "      <td>38.89</td>\n",
       "    </tr>\n",
       "    <tr>\n",
       "      <th>5</th>\n",
       "      <td>Product Design (UI &amp; UX)</td>\n",
       "      <td>15.0</td>\n",
       "      <td>9.0</td>\n",
       "      <td>24.0</td>\n",
       "      <td>37.50</td>\n",
       "    </tr>\n",
       "    <tr>\n",
       "      <th>7</th>\n",
       "      <td>Product Manager</td>\n",
       "      <td>11.0</td>\n",
       "      <td>6.0</td>\n",
       "      <td>17.0</td>\n",
       "      <td>35.29</td>\n",
       "    </tr>\n",
       "    <tr>\n",
       "      <th>1</th>\n",
       "      <td>Data Engineer</td>\n",
       "      <td>7.0</td>\n",
       "      <td>3.0</td>\n",
       "      <td>10.0</td>\n",
       "      <td>30.00</td>\n",
       "    </tr>\n",
       "    <tr>\n",
       "      <th>10</th>\n",
       "      <td>Software Engineer (Android)</td>\n",
       "      <td>17.0</td>\n",
       "      <td>7.0</td>\n",
       "      <td>24.0</td>\n",
       "      <td>29.17</td>\n",
       "    </tr>\n",
       "    <tr>\n",
       "      <th>11</th>\n",
       "      <td>Software Engineer (Back End)</td>\n",
       "      <td>81.0</td>\n",
       "      <td>28.0</td>\n",
       "      <td>109.0</td>\n",
       "      <td>25.69</td>\n",
       "    </tr>\n",
       "    <tr>\n",
       "      <th>2</th>\n",
       "      <td>DevOps Engineer</td>\n",
       "      <td>3.0</td>\n",
       "      <td>0.0</td>\n",
       "      <td>3.0</td>\n",
       "      <td>0.00</td>\n",
       "    </tr>\n",
       "    <tr>\n",
       "      <th>3</th>\n",
       "      <td>Digital Product Manager</td>\n",
       "      <td>2.0</td>\n",
       "      <td>0.0</td>\n",
       "      <td>2.0</td>\n",
       "      <td>0.00</td>\n",
       "    </tr>\n",
       "    <tr>\n",
       "      <th>4</th>\n",
       "      <td>Machine Learning Engineer</td>\n",
       "      <td>2.0</td>\n",
       "      <td>0.0</td>\n",
       "      <td>2.0</td>\n",
       "      <td>0.00</td>\n",
       "    </tr>\n",
       "    <tr>\n",
       "      <th>6</th>\n",
       "      <td>Product Design (UX Researcher)</td>\n",
       "      <td>1.0</td>\n",
       "      <td>0.0</td>\n",
       "      <td>1.0</td>\n",
       "      <td>0.00</td>\n",
       "    </tr>\n",
       "    <tr>\n",
       "      <th>8</th>\n",
       "      <td>Scrum Master</td>\n",
       "      <td>3.0</td>\n",
       "      <td>0.0</td>\n",
       "      <td>3.0</td>\n",
       "      <td>0.00</td>\n",
       "    </tr>\n",
       "    <tr>\n",
       "      <th>9</th>\n",
       "      <td>Software Architect</td>\n",
       "      <td>1.0</td>\n",
       "      <td>0.0</td>\n",
       "      <td>1.0</td>\n",
       "      <td>0.00</td>\n",
       "    </tr>\n",
       "    <tr>\n",
       "      <th>13</th>\n",
       "      <td>Software Engineer (iOS)</td>\n",
       "      <td>3.0</td>\n",
       "      <td>0.0</td>\n",
       "      <td>3.0</td>\n",
       "      <td>0.00</td>\n",
       "    </tr>\n",
       "  </tbody>\n",
       "</table>\n",
       "</div>"
      ],
      "text/plain": [
       "Resign                       Pekerjaan  Not Resign  Resign  Total Karyawan  \\\n",
       "0                         Data Analyst         8.0     8.0            16.0   \n",
       "12       Software Engineer (Front End)        44.0    28.0            72.0   \n",
       "5             Product Design (UI & UX)        15.0     9.0            24.0   \n",
       "7                      Product Manager        11.0     6.0            17.0   \n",
       "1                        Data Engineer         7.0     3.0            10.0   \n",
       "10         Software Engineer (Android)        17.0     7.0            24.0   \n",
       "11        Software Engineer (Back End)        81.0    28.0           109.0   \n",
       "2                      DevOps Engineer         3.0     0.0             3.0   \n",
       "3              Digital Product Manager         2.0     0.0             2.0   \n",
       "4            Machine Learning Engineer         2.0     0.0             2.0   \n",
       "6       Product Design (UX Researcher)         1.0     0.0             1.0   \n",
       "8                         Scrum Master         3.0     0.0             3.0   \n",
       "9                   Software Architect         1.0     0.0             1.0   \n",
       "13             Software Engineer (iOS)         3.0     0.0             3.0   \n",
       "\n",
       "Resign  Resign Rate (%)  \n",
       "0                 50.00  \n",
       "12                38.89  \n",
       "5                 37.50  \n",
       "7                 35.29  \n",
       "1                 30.00  \n",
       "10                29.17  \n",
       "11                25.69  \n",
       "2                  0.00  \n",
       "3                  0.00  \n",
       "4                  0.00  \n",
       "6                  0.00  \n",
       "8                  0.00  \n",
       "9                  0.00  \n",
       "13                 0.00  "
      ]
     },
     "execution_count": 124,
     "metadata": {},
     "output_type": "execute_result"
    }
   ],
   "source": [
    "resignbyprofession = df[['Pekerjaan', 'Resign', 'EnterpriseID']]\n",
    "resignbyprofession = resignbyprofession.groupby(['Pekerjaan', 'Resign']).agg(count = ('EnterpriseID', 'nunique')).reset_index()\n",
    "resignbyprofession = resignbyprofession.pivot(index='Pekerjaan', columns='Resign', values='count').reset_index().fillna(0)\n",
    "resignbyprofession = resignbyprofession.rename({'No' : 'Not Resign', 'Yes' : 'Resign'}, axis = 1)\n",
    "resignbyprofession['Total Karyawan'] = resignbyprofession['Not Resign'] + resignbyprofession['Resign']\n",
    "resignbyprofession['Resign Rate (%)'] = ((resignbyprofession['Resign']/resignbyprofession['Total Karyawan'])*100).round(2)\n",
    "resignbyprofession.sort_values('Resign Rate (%)', ascending = False)"
   ]
  },
  {
   "attachments": {},
   "cell_type": "markdown",
   "metadata": {},
   "source": [
    "**Jenjang Karir Yearly Report**"
   ]
  },
  {
   "cell_type": "code",
   "execution_count": 125,
   "metadata": {},
   "outputs": [
    {
     "data": {
      "text/html": [
       "<div>\n",
       "<style scoped>\n",
       "    .dataframe tbody tr th:only-of-type {\n",
       "        vertical-align: middle;\n",
       "    }\n",
       "\n",
       "    .dataframe tbody tr th {\n",
       "        vertical-align: top;\n",
       "    }\n",
       "\n",
       "    .dataframe thead th {\n",
       "        text-align: right;\n",
       "    }\n",
       "</style>\n",
       "<table border=\"1\" class=\"dataframe\">\n",
       "  <thead>\n",
       "    <tr style=\"text-align: right;\">\n",
       "      <th>Resign</th>\n",
       "      <th>JenjangKarir</th>\n",
       "      <th>Not Resign</th>\n",
       "      <th>Resign</th>\n",
       "      <th>Total Karyawan</th>\n",
       "      <th>Resign Rate (%)</th>\n",
       "    </tr>\n",
       "  </thead>\n",
       "  <tbody>\n",
       "    <tr>\n",
       "      <th>2</th>\n",
       "      <td>Senior_level</td>\n",
       "      <td>32</td>\n",
       "      <td>16</td>\n",
       "      <td>48</td>\n",
       "      <td>33.33</td>\n",
       "    </tr>\n",
       "    <tr>\n",
       "      <th>1</th>\n",
       "      <td>Mid_level</td>\n",
       "      <td>47</td>\n",
       "      <td>23</td>\n",
       "      <td>70</td>\n",
       "      <td>32.86</td>\n",
       "    </tr>\n",
       "    <tr>\n",
       "      <th>0</th>\n",
       "      <td>Freshgraduate_program</td>\n",
       "      <td>119</td>\n",
       "      <td>50</td>\n",
       "      <td>169</td>\n",
       "      <td>29.59</td>\n",
       "    </tr>\n",
       "  </tbody>\n",
       "</table>\n",
       "</div>"
      ],
      "text/plain": [
       "Resign           JenjangKarir  Not Resign  Resign  Total Karyawan  \\\n",
       "2                Senior_level          32      16              48   \n",
       "1                   Mid_level          47      23              70   \n",
       "0       Freshgraduate_program         119      50             169   \n",
       "\n",
       "Resign  Resign Rate (%)  \n",
       "2                 33.33  \n",
       "1                 32.86  \n",
       "0                 29.59  "
      ]
     },
     "execution_count": 125,
     "metadata": {},
     "output_type": "execute_result"
    }
   ],
   "source": [
    "resignbyjenjangkarir = df[['JenjangKarir', 'Resign', 'EnterpriseID']]\n",
    "resignbyjenjangkarir = resignbyjenjangkarir.groupby(['JenjangKarir', 'Resign']).agg(count = ('EnterpriseID', 'nunique')).reset_index()\n",
    "resignbyjenjangkarir = resignbyjenjangkarir.pivot(index='JenjangKarir', columns='Resign', values='count').reset_index().fillna(0)\n",
    "resignbyjenjangkarir = resignbyjenjangkarir.rename({'No' : 'Not Resign', 'Yes' : 'Resign'}, axis = 1)\n",
    "resignbyjenjangkarir['Total Karyawan'] = resignbyjenjangkarir['Not Resign'] + resignbyjenjangkarir['Resign']\n",
    "resignbyjenjangkarir['Resign Rate (%)'] = ((resignbyjenjangkarir['Resign']/resignbyjenjangkarir['Total Karyawan'])*100).round(2)\n",
    "resignbyjenjangkarir.sort_values('Resign Rate (%)', ascending = False)"
   ]
  },
  {
   "attachments": {},
   "cell_type": "markdown",
   "metadata": {},
   "source": [
    "**Performance Yearly Report**"
   ]
  },
  {
   "cell_type": "code",
   "execution_count": 126,
   "metadata": {},
   "outputs": [
    {
     "data": {
      "text/html": [
       "<div>\n",
       "<style scoped>\n",
       "    .dataframe tbody tr th:only-of-type {\n",
       "        vertical-align: middle;\n",
       "    }\n",
       "\n",
       "    .dataframe tbody tr th {\n",
       "        vertical-align: top;\n",
       "    }\n",
       "\n",
       "    .dataframe thead th {\n",
       "        text-align: right;\n",
       "    }\n",
       "</style>\n",
       "<table border=\"1\" class=\"dataframe\">\n",
       "  <thead>\n",
       "    <tr style=\"text-align: right;\">\n",
       "      <th>Resign</th>\n",
       "      <th>PerformancePegawai</th>\n",
       "      <th>Not Resign</th>\n",
       "      <th>Resign</th>\n",
       "      <th>Total Karyawan</th>\n",
       "      <th>Resign Rate (%)</th>\n",
       "    </tr>\n",
       "  </thead>\n",
       "  <tbody>\n",
       "    <tr>\n",
       "      <th>3</th>\n",
       "      <td>Sangat_bagus</td>\n",
       "      <td>44</td>\n",
       "      <td>29</td>\n",
       "      <td>73</td>\n",
       "      <td>39.73</td>\n",
       "    </tr>\n",
       "    <tr>\n",
       "      <th>4</th>\n",
       "      <td>Sangat_kurang</td>\n",
       "      <td>15</td>\n",
       "      <td>9</td>\n",
       "      <td>24</td>\n",
       "      <td>37.50</td>\n",
       "    </tr>\n",
       "    <tr>\n",
       "      <th>1</th>\n",
       "      <td>Biasa</td>\n",
       "      <td>59</td>\n",
       "      <td>26</td>\n",
       "      <td>85</td>\n",
       "      <td>30.59</td>\n",
       "    </tr>\n",
       "    <tr>\n",
       "      <th>2</th>\n",
       "      <td>Kurang</td>\n",
       "      <td>23</td>\n",
       "      <td>8</td>\n",
       "      <td>31</td>\n",
       "      <td>25.81</td>\n",
       "    </tr>\n",
       "    <tr>\n",
       "      <th>0</th>\n",
       "      <td>Bagus</td>\n",
       "      <td>57</td>\n",
       "      <td>17</td>\n",
       "      <td>74</td>\n",
       "      <td>22.97</td>\n",
       "    </tr>\n",
       "  </tbody>\n",
       "</table>\n",
       "</div>"
      ],
      "text/plain": [
       "Resign PerformancePegawai  Not Resign  Resign  Total Karyawan  Resign Rate (%)\n",
       "3            Sangat_bagus          44      29              73            39.73\n",
       "4           Sangat_kurang          15       9              24            37.50\n",
       "1                   Biasa          59      26              85            30.59\n",
       "2                  Kurang          23       8              31            25.81\n",
       "0                   Bagus          57      17              74            22.97"
      ]
     },
     "execution_count": 126,
     "metadata": {},
     "output_type": "execute_result"
    }
   ],
   "source": [
    "resignbyperformance = df[['PerformancePegawai', 'Resign', 'EnterpriseID']]\n",
    "resignbyperformance = resignbyperformance.groupby(['PerformancePegawai', 'Resign']).agg(count = ('EnterpriseID', 'nunique')).reset_index()\n",
    "resignbyperformance = resignbyperformance.pivot(index='PerformancePegawai', columns='Resign', values='count').reset_index().fillna(0)\n",
    "resignbyperformance = resignbyperformance.rename({'No' : 'Not Resign', 'Yes' : 'Resign'}, axis = 1)\n",
    "resignbyperformance['Total Karyawan'] = resignbyperformance['Not Resign'] + resignbyperformance['Resign']\n",
    "resignbyperformance['Resign Rate (%)'] = ((resignbyperformance['Resign']/resignbyperformance['Total Karyawan'])*100).round(2)\n",
    "resignbyperformance.sort_values('Resign Rate (%)', ascending = False)"
   ]
  },
  {
   "attachments": {},
   "cell_type": "markdown",
   "metadata": {},
   "source": [
    "**Employee Satisfaction Yearly Report**"
   ]
  },
  {
   "cell_type": "code",
   "execution_count": 127,
   "metadata": {},
   "outputs": [
    {
     "data": {
      "text/html": [
       "<div>\n",
       "<style scoped>\n",
       "    .dataframe tbody tr th:only-of-type {\n",
       "        vertical-align: middle;\n",
       "    }\n",
       "\n",
       "    .dataframe tbody tr th {\n",
       "        vertical-align: top;\n",
       "    }\n",
       "\n",
       "    .dataframe thead th {\n",
       "        text-align: right;\n",
       "    }\n",
       "</style>\n",
       "<table border=\"1\" class=\"dataframe\">\n",
       "  <thead>\n",
       "    <tr style=\"text-align: right;\">\n",
       "      <th>Resign</th>\n",
       "      <th>SkorKepuasanPegawai</th>\n",
       "      <th>Not Resign</th>\n",
       "      <th>Resign</th>\n",
       "      <th>Total Karyawan</th>\n",
       "      <th>Resign Rate (%)</th>\n",
       "    </tr>\n",
       "  </thead>\n",
       "  <tbody>\n",
       "    <tr>\n",
       "      <th>0</th>\n",
       "      <td>1.0</td>\n",
       "      <td>1</td>\n",
       "      <td>1</td>\n",
       "      <td>2</td>\n",
       "      <td>50.00</td>\n",
       "    </tr>\n",
       "    <tr>\n",
       "      <th>1</th>\n",
       "      <td>2.0</td>\n",
       "      <td>6</td>\n",
       "      <td>2</td>\n",
       "      <td>8</td>\n",
       "      <td>25.00</td>\n",
       "    </tr>\n",
       "    <tr>\n",
       "      <th>2</th>\n",
       "      <td>3.0</td>\n",
       "      <td>61</td>\n",
       "      <td>35</td>\n",
       "      <td>96</td>\n",
       "      <td>36.46</td>\n",
       "    </tr>\n",
       "    <tr>\n",
       "      <th>3</th>\n",
       "      <td>4.0</td>\n",
       "      <td>62</td>\n",
       "      <td>23</td>\n",
       "      <td>85</td>\n",
       "      <td>27.06</td>\n",
       "    </tr>\n",
       "    <tr>\n",
       "      <th>4</th>\n",
       "      <td>5.0</td>\n",
       "      <td>64</td>\n",
       "      <td>27</td>\n",
       "      <td>91</td>\n",
       "      <td>29.67</td>\n",
       "    </tr>\n",
       "  </tbody>\n",
       "</table>\n",
       "</div>"
      ],
      "text/plain": [
       "Resign  SkorKepuasanPegawai  Not Resign  Resign  Total Karyawan  \\\n",
       "0                       1.0           1       1               2   \n",
       "1                       2.0           6       2               8   \n",
       "2                       3.0          61      35              96   \n",
       "3                       4.0          62      23              85   \n",
       "4                       5.0          64      27              91   \n",
       "\n",
       "Resign  Resign Rate (%)  \n",
       "0                 50.00  \n",
       "1                 25.00  \n",
       "2                 36.46  \n",
       "3                 27.06  \n",
       "4                 29.67  "
      ]
     },
     "execution_count": 127,
     "metadata": {},
     "output_type": "execute_result"
    }
   ],
   "source": [
    "resignbyskorkepuasan = df[['SkorKepuasanPegawai', 'Resign', 'EnterpriseID']]\n",
    "resignbyskorkepuasan = resignbyskorkepuasan.groupby(['SkorKepuasanPegawai', 'Resign']).agg(count = ('EnterpriseID', 'nunique')).reset_index()\n",
    "resignbyskorkepuasan = resignbyskorkepuasan.pivot(index='SkorKepuasanPegawai', columns='Resign', values='count').reset_index().fillna(0)\n",
    "resignbyskorkepuasan = resignbyskorkepuasan.rename({'No' : 'Not Resign', 'Yes' : 'Resign'}, axis = 1)\n",
    "resignbyskorkepuasan['Total Karyawan'] = resignbyskorkepuasan['Not Resign'] + resignbyskorkepuasan['Resign']\n",
    "resignbyskorkepuasan['Resign Rate (%)'] = ((resignbyskorkepuasan['Resign']/resignbyskorkepuasan['Total Karyawan'])*100).round(2)\n",
    "resignbyskorkepuasan"
   ]
  },
  {
   "attachments": {},
   "cell_type": "markdown",
   "metadata": {},
   "source": [
    "**Employment Status Yearly Report**"
   ]
  },
  {
   "cell_type": "code",
   "execution_count": 128,
   "metadata": {},
   "outputs": [
    {
     "data": {
      "text/html": [
       "<div>\n",
       "<style scoped>\n",
       "    .dataframe tbody tr th:only-of-type {\n",
       "        vertical-align: middle;\n",
       "    }\n",
       "\n",
       "    .dataframe tbody tr th {\n",
       "        vertical-align: top;\n",
       "    }\n",
       "\n",
       "    .dataframe thead th {\n",
       "        text-align: right;\n",
       "    }\n",
       "</style>\n",
       "<table border=\"1\" class=\"dataframe\">\n",
       "  <thead>\n",
       "    <tr style=\"text-align: right;\">\n",
       "      <th>Resign</th>\n",
       "      <th>StatusKepegawaian</th>\n",
       "      <th>Not Resign</th>\n",
       "      <th>Resign</th>\n",
       "      <th>Total Karyawan</th>\n",
       "      <th>Resign Rate (%)</th>\n",
       "    </tr>\n",
       "  </thead>\n",
       "  <tbody>\n",
       "    <tr>\n",
       "      <th>0</th>\n",
       "      <td>FullTime</td>\n",
       "      <td>148</td>\n",
       "      <td>69</td>\n",
       "      <td>217</td>\n",
       "      <td>31.80</td>\n",
       "    </tr>\n",
       "    <tr>\n",
       "      <th>1</th>\n",
       "      <td>Internship</td>\n",
       "      <td>1</td>\n",
       "      <td>3</td>\n",
       "      <td>4</td>\n",
       "      <td>75.00</td>\n",
       "    </tr>\n",
       "    <tr>\n",
       "      <th>2</th>\n",
       "      <td>Outsource</td>\n",
       "      <td>49</td>\n",
       "      <td>17</td>\n",
       "      <td>66</td>\n",
       "      <td>25.76</td>\n",
       "    </tr>\n",
       "  </tbody>\n",
       "</table>\n",
       "</div>"
      ],
      "text/plain": [
       "Resign StatusKepegawaian  Not Resign  Resign  Total Karyawan  Resign Rate (%)\n",
       "0               FullTime         148      69             217            31.80\n",
       "1             Internship           1       3               4            75.00\n",
       "2              Outsource          49      17              66            25.76"
      ]
     },
     "execution_count": 128,
     "metadata": {},
     "output_type": "execute_result"
    }
   ],
   "source": [
    "resignbystatuskepegawaian = df[['StatusKepegawaian', 'Resign', 'EnterpriseID']]\n",
    "resignbystatuskepegawaian = resignbystatuskepegawaian.groupby(['StatusKepegawaian', 'Resign']).agg(count = ('EnterpriseID', 'nunique')).reset_index()\n",
    "resignbystatuskepegawaian = resignbystatuskepegawaian.pivot(index='StatusKepegawaian', columns='Resign', values='count').reset_index().fillna(0)\n",
    "resignbystatuskepegawaian = resignbystatuskepegawaian.rename({'No' : 'Not Resign', 'Yes' : 'Resign'}, axis = 1)\n",
    "resignbystatuskepegawaian['Total Karyawan'] = resignbystatuskepegawaian['Not Resign'] + resignbystatuskepegawaian['Resign']\n",
    "resignbystatuskepegawaian['Resign Rate (%)'] = ((resignbystatuskepegawaian['Resign']/resignbystatuskepegawaian['Total Karyawan'])*100).round(2)\n",
    "resignbystatuskepegawaian"
   ]
  },
  {
   "attachments": {},
   "cell_type": "markdown",
   "metadata": {},
   "source": [
    "### Analisis Karakteristik karyawan Resign"
   ]
  },
  {
   "cell_type": "code",
   "execution_count": 129,
   "metadata": {},
   "outputs": [],
   "source": [
    "# Creating new dataframe for resign employee\n",
    "dfresign = df[df['Resign'] == 'Yes']"
   ]
  },
  {
   "attachments": {},
   "cell_type": "markdown",
   "metadata": {},
   "source": [
    "### Analisis Karakteristik karyawan Stay"
   ]
  },
  {
   "cell_type": "code",
   "execution_count": 130,
   "metadata": {},
   "outputs": [],
   "source": [
    "# Creating new dataframe for stay employee\n",
    "dfresign = df[df['Resign'] == 'No']"
   ]
  },
  {
   "attachments": {},
   "cell_type": "markdown",
   "metadata": {},
   "source": [
    "### Data Modeling"
   ]
  },
  {
   "attachments": {},
   "cell_type": "markdown",
   "metadata": {},
   "source": [
    "Cek terlebih dahulu data yang akan digunakan untuk modeling."
   ]
  },
  {
   "cell_type": "code",
   "execution_count": 131,
   "metadata": {},
   "outputs": [
    {
     "name": "stdout",
     "output_type": "stream",
     "text": [
      "<class 'pandas.core.frame.DataFrame'>\n",
      "RangeIndex: 287 entries, 0 to 286\n",
      "Data columns (total 28 columns):\n",
      " #   Column                              Non-Null Count  Dtype         \n",
      "---  ------                              --------------  -----         \n",
      " 0   Username                            287 non-null    object        \n",
      " 1   EnterpriseID                        287 non-null    int64         \n",
      " 2   StatusPernikahan                    287 non-null    object        \n",
      " 3   JenisKelamin                        287 non-null    object        \n",
      " 4   StatusKepegawaian                   287 non-null    object        \n",
      " 5   Pekerjaan                           287 non-null    object        \n",
      " 6   JenjangKarir                        287 non-null    object        \n",
      " 7   PerformancePegawai                  287 non-null    object        \n",
      " 8   AsalDaerah                          287 non-null    object        \n",
      " 9   HiringPlatform                      287 non-null    object        \n",
      " 10  SkorSurveyEngagement                287 non-null    int64         \n",
      " 11  SkorKepuasanPegawai                 282 non-null    float64       \n",
      " 12  JumlahKeikutsertaanProjek           284 non-null    float64       \n",
      " 13  JumlahKeterlambatanSebulanTerakhir  286 non-null    float64       \n",
      " 14  JumlahKetidakhadiran                281 non-null    float64       \n",
      " 15  NomorHP                             287 non-null    object        \n",
      " 16  Email                               287 non-null    object        \n",
      " 17  TingkatPendidikan                   287 non-null    object        \n",
      " 18  PernahBekerja                       287 non-null    object        \n",
      " 19  AlasanResign                        287 non-null    object        \n",
      " 20  TanggalLahir                        287 non-null    datetime64[ns]\n",
      " 21  TanggalHiring                       287 non-null    datetime64[ns]\n",
      " 22  TanggalPenilaianKaryawan            287 non-null    object        \n",
      " 23  TanggalResign                       287 non-null    object        \n",
      " 24  Resign                              287 non-null    object        \n",
      " 25  Age                                 287 non-null    int64         \n",
      " 26  TahunHiring                         287 non-null    int64         \n",
      " 27  TahunResign                         287 non-null    object        \n",
      "dtypes: datetime64[ns](2), float64(4), int64(4), object(18)\n",
      "memory usage: 62.9+ KB\n"
     ]
    }
   ],
   "source": [
    "df_model = df.copy()\n",
    "df_model.info()"
   ]
  },
  {
   "attachments": {},
   "cell_type": "markdown",
   "metadata": {},
   "source": [
    "**Missing Value Handling**"
   ]
  },
  {
   "cell_type": "code",
   "execution_count": 132,
   "metadata": {},
   "outputs": [
    {
     "data": {
      "text/html": [
       "<div>\n",
       "<style scoped>\n",
       "    .dataframe tbody tr th:only-of-type {\n",
       "        vertical-align: middle;\n",
       "    }\n",
       "\n",
       "    .dataframe tbody tr th {\n",
       "        vertical-align: top;\n",
       "    }\n",
       "\n",
       "    .dataframe thead th {\n",
       "        text-align: right;\n",
       "    }\n",
       "</style>\n",
       "<table border=\"1\" class=\"dataframe\">\n",
       "  <thead>\n",
       "    <tr style=\"text-align: right;\">\n",
       "      <th></th>\n",
       "      <th>index</th>\n",
       "      <th>0</th>\n",
       "    </tr>\n",
       "  </thead>\n",
       "  <tbody>\n",
       "    <tr>\n",
       "      <th>11</th>\n",
       "      <td>SkorKepuasanPegawai</td>\n",
       "      <td>5</td>\n",
       "    </tr>\n",
       "    <tr>\n",
       "      <th>12</th>\n",
       "      <td>JumlahKeikutsertaanProjek</td>\n",
       "      <td>3</td>\n",
       "    </tr>\n",
       "    <tr>\n",
       "      <th>13</th>\n",
       "      <td>JumlahKeterlambatanSebulanTerakhir</td>\n",
       "      <td>1</td>\n",
       "    </tr>\n",
       "    <tr>\n",
       "      <th>14</th>\n",
       "      <td>JumlahKetidakhadiran</td>\n",
       "      <td>6</td>\n",
       "    </tr>\n",
       "  </tbody>\n",
       "</table>\n",
       "</div>"
      ],
      "text/plain": [
       "                                 index  0\n",
       "11                 SkorKepuasanPegawai  5\n",
       "12           JumlahKeikutsertaanProjek  3\n",
       "13  JumlahKeterlambatanSebulanTerakhir  1\n",
       "14                JumlahKetidakhadiran  6"
      ]
     },
     "execution_count": 132,
     "metadata": {},
     "output_type": "execute_result"
    }
   ],
   "source": [
    "missing_value = df_model.isnull().sum().reset_index()\n",
    "missing_value = missing_value[missing_value[0] > 0]\n",
    "missing_value"
   ]
  },
  {
   "attachments": {},
   "cell_type": "markdown",
   "metadata": {},
   "source": [
    "Data dengan missing value kemudian akan diimputasi dengan nilai 0, karena dianggap tidak mengisi isian."
   ]
  },
  {
   "cell_type": "code",
   "execution_count": 133,
   "metadata": {},
   "outputs": [],
   "source": [
    "df_model[['SkorKepuasanPegawai', 'JumlahKeikutsertaanProjek', 'JumlahKeterlambatanSebulanTerakhir', 'JumlahKetidakhadiran']] = df_model[['SkorKepuasanPegawai', 'JumlahKeikutsertaanProjek', 'JumlahKeterlambatanSebulanTerakhir', 'JumlahKetidakhadiran']].fillna(0)"
   ]
  },
  {
   "attachments": {},
   "cell_type": "markdown",
   "metadata": {},
   "source": [
    "Akan dicek kembali banyak missing value yang ada"
   ]
  },
  {
   "cell_type": "code",
   "execution_count": 134,
   "metadata": {},
   "outputs": [
    {
     "data": {
      "text/html": [
       "<div>\n",
       "<style scoped>\n",
       "    .dataframe tbody tr th:only-of-type {\n",
       "        vertical-align: middle;\n",
       "    }\n",
       "\n",
       "    .dataframe tbody tr th {\n",
       "        vertical-align: top;\n",
       "    }\n",
       "\n",
       "    .dataframe thead th {\n",
       "        text-align: right;\n",
       "    }\n",
       "</style>\n",
       "<table border=\"1\" class=\"dataframe\">\n",
       "  <thead>\n",
       "    <tr style=\"text-align: right;\">\n",
       "      <th></th>\n",
       "      <th>index</th>\n",
       "      <th>0</th>\n",
       "    </tr>\n",
       "  </thead>\n",
       "  <tbody>\n",
       "  </tbody>\n",
       "</table>\n",
       "</div>"
      ],
      "text/plain": [
       "Empty DataFrame\n",
       "Columns: [index, 0]\n",
       "Index: []"
      ]
     },
     "execution_count": 134,
     "metadata": {},
     "output_type": "execute_result"
    }
   ],
   "source": [
    "missing_value = df_model.isnull().sum().reset_index()\n",
    "missing_value = missing_value[missing_value[0] > 0]\n",
    "missing_value"
   ]
  },
  {
   "attachments": {},
   "cell_type": "markdown",
   "metadata": {},
   "source": [
    "Sudah tidak ada missing value pada dataset"
   ]
  },
  {
   "attachments": {},
   "cell_type": "markdown",
   "metadata": {},
   "source": [
    "**Feature Selection and Engineering**"
   ]
  },
  {
   "attachments": {},
   "cell_type": "markdown",
   "metadata": {},
   "source": [
    "Kemudian akan didrop kolom yang tidak akan digunakan, seperti username, enterprise_id, email, nomorhp, dan TanggalLahir."
   ]
  },
  {
   "cell_type": "code",
   "execution_count": 135,
   "metadata": {},
   "outputs": [],
   "source": [
    "df_model = df_model.drop(['Username', 'EnterpriseID', 'NomorHP', 'Email', 'TanggalLahir', 'TanggalPenilaianKaryawan', 'TahunResign', 'TahunHiring'], axis = 1)"
   ]
  },
  {
   "attachments": {},
   "cell_type": "markdown",
   "metadata": {},
   "source": [
    "Selanjutnya akan dibuat suatu kolom Lama Bekerja"
   ]
  },
  {
   "cell_type": "code",
   "execution_count": 136,
   "metadata": {},
   "outputs": [],
   "source": [
    "df_model['TanggalResign'] = df_model['TanggalResign'].replace({'-': datetime.now().date()}) #Replace '-' with today date\n",
    "df_model['LamaBekerja'] = (pd.to_datetime(df_model['TanggalResign']) - pd.to_datetime(df_model['TanggalHiring'])).dt.days\n",
    "df_model = df_model.drop(['TanggalHiring', 'TanggalResign'], axis = 1)"
   ]
  },
  {
   "cell_type": "code",
   "execution_count": 137,
   "metadata": {},
   "outputs": [
    {
     "name": "stdout",
     "output_type": "stream",
     "text": [
      "StatusPernikahan ( 4 ): \n",
      " Belum_menikah    132\n",
      "Menikah           57\n",
      "Lainnya           51\n",
      "Bercerai          47\n",
      "Name: StatusPernikahan, dtype: int64 \n",
      "\n",
      "JenisKelamin ( 2 ): \n",
      " Wanita    167\n",
      "Pria      120\n",
      "Name: JenisKelamin, dtype: int64 \n",
      "\n",
      "StatusKepegawaian ( 3 ): \n",
      " FullTime      217\n",
      "Outsource      66\n",
      "Internship      4\n",
      "Name: StatusKepegawaian, dtype: int64 \n",
      "\n",
      "Pekerjaan ( 14 ): \n",
      " Software Engineer (Back End)      109\n",
      "Software Engineer (Front End)      72\n",
      "Software Engineer (Android)        24\n",
      "Product Design (UI & UX)           24\n",
      "Product Manager                    17\n",
      "Data Analyst                       16\n",
      "Data Engineer                      10\n",
      "Scrum Master                        3\n",
      "Software Engineer (iOS)             3\n",
      "DevOps Engineer                     3\n",
      "Digital Product Manager             2\n",
      "Machine Learning Engineer           2\n",
      "Product Design (UX Researcher)      1\n",
      "Software Architect                  1\n",
      "Name: Pekerjaan, dtype: int64 \n",
      "\n",
      "JenjangKarir ( 3 ): \n",
      " Freshgraduate_program    169\n",
      "Mid_level                 70\n",
      "Senior_level              48\n",
      "Name: JenjangKarir, dtype: int64 \n",
      "\n",
      "PerformancePegawai ( 5 ): \n",
      " Biasa            85\n",
      "Bagus            74\n",
      "Sangat_bagus     73\n",
      "Kurang           31\n",
      "Sangat_kurang    24\n",
      "Name: PerformancePegawai, dtype: int64 \n",
      "\n",
      "AsalDaerah ( 5 ): \n",
      " Jakarta Pusat      72\n",
      "Jakarta Timur      63\n",
      "Jakarta Barat      55\n",
      "Jakarta Utara      52\n",
      "Jakarta Selatan    45\n",
      "Name: AsalDaerah, dtype: int64 \n",
      "\n",
      "HiringPlatform ( 9 ): \n",
      " Indeed                     85\n",
      "LinkedIn                   69\n",
      "Google_Search              46\n",
      "Diversity_Job_Fair         27\n",
      "Employee_Referral          24\n",
      "CareerBuilder              22\n",
      "Website                    11\n",
      "Other                       2\n",
      "On-line_Web_application     1\n",
      "Name: HiringPlatform, dtype: int64 \n",
      "\n",
      "TingkatPendidikan ( 3 ): \n",
      " Sarjana     176\n",
      "Magister     87\n",
      "Doktor       24\n",
      "Name: TingkatPendidikan, dtype: int64 \n",
      "\n",
      "PernahBekerja ( 2 ): \n",
      " No     286\n",
      "Yes      1\n",
      "Name: PernahBekerja, dtype: int64 \n",
      "\n",
      "AlasanResign ( 11 ): \n",
      " masih_bekerja               198\n",
      "jam_kerja                    16\n",
      "ganti_karir                  14\n",
      "kejelasan_karir              11\n",
      "tidak_bisa_remote            11\n",
      "toxic_culture                10\n",
      "leadership                    9\n",
      "tidak_bahagia                 8\n",
      "internal_conflict             4\n",
      "Product Design (UI & UX)      4\n",
      "apresiasi                     2\n",
      "Name: AlasanResign, dtype: int64 \n",
      "\n",
      "Resign ( 2 ): \n",
      " No     198\n",
      "Yes     89\n",
      "Name: Resign, dtype: int64 \n",
      "\n"
     ]
    }
   ],
   "source": [
    "for i in df_model.select_dtypes('object').columns:\n",
    "    print(i, '(', len(set(df_model[i])), '): \\n', df_model[i].value_counts(),'\\n')"
   ]
  },
  {
   "attachments": {},
   "cell_type": "markdown",
   "metadata": {},
   "source": [
    "Kita akan menghapus kolom yang memiliki rasio object yang timpang karena dianggap dapat memberikan bias kepada hasil model."
   ]
  },
  {
   "cell_type": "code",
   "execution_count": 138,
   "metadata": {},
   "outputs": [],
   "source": [
    "df_model_encode = df_model.drop(['HiringPlatform', 'AsalDaerah', 'AlasanResign'], axis = 1) # Drop unused column"
   ]
  },
  {
   "attachments": {},
   "cell_type": "markdown",
   "metadata": {},
   "source": [
    "Selanjutnya, kita akan melakukan transformasi kolom bertipe object akan diubah menjadi numerik. Untuk feature dengan lebih dari 2 kategori object akan dikelompokkan terlebih dahulu menjadi 2-3 kategori berdasarkan rasionya kemudian baru akan dilakukan one hot encoding dengan fungsi getdummies, dan feature dengan 2 kategori akan dilakukan one hot encoding secara langsung."
   ]
  },
  {
   "cell_type": "code",
   "execution_count": 139,
   "metadata": {},
   "outputs": [],
   "source": [
    "# Grouping \n",
    "df_model_encode['StatusPernikahan'] = df_model_encode['StatusPernikahan'].replace({'Bercerai':'Lainnya'}) # Masukkan kelompok bercerai ke dalam kelompok Lainnya\n",
    "df_model_encode['Pekerjaan'] = df_model_encode['Pekerjaan'].replace({\n",
    "    'Data Analyst' : 'Others',\n",
    "    'Data Engineer' : 'Others',\n",
    "    'DevOps Engineer' : 'Others',\n",
    "    'Digital Product Manager' : 'Others',\n",
    "    'Machine Learning Engineer' : 'Others',\n",
    "    'Product Design (UI & UX)' : 'Others',\n",
    "    'Product Design (UX Researcher)' : 'Others',\n",
    "    'Product Manager' : 'Others',\n",
    "    'Scrum Master' : 'Others',\n",
    "    'Software Architect' : 'SE',\n",
    "    'Software Engineer (Android)' : 'SE',\n",
    "    'Software Engineer (Back End)' : 'SE',\n",
    "    'Software Engineer (Front End)' : 'SE',\n",
    "    'Software Engineer (iOS)' : 'SE'\n",
    "}) # Mengelompokan Software Engineer menjadi kelompok 'SE', dan lainnya menjadi kelompok 'others'\n"
   ]
  },
  {
   "cell_type": "code",
   "execution_count": 140,
   "metadata": {},
   "outputs": [
    {
     "data": {
      "text/html": [
       "<div>\n",
       "<style scoped>\n",
       "    .dataframe tbody tr th:only-of-type {\n",
       "        vertical-align: middle;\n",
       "    }\n",
       "\n",
       "    .dataframe tbody tr th {\n",
       "        vertical-align: top;\n",
       "    }\n",
       "\n",
       "    .dataframe thead th {\n",
       "        text-align: right;\n",
       "    }\n",
       "</style>\n",
       "<table border=\"1\" class=\"dataframe\">\n",
       "  <thead>\n",
       "    <tr style=\"text-align: right;\">\n",
       "      <th></th>\n",
       "      <th>JenisKelamin</th>\n",
       "      <th>PerformancePegawai</th>\n",
       "      <th>SkorSurveyEngagement</th>\n",
       "      <th>SkorKepuasanPegawai</th>\n",
       "      <th>JumlahKeikutsertaanProjek</th>\n",
       "      <th>JumlahKeterlambatanSebulanTerakhir</th>\n",
       "      <th>JumlahKetidakhadiran</th>\n",
       "      <th>PernahBekerja</th>\n",
       "      <th>Resign</th>\n",
       "      <th>Age</th>\n",
       "      <th>...</th>\n",
       "      <th>Pekerjaan_SE</th>\n",
       "      <th>StatusKepegawaian_FullTime</th>\n",
       "      <th>StatusKepegawaian_Internship</th>\n",
       "      <th>StatusKepegawaian_Outsource</th>\n",
       "      <th>JenjangKarir_Freshgraduate_program</th>\n",
       "      <th>JenjangKarir_Mid_level</th>\n",
       "      <th>JenjangKarir_Senior_level</th>\n",
       "      <th>TingkatPendidikan_Doktor</th>\n",
       "      <th>TingkatPendidikan_Magister</th>\n",
       "      <th>TingkatPendidikan_Sarjana</th>\n",
       "    </tr>\n",
       "  </thead>\n",
       "  <tbody>\n",
       "    <tr>\n",
       "      <th>0</th>\n",
       "      <td>Pria</td>\n",
       "      <td>Sangat_bagus</td>\n",
       "      <td>4</td>\n",
       "      <td>4.0</td>\n",
       "      <td>0.0</td>\n",
       "      <td>0.0</td>\n",
       "      <td>9.0</td>\n",
       "      <td>No</td>\n",
       "      <td>No</td>\n",
       "      <td>51</td>\n",
       "      <td>...</td>\n",
       "      <td>1</td>\n",
       "      <td>0</td>\n",
       "      <td>0</td>\n",
       "      <td>1</td>\n",
       "      <td>1</td>\n",
       "      <td>0</td>\n",
       "      <td>0</td>\n",
       "      <td>0</td>\n",
       "      <td>1</td>\n",
       "      <td>0</td>\n",
       "    </tr>\n",
       "    <tr>\n",
       "      <th>1</th>\n",
       "      <td>Pria</td>\n",
       "      <td>Sangat_kurang</td>\n",
       "      <td>4</td>\n",
       "      <td>4.0</td>\n",
       "      <td>4.0</td>\n",
       "      <td>0.0</td>\n",
       "      <td>3.0</td>\n",
       "      <td>No</td>\n",
       "      <td>Yes</td>\n",
       "      <td>39</td>\n",
       "      <td>...</td>\n",
       "      <td>0</td>\n",
       "      <td>1</td>\n",
       "      <td>0</td>\n",
       "      <td>0</td>\n",
       "      <td>1</td>\n",
       "      <td>0</td>\n",
       "      <td>0</td>\n",
       "      <td>0</td>\n",
       "      <td>0</td>\n",
       "      <td>1</td>\n",
       "    </tr>\n",
       "    <tr>\n",
       "      <th>2</th>\n",
       "      <td>Pria</td>\n",
       "      <td>Bagus</td>\n",
       "      <td>4</td>\n",
       "      <td>3.0</td>\n",
       "      <td>0.0</td>\n",
       "      <td>0.0</td>\n",
       "      <td>11.0</td>\n",
       "      <td>No</td>\n",
       "      <td>Yes</td>\n",
       "      <td>49</td>\n",
       "      <td>...</td>\n",
       "      <td>1</td>\n",
       "      <td>1</td>\n",
       "      <td>0</td>\n",
       "      <td>0</td>\n",
       "      <td>1</td>\n",
       "      <td>0</td>\n",
       "      <td>0</td>\n",
       "      <td>0</td>\n",
       "      <td>1</td>\n",
       "      <td>0</td>\n",
       "    </tr>\n",
       "    <tr>\n",
       "      <th>3</th>\n",
       "      <td>Pria</td>\n",
       "      <td>Bagus</td>\n",
       "      <td>3</td>\n",
       "      <td>3.0</td>\n",
       "      <td>0.0</td>\n",
       "      <td>4.0</td>\n",
       "      <td>6.0</td>\n",
       "      <td>No</td>\n",
       "      <td>No</td>\n",
       "      <td>44</td>\n",
       "      <td>...</td>\n",
       "      <td>1</td>\n",
       "      <td>0</td>\n",
       "      <td>0</td>\n",
       "      <td>1</td>\n",
       "      <td>1</td>\n",
       "      <td>0</td>\n",
       "      <td>0</td>\n",
       "      <td>0</td>\n",
       "      <td>0</td>\n",
       "      <td>1</td>\n",
       "    </tr>\n",
       "    <tr>\n",
       "      <th>4</th>\n",
       "      <td>Wanita</td>\n",
       "      <td>Bagus</td>\n",
       "      <td>3</td>\n",
       "      <td>3.0</td>\n",
       "      <td>0.0</td>\n",
       "      <td>0.0</td>\n",
       "      <td>11.0</td>\n",
       "      <td>No</td>\n",
       "      <td>Yes</td>\n",
       "      <td>49</td>\n",
       "      <td>...</td>\n",
       "      <td>0</td>\n",
       "      <td>1</td>\n",
       "      <td>0</td>\n",
       "      <td>0</td>\n",
       "      <td>1</td>\n",
       "      <td>0</td>\n",
       "      <td>0</td>\n",
       "      <td>0</td>\n",
       "      <td>0</td>\n",
       "      <td>1</td>\n",
       "    </tr>\n",
       "  </tbody>\n",
       "</table>\n",
       "<p>5 rows × 25 columns</p>\n",
       "</div>"
      ],
      "text/plain": [
       "  JenisKelamin PerformancePegawai  SkorSurveyEngagement  SkorKepuasanPegawai  \\\n",
       "0         Pria       Sangat_bagus                     4                  4.0   \n",
       "1         Pria      Sangat_kurang                     4                  4.0   \n",
       "2         Pria              Bagus                     4                  3.0   \n",
       "3         Pria              Bagus                     3                  3.0   \n",
       "4       Wanita              Bagus                     3                  3.0   \n",
       "\n",
       "   JumlahKeikutsertaanProjek  JumlahKeterlambatanSebulanTerakhir  \\\n",
       "0                        0.0                                 0.0   \n",
       "1                        4.0                                 0.0   \n",
       "2                        0.0                                 0.0   \n",
       "3                        0.0                                 4.0   \n",
       "4                        0.0                                 0.0   \n",
       "\n",
       "   JumlahKetidakhadiran PernahBekerja Resign  Age  ...  Pekerjaan_SE  \\\n",
       "0                   9.0            No     No   51  ...             1   \n",
       "1                   3.0            No    Yes   39  ...             0   \n",
       "2                  11.0            No    Yes   49  ...             1   \n",
       "3                   6.0            No     No   44  ...             1   \n",
       "4                  11.0            No    Yes   49  ...             0   \n",
       "\n",
       "   StatusKepegawaian_FullTime  StatusKepegawaian_Internship  \\\n",
       "0                           0                             0   \n",
       "1                           1                             0   \n",
       "2                           1                             0   \n",
       "3                           0                             0   \n",
       "4                           1                             0   \n",
       "\n",
       "   StatusKepegawaian_Outsource  JenjangKarir_Freshgraduate_program  \\\n",
       "0                            1                                   1   \n",
       "1                            0                                   1   \n",
       "2                            0                                   1   \n",
       "3                            1                                   1   \n",
       "4                            0                                   1   \n",
       "\n",
       "   JenjangKarir_Mid_level  JenjangKarir_Senior_level  \\\n",
       "0                       0                          0   \n",
       "1                       0                          0   \n",
       "2                       0                          0   \n",
       "3                       0                          0   \n",
       "4                       0                          0   \n",
       "\n",
       "   TingkatPendidikan_Doktor  TingkatPendidikan_Magister  \\\n",
       "0                         0                           1   \n",
       "1                         0                           0   \n",
       "2                         0                           1   \n",
       "3                         0                           0   \n",
       "4                         0                           0   \n",
       "\n",
       "   TingkatPendidikan_Sarjana  \n",
       "0                          0  \n",
       "1                          1  \n",
       "2                          0  \n",
       "3                          1  \n",
       "4                          1  \n",
       "\n",
       "[5 rows x 25 columns]"
      ]
     },
     "execution_count": 140,
     "metadata": {},
     "output_type": "execute_result"
    }
   ],
   "source": [
    "# Melakukan one hot encoding dengan Getdummy\n",
    "df_model_encode = pd.get_dummies(data = df_model_encode, columns = ['StatusPernikahan', 'Pekerjaan', 'StatusKepegawaian', 'JenjangKarir', 'TingkatPendidikan'])\n",
    "df_model_encode.head()"
   ]
  },
  {
   "cell_type": "code",
   "execution_count": 141,
   "metadata": {},
   "outputs": [],
   "source": [
    "# Encoding\n",
    "df_model_encode['JenisKelamin'] = df_model_encode['JenisKelamin'].replace({'Wanita':0, 'Pria':1})\n",
    "df_model_encode['PernahBekerja'] = df_model_encode['PernahBekerja'].replace({'No':0, 'Yes':1})\n",
    "df_model_encode['Resign'] = df_model_encode['Resign'].replace({'No':0, 'Yes':1})\n",
    "# melakukan label encoding pada Performance pegawai karena memiliki urutan\n",
    "df_model_encode['PerformancePegawai'] = df_model_encode['PerformancePegawai'].replace({'Sangat_kurang' :0, 'Kurang':1, 'Biasa':2, 'Bagus':3, 'Sangat_bagus':4})"
   ]
  },
  {
   "cell_type": "code",
   "execution_count": 142,
   "metadata": {},
   "outputs": [
    {
     "data": {
      "text/html": [
       "<div>\n",
       "<style scoped>\n",
       "    .dataframe tbody tr th:only-of-type {\n",
       "        vertical-align: middle;\n",
       "    }\n",
       "\n",
       "    .dataframe tbody tr th {\n",
       "        vertical-align: top;\n",
       "    }\n",
       "\n",
       "    .dataframe thead th {\n",
       "        text-align: right;\n",
       "    }\n",
       "</style>\n",
       "<table border=\"1\" class=\"dataframe\">\n",
       "  <thead>\n",
       "    <tr style=\"text-align: right;\">\n",
       "      <th></th>\n",
       "      <th>JenisKelamin</th>\n",
       "      <th>PerformancePegawai</th>\n",
       "      <th>SkorSurveyEngagement</th>\n",
       "      <th>SkorKepuasanPegawai</th>\n",
       "      <th>JumlahKeikutsertaanProjek</th>\n",
       "      <th>JumlahKeterlambatanSebulanTerakhir</th>\n",
       "      <th>JumlahKetidakhadiran</th>\n",
       "      <th>PernahBekerja</th>\n",
       "      <th>Resign</th>\n",
       "      <th>Age</th>\n",
       "      <th>...</th>\n",
       "      <th>Pekerjaan_SE</th>\n",
       "      <th>StatusKepegawaian_FullTime</th>\n",
       "      <th>StatusKepegawaian_Internship</th>\n",
       "      <th>StatusKepegawaian_Outsource</th>\n",
       "      <th>JenjangKarir_Freshgraduate_program</th>\n",
       "      <th>JenjangKarir_Mid_level</th>\n",
       "      <th>JenjangKarir_Senior_level</th>\n",
       "      <th>TingkatPendidikan_Doktor</th>\n",
       "      <th>TingkatPendidikan_Magister</th>\n",
       "      <th>TingkatPendidikan_Sarjana</th>\n",
       "    </tr>\n",
       "  </thead>\n",
       "  <tbody>\n",
       "    <tr>\n",
       "      <th>0</th>\n",
       "      <td>1</td>\n",
       "      <td>4</td>\n",
       "      <td>4</td>\n",
       "      <td>4.0</td>\n",
       "      <td>0.0</td>\n",
       "      <td>0.0</td>\n",
       "      <td>9.0</td>\n",
       "      <td>0</td>\n",
       "      <td>0</td>\n",
       "      <td>51</td>\n",
       "      <td>...</td>\n",
       "      <td>1</td>\n",
       "      <td>0</td>\n",
       "      <td>0</td>\n",
       "      <td>1</td>\n",
       "      <td>1</td>\n",
       "      <td>0</td>\n",
       "      <td>0</td>\n",
       "      <td>0</td>\n",
       "      <td>1</td>\n",
       "      <td>0</td>\n",
       "    </tr>\n",
       "    <tr>\n",
       "      <th>1</th>\n",
       "      <td>1</td>\n",
       "      <td>0</td>\n",
       "      <td>4</td>\n",
       "      <td>4.0</td>\n",
       "      <td>4.0</td>\n",
       "      <td>0.0</td>\n",
       "      <td>3.0</td>\n",
       "      <td>0</td>\n",
       "      <td>1</td>\n",
       "      <td>39</td>\n",
       "      <td>...</td>\n",
       "      <td>0</td>\n",
       "      <td>1</td>\n",
       "      <td>0</td>\n",
       "      <td>0</td>\n",
       "      <td>1</td>\n",
       "      <td>0</td>\n",
       "      <td>0</td>\n",
       "      <td>0</td>\n",
       "      <td>0</td>\n",
       "      <td>1</td>\n",
       "    </tr>\n",
       "    <tr>\n",
       "      <th>2</th>\n",
       "      <td>1</td>\n",
       "      <td>3</td>\n",
       "      <td>4</td>\n",
       "      <td>3.0</td>\n",
       "      <td>0.0</td>\n",
       "      <td>0.0</td>\n",
       "      <td>11.0</td>\n",
       "      <td>0</td>\n",
       "      <td>1</td>\n",
       "      <td>49</td>\n",
       "      <td>...</td>\n",
       "      <td>1</td>\n",
       "      <td>1</td>\n",
       "      <td>0</td>\n",
       "      <td>0</td>\n",
       "      <td>1</td>\n",
       "      <td>0</td>\n",
       "      <td>0</td>\n",
       "      <td>0</td>\n",
       "      <td>1</td>\n",
       "      <td>0</td>\n",
       "    </tr>\n",
       "    <tr>\n",
       "      <th>3</th>\n",
       "      <td>1</td>\n",
       "      <td>3</td>\n",
       "      <td>3</td>\n",
       "      <td>3.0</td>\n",
       "      <td>0.0</td>\n",
       "      <td>4.0</td>\n",
       "      <td>6.0</td>\n",
       "      <td>0</td>\n",
       "      <td>0</td>\n",
       "      <td>44</td>\n",
       "      <td>...</td>\n",
       "      <td>1</td>\n",
       "      <td>0</td>\n",
       "      <td>0</td>\n",
       "      <td>1</td>\n",
       "      <td>1</td>\n",
       "      <td>0</td>\n",
       "      <td>0</td>\n",
       "      <td>0</td>\n",
       "      <td>0</td>\n",
       "      <td>1</td>\n",
       "    </tr>\n",
       "    <tr>\n",
       "      <th>4</th>\n",
       "      <td>0</td>\n",
       "      <td>3</td>\n",
       "      <td>3</td>\n",
       "      <td>3.0</td>\n",
       "      <td>0.0</td>\n",
       "      <td>0.0</td>\n",
       "      <td>11.0</td>\n",
       "      <td>0</td>\n",
       "      <td>1</td>\n",
       "      <td>49</td>\n",
       "      <td>...</td>\n",
       "      <td>0</td>\n",
       "      <td>1</td>\n",
       "      <td>0</td>\n",
       "      <td>0</td>\n",
       "      <td>1</td>\n",
       "      <td>0</td>\n",
       "      <td>0</td>\n",
       "      <td>0</td>\n",
       "      <td>0</td>\n",
       "      <td>1</td>\n",
       "    </tr>\n",
       "  </tbody>\n",
       "</table>\n",
       "<p>5 rows × 25 columns</p>\n",
       "</div>"
      ],
      "text/plain": [
       "   JenisKelamin  PerformancePegawai  SkorSurveyEngagement  \\\n",
       "0             1                   4                     4   \n",
       "1             1                   0                     4   \n",
       "2             1                   3                     4   \n",
       "3             1                   3                     3   \n",
       "4             0                   3                     3   \n",
       "\n",
       "   SkorKepuasanPegawai  JumlahKeikutsertaanProjek  \\\n",
       "0                  4.0                        0.0   \n",
       "1                  4.0                        4.0   \n",
       "2                  3.0                        0.0   \n",
       "3                  3.0                        0.0   \n",
       "4                  3.0                        0.0   \n",
       "\n",
       "   JumlahKeterlambatanSebulanTerakhir  JumlahKetidakhadiran  PernahBekerja  \\\n",
       "0                                 0.0                   9.0              0   \n",
       "1                                 0.0                   3.0              0   \n",
       "2                                 0.0                  11.0              0   \n",
       "3                                 4.0                   6.0              0   \n",
       "4                                 0.0                  11.0              0   \n",
       "\n",
       "   Resign  Age  ...  Pekerjaan_SE  StatusKepegawaian_FullTime  \\\n",
       "0       0   51  ...             1                           0   \n",
       "1       1   39  ...             0                           1   \n",
       "2       1   49  ...             1                           1   \n",
       "3       0   44  ...             1                           0   \n",
       "4       1   49  ...             0                           1   \n",
       "\n",
       "   StatusKepegawaian_Internship  StatusKepegawaian_Outsource  \\\n",
       "0                             0                            1   \n",
       "1                             0                            0   \n",
       "2                             0                            0   \n",
       "3                             0                            1   \n",
       "4                             0                            0   \n",
       "\n",
       "   JenjangKarir_Freshgraduate_program  JenjangKarir_Mid_level  \\\n",
       "0                                   1                       0   \n",
       "1                                   1                       0   \n",
       "2                                   1                       0   \n",
       "3                                   1                       0   \n",
       "4                                   1                       0   \n",
       "\n",
       "   JenjangKarir_Senior_level  TingkatPendidikan_Doktor  \\\n",
       "0                          0                         0   \n",
       "1                          0                         0   \n",
       "2                          0                         0   \n",
       "3                          0                         0   \n",
       "4                          0                         0   \n",
       "\n",
       "   TingkatPendidikan_Magister  TingkatPendidikan_Sarjana  \n",
       "0                           1                          0  \n",
       "1                           0                          1  \n",
       "2                           1                          0  \n",
       "3                           0                          1  \n",
       "4                           0                          1  \n",
       "\n",
       "[5 rows x 25 columns]"
      ]
     },
     "execution_count": 142,
     "metadata": {},
     "output_type": "execute_result"
    }
   ],
   "source": [
    "df_model_encode.head()"
   ]
  },
  {
   "attachments": {},
   "cell_type": "markdown",
   "metadata": {},
   "source": [
    "**Data Splitting**"
   ]
  },
  {
   "attachments": {},
   "cell_type": "markdown",
   "metadata": {},
   "source": [
    "Selanjutnya akan dilakukan data splitting sebelum melakukan data preparation lebih lanjut, hal ini bertujuan karena data preparation yang akan kita lakukan selanjutnya meliputi outlier handling yang hanya akan dikenakan pada data train. Hal ini bertujuan untuk menghilangkan outlier pada data train agar tidak terjadi bias pada proses training model. Data test tidak perlu dikenakan outlier handling untuk menjaga keberagaman data pada saat data testing untuk melihat apakah model dapat memprediksi data yang beragam."
   ]
  },
  {
   "attachments": {},
   "cell_type": "markdown",
   "metadata": {},
   "source": [
    "Data splitting akan dilakukan dengan membagi data menjadi 80% data train dan 20% data testing."
   ]
  },
  {
   "cell_type": "code",
   "execution_count": 143,
   "metadata": {},
   "outputs": [],
   "source": [
    "#Data preparation\n",
    "#Splitting data train to features and target dataframe\n",
    "Feature = df_model_encode.drop(['Resign'],axis=1)\n",
    "Target = df_model_encode['Resign']"
   ]
  },
  {
   "cell_type": "code",
   "execution_count": 144,
   "metadata": {},
   "outputs": [
    {
     "name": "stdout",
     "output_type": "stream",
     "text": [
      "Shape of Feature :  (287, 24)\n",
      "Shape of Target :  (287,)\n"
     ]
    }
   ],
   "source": [
    "# Checking feature and target dataframe dimension\n",
    "print('Shape of Feature : ', Feature.shape)\n",
    "print('Shape of Target : ', Target.shape)"
   ]
  },
  {
   "cell_type": "code",
   "execution_count": 145,
   "metadata": {},
   "outputs": [],
   "source": [
    "#splitting data (80% data train and 20% data test)\n",
    "X_train, X_test, y_train, y_test = train_test_split(Feature, Target, test_size=0.20,random_state=0)"
   ]
  },
  {
   "cell_type": "code",
   "execution_count": 146,
   "metadata": {},
   "outputs": [
    {
     "name": "stdout",
     "output_type": "stream",
     "text": [
      "Shape of Feature of data train:  (229, 24)\n",
      "Shape of Target of data train :  (229,)\n",
      "Shape of Feature of data test:  (58, 24)\n",
      "Shape of Target of data test :  (58,)\n"
     ]
    }
   ],
   "source": [
    "# Checking Train and test dimension\n",
    "print('Shape of Feature of data train: ', X_train.shape)\n",
    "print('Shape of Target of data train : ', y_train.shape)\n",
    "print('Shape of Feature of data test: ', X_test.shape)\n",
    "print('Shape of Target of data test : ', y_test.shape)"
   ]
  },
  {
   "attachments": {},
   "cell_type": "markdown",
   "metadata": {},
   "source": [
    "**Outlier Handling**"
   ]
  },
  {
   "attachments": {},
   "cell_type": "markdown",
   "metadata": {},
   "source": [
    "Kita akan mengecek bagaimana persebaran data pada feature dengan tipe data int dan float"
   ]
  },
  {
   "cell_type": "code",
   "execution_count": 147,
   "metadata": {},
   "outputs": [
    {
     "name": "stderr",
     "output_type": "stream",
     "text": [
      "C:\\Users\\una\\AppData\\Local\\Temp\\ipykernel_1368\\2453245241.py:4: MatplotlibDeprecationWarning:\n",
      "\n",
      "Auto-removal of overlapping axes is deprecated since 3.6 and will be removed two minor releases later; explicitly call ax.remove() as needed.\n",
      "\n",
      "C:\\Users\\una\\AppData\\Local\\Temp\\ipykernel_1368\\2453245241.py:6: UserWarning:\n",
      "\n",
      "tight_layout not applied: number of rows in subplot specifications must be multiples of one another.\n",
      "\n",
      "C:\\Users\\una\\AppData\\Local\\Temp\\ipykernel_1368\\2453245241.py:4: MatplotlibDeprecationWarning:\n",
      "\n",
      "Auto-removal of overlapping axes is deprecated since 3.6 and will be removed two minor releases later; explicitly call ax.remove() as needed.\n",
      "\n",
      "C:\\Users\\una\\AppData\\Local\\Temp\\ipykernel_1368\\2453245241.py:6: UserWarning:\n",
      "\n",
      "tight_layout not applied: number of rows in subplot specifications must be multiples of one another.\n",
      "\n",
      "C:\\Users\\una\\AppData\\Local\\Temp\\ipykernel_1368\\2453245241.py:6: UserWarning:\n",
      "\n",
      "tight_layout not applied: number of rows in subplot specifications must be multiples of one another.\n",
      "\n",
      "C:\\Users\\una\\AppData\\Local\\Temp\\ipykernel_1368\\2453245241.py:6: UserWarning:\n",
      "\n",
      "tight_layout not applied: number of rows in subplot specifications must be multiples of one another.\n",
      "\n",
      "C:\\Users\\una\\AppData\\Local\\Temp\\ipykernel_1368\\2453245241.py:4: MatplotlibDeprecationWarning:\n",
      "\n",
      "Auto-removal of overlapping axes is deprecated since 3.6 and will be removed two minor releases later; explicitly call ax.remove() as needed.\n",
      "\n",
      "C:\\Users\\una\\AppData\\Local\\Temp\\ipykernel_1368\\2453245241.py:6: UserWarning:\n",
      "\n",
      "tight_layout not applied: number of rows in subplot specifications must be multiples of one another.\n",
      "\n",
      "C:\\Users\\una\\AppData\\Local\\Temp\\ipykernel_1368\\2453245241.py:4: MatplotlibDeprecationWarning:\n",
      "\n",
      "Auto-removal of overlapping axes is deprecated since 3.6 and will be removed two minor releases later; explicitly call ax.remove() as needed.\n",
      "\n",
      "C:\\Users\\una\\AppData\\Local\\Temp\\ipykernel_1368\\2453245241.py:7: UserWarning:\n",
      "\n",
      "Matplotlib is currently using module://matplotlib_inline.backend_inline, which is a non-GUI backend, so cannot show the figure.\n",
      "\n"
     ]
    },
    {
     "data": {
      "image/png": "[encoded data removed]",
      "text/plain": [
       "<Figure size 800x800 with 10 Axes>"
      ]
     },
     "metadata": {},
     "output_type": "display_data"
    }
   ],
   "source": [
    "feat = X_train.select_dtypes(['int', 'float']).columns\n",
    "fig, axes = plt.subplots(nrows=2, ncols=2, figsize=(8,8))\n",
    "for i in range(len(feat)):\n",
    "    plt.subplot(5, 2, i+1)\n",
    "    sns.histplot(x = X_train[feat[i]])\n",
    "    plt.tight_layout()\n",
    "fig.show()"
   ]
  },
  {
   "cell_type": "code",
   "execution_count": 148,
   "metadata": {},
   "outputs": [
    {
     "name": "stderr",
     "output_type": "stream",
     "text": [
      "C:\\Users\\una\\AppData\\Local\\Temp\\ipykernel_1368\\1463363123.py:4: MatplotlibDeprecationWarning:\n",
      "\n",
      "Auto-removal of overlapping axes is deprecated since 3.6 and will be removed two minor releases later; explicitly call ax.remove() as needed.\n",
      "\n",
      "C:\\Users\\una\\AppData\\Local\\Temp\\ipykernel_1368\\1463363123.py:6: UserWarning:\n",
      "\n",
      "tight_layout not applied: number of rows in subplot specifications must be multiples of one another.\n",
      "\n",
      "C:\\Users\\una\\AppData\\Local\\Temp\\ipykernel_1368\\1463363123.py:4: MatplotlibDeprecationWarning:\n",
      "\n",
      "Auto-removal of overlapping axes is deprecated since 3.6 and will be removed two minor releases later; explicitly call ax.remove() as needed.\n",
      "\n",
      "C:\\Users\\una\\AppData\\Local\\Temp\\ipykernel_1368\\1463363123.py:6: UserWarning:\n",
      "\n",
      "tight_layout not applied: number of rows in subplot specifications must be multiples of one another.\n",
      "\n",
      "C:\\Users\\una\\AppData\\Local\\Temp\\ipykernel_1368\\1463363123.py:6: UserWarning:\n",
      "\n",
      "tight_layout not applied: number of rows in subplot specifications must be multiples of one another.\n",
      "\n",
      "C:\\Users\\una\\AppData\\Local\\Temp\\ipykernel_1368\\1463363123.py:6: UserWarning:\n",
      "\n",
      "tight_layout not applied: number of rows in subplot specifications must be multiples of one another.\n",
      "\n",
      "C:\\Users\\una\\AppData\\Local\\Temp\\ipykernel_1368\\1463363123.py:4: MatplotlibDeprecationWarning:\n",
      "\n",
      "Auto-removal of overlapping axes is deprecated since 3.6 and will be removed two minor releases later; explicitly call ax.remove() as needed.\n",
      "\n",
      "C:\\Users\\una\\AppData\\Local\\Temp\\ipykernel_1368\\1463363123.py:6: UserWarning:\n",
      "\n",
      "tight_layout not applied: number of rows in subplot specifications must be multiples of one another.\n",
      "\n",
      "C:\\Users\\una\\AppData\\Local\\Temp\\ipykernel_1368\\1463363123.py:4: MatplotlibDeprecationWarning:\n",
      "\n",
      "Auto-removal of overlapping axes is deprecated since 3.6 and will be removed two minor releases later; explicitly call ax.remove() as needed.\n",
      "\n",
      "C:\\Users\\una\\AppData\\Local\\Temp\\ipykernel_1368\\1463363123.py:7: UserWarning:\n",
      "\n",
      "Matplotlib is currently using module://matplotlib_inline.backend_inline, which is a non-GUI backend, so cannot show the figure.\n",
      "\n"
     ]
    },
    {
     "data": {
      "image/png": "[encoded data removed]",
      "text/plain": [
       "<Figure size 800x800 with 10 Axes>"
      ]
     },
     "metadata": {},
     "output_type": "display_data"
    }
   ],
   "source": [
    "feat = X_train.select_dtypes(['int', 'float']).columns\n",
    "fig, axes = plt.subplots(nrows=2, ncols=2, figsize=(8,8))\n",
    "for i in range(len(feat)):\n",
    "    plt.subplot(5, 2, i+1)\n",
    "    sns.boxplot(x = X_train[feat[i]])\n",
    "    plt.tight_layout()\n",
    "fig.show()"
   ]
  },
  {
   "attachments": {},
   "cell_type": "markdown",
   "metadata": {},
   "source": [
    "Terdapat outlier pada feature JumlahKetidakhadiran, kita akan melakukan outlier handling dengan mengeliminasi baris data yang mengandung outlier pada data train."
   ]
  },
  {
   "cell_type": "code",
   "execution_count": 149,
   "metadata": {},
   "outputs": [
    {
     "name": "stdout",
     "output_type": "stream",
     "text": [
      "<class 'pandas.core.frame.DataFrame'>\n",
      "Int64Index: 229 entries, 46 to 172\n",
      "Data columns (total 25 columns):\n",
      " #   Column                              Non-Null Count  Dtype  \n",
      "---  ------                              --------------  -----  \n",
      " 0   JenisKelamin                        229 non-null    int64  \n",
      " 1   PerformancePegawai                  229 non-null    int64  \n",
      " 2   SkorSurveyEngagement                229 non-null    int64  \n",
      " 3   SkorKepuasanPegawai                 229 non-null    float64\n",
      " 4   JumlahKeikutsertaanProjek           229 non-null    float64\n",
      " 5   JumlahKeterlambatanSebulanTerakhir  229 non-null    float64\n",
      " 6   JumlahKetidakhadiran                229 non-null    float64\n",
      " 7   PernahBekerja                       229 non-null    int64  \n",
      " 8   Age                                 229 non-null    int64  \n",
      " 9   LamaBekerja                         229 non-null    int64  \n",
      " 10  StatusPernikahan_Belum_menikah      229 non-null    uint8  \n",
      " 11  StatusPernikahan_Lainnya            229 non-null    uint8  \n",
      " 12  StatusPernikahan_Menikah            229 non-null    uint8  \n",
      " 13  Pekerjaan_Others                    229 non-null    uint8  \n",
      " 14  Pekerjaan_SE                        229 non-null    uint8  \n",
      " 15  StatusKepegawaian_FullTime          229 non-null    uint8  \n",
      " 16  StatusKepegawaian_Internship        229 non-null    uint8  \n",
      " 17  StatusKepegawaian_Outsource         229 non-null    uint8  \n",
      " 18  JenjangKarir_Freshgraduate_program  229 non-null    uint8  \n",
      " 19  JenjangKarir_Mid_level              229 non-null    uint8  \n",
      " 20  JenjangKarir_Senior_level           229 non-null    uint8  \n",
      " 21  TingkatPendidikan_Doktor            229 non-null    uint8  \n",
      " 22  TingkatPendidikan_Magister          229 non-null    uint8  \n",
      " 23  TingkatPendidikan_Sarjana           229 non-null    uint8  \n",
      " 24  Resign                              229 non-null    int64  \n",
      "dtypes: float64(4), int64(7), uint8(14)\n",
      "memory usage: 24.6 KB\n"
     ]
    }
   ],
   "source": [
    "# Merge the Xtrain and Y train first\n",
    "merge_train = pd.concat([X_train,y_train], axis = 1)\n",
    "merge_train.info()"
   ]
  },
  {
   "cell_type": "code",
   "execution_count": 150,
   "metadata": {},
   "outputs": [
    {
     "name": "stdout",
     "output_type": "stream",
     "text": [
      "Data train dimention before outlier Handling:  229\n",
      "Data train dimention after Outlier Handling:  222\n"
     ]
    }
   ],
   "source": [
    "print('Data train dimention before outlier Handling: ', len(merge_train))\n",
    "for i in ['Age', 'JumlahKetidakhadiran']:\n",
    "    Q1 = merge_train[i].quantile(0.25)\n",
    "    Q3 = merge_train[i].quantile(0.75)\n",
    "    IQR = Q3 - Q1\n",
    "    lower_bound = Q1 - 1.5*IQR\n",
    "    upper_bound = Q3 + 1.5*IQR\n",
    "    merge_train = merge_train[(merge_train[i] > lower_bound) & (merge_train[i] < upper_bound)]\n",
    "print('Data train dimention after Outlier Handling: ', len(merge_train))"
   ]
  },
  {
   "cell_type": "code",
   "execution_count": 151,
   "metadata": {},
   "outputs": [
    {
     "name": "stderr",
     "output_type": "stream",
     "text": [
      "C:\\Users\\una\\AppData\\Local\\Temp\\ipykernel_1368\\608211834.py:4: MatplotlibDeprecationWarning:\n",
      "\n",
      "Auto-removal of overlapping axes is deprecated since 3.6 and will be removed two minor releases later; explicitly call ax.remove() as needed.\n",
      "\n",
      "C:\\Users\\una\\AppData\\Local\\Temp\\ipykernel_1368\\608211834.py:6: UserWarning:\n",
      "\n",
      "tight_layout not applied: number of rows in subplot specifications must be multiples of one another.\n",
      "\n",
      "C:\\Users\\una\\AppData\\Local\\Temp\\ipykernel_1368\\608211834.py:4: MatplotlibDeprecationWarning:\n",
      "\n",
      "Auto-removal of overlapping axes is deprecated since 3.6 and will be removed two minor releases later; explicitly call ax.remove() as needed.\n",
      "\n",
      "C:\\Users\\una\\AppData\\Local\\Temp\\ipykernel_1368\\608211834.py:6: UserWarning:\n",
      "\n",
      "tight_layout not applied: number of rows in subplot specifications must be multiples of one another.\n",
      "\n",
      "C:\\Users\\una\\AppData\\Local\\Temp\\ipykernel_1368\\608211834.py:4: MatplotlibDeprecationWarning:\n",
      "\n",
      "Auto-removal of overlapping axes is deprecated since 3.6 and will be removed two minor releases later; explicitly call ax.remove() as needed.\n",
      "\n",
      "C:\\Users\\una\\AppData\\Local\\Temp\\ipykernel_1368\\608211834.py:6: UserWarning:\n",
      "\n",
      "tight_layout not applied: number of rows in subplot specifications must be multiples of one another.\n",
      "\n",
      "C:\\Users\\una\\AppData\\Local\\Temp\\ipykernel_1368\\608211834.py:4: MatplotlibDeprecationWarning:\n",
      "\n",
      "Auto-removal of overlapping axes is deprecated since 3.6 and will be removed two minor releases later; explicitly call ax.remove() as needed.\n",
      "\n",
      "C:\\Users\\una\\AppData\\Local\\Temp\\ipykernel_1368\\608211834.py:6: UserWarning:\n",
      "\n",
      "tight_layout not applied: number of rows in subplot specifications must be multiples of one another.\n",
      "\n",
      "C:\\Users\\una\\AppData\\Local\\Temp\\ipykernel_1368\\608211834.py:4: MatplotlibDeprecationWarning:\n",
      "\n",
      "Auto-removal of overlapping axes is deprecated since 3.6 and will be removed two minor releases later; explicitly call ax.remove() as needed.\n",
      "\n",
      "C:\\Users\\una\\AppData\\Local\\Temp\\ipykernel_1368\\608211834.py:6: UserWarning:\n",
      "\n",
      "tight_layout not applied: number of rows in subplot specifications must be multiples of one another.\n",
      "\n",
      "C:\\Users\\una\\AppData\\Local\\Temp\\ipykernel_1368\\608211834.py:4: MatplotlibDeprecationWarning:\n",
      "\n",
      "Auto-removal of overlapping axes is deprecated since 3.6 and will be removed two minor releases later; explicitly call ax.remove() as needed.\n",
      "\n",
      "C:\\Users\\una\\AppData\\Local\\Temp\\ipykernel_1368\\608211834.py:6: UserWarning:\n",
      "\n",
      "tight_layout not applied: number of rows in subplot specifications must be multiples of one another.\n",
      "\n",
      "C:\\Users\\una\\AppData\\Local\\Temp\\ipykernel_1368\\608211834.py:4: MatplotlibDeprecationWarning:\n",
      "\n",
      "Auto-removal of overlapping axes is deprecated since 3.6 and will be removed two minor releases later; explicitly call ax.remove() as needed.\n",
      "\n",
      "C:\\Users\\una\\AppData\\Local\\Temp\\ipykernel_1368\\608211834.py:6: UserWarning:\n",
      "\n",
      "tight_layout not applied: number of rows in subplot specifications must be multiples of one another.\n",
      "\n",
      "C:\\Users\\una\\AppData\\Local\\Temp\\ipykernel_1368\\608211834.py:4: MatplotlibDeprecationWarning:\n",
      "\n",
      "Auto-removal of overlapping axes is deprecated since 3.6 and will be removed two minor releases later; explicitly call ax.remove() as needed.\n",
      "\n",
      "C:\\Users\\una\\AppData\\Local\\Temp\\ipykernel_1368\\608211834.py:6: UserWarning:\n",
      "\n",
      "tight_layout not applied: number of rows in subplot specifications must be multiples of one another.\n",
      "\n",
      "C:\\Users\\una\\AppData\\Local\\Temp\\ipykernel_1368\\608211834.py:4: MatplotlibDeprecationWarning:\n",
      "\n",
      "Auto-removal of overlapping axes is deprecated since 3.6 and will be removed two minor releases later; explicitly call ax.remove() as needed.\n",
      "\n",
      "C:\\Users\\una\\AppData\\Local\\Temp\\ipykernel_1368\\608211834.py:6: UserWarning:\n",
      "\n",
      "tight_layout not applied: number of rows in subplot specifications must be multiples of one another.\n",
      "\n",
      "C:\\Users\\una\\AppData\\Local\\Temp\\ipykernel_1368\\608211834.py:4: MatplotlibDeprecationWarning:\n",
      "\n",
      "Auto-removal of overlapping axes is deprecated since 3.6 and will be removed two minor releases later; explicitly call ax.remove() as needed.\n",
      "\n",
      "C:\\Users\\una\\AppData\\Local\\Temp\\ipykernel_1368\\608211834.py:6: UserWarning:\n",
      "\n",
      "tight_layout not applied: number of rows in subplot specifications must be multiples of one another.\n",
      "\n",
      "C:\\Users\\una\\AppData\\Local\\Temp\\ipykernel_1368\\608211834.py:4: MatplotlibDeprecationWarning:\n",
      "\n",
      "Auto-removal of overlapping axes is deprecated since 3.6 and will be removed two minor releases later; explicitly call ax.remove() as needed.\n",
      "\n",
      "C:\\Users\\una\\AppData\\Local\\Temp\\ipykernel_1368\\608211834.py:6: UserWarning:\n",
      "\n",
      "tight_layout not applied: number of rows in subplot specifications must be multiples of one another.\n",
      "\n"
     ]
    },
    {
     "data": {
      "image/png": "[encoded data removed]",
      "text/plain": [
       "<Figure size 1500x1500 with 12 Axes>"
      ]
     },
     "metadata": {},
     "output_type": "display_data"
    }
   ],
   "source": [
    "feat = merge_train.select_dtypes(['int', 'float']).columns\n",
    "fig, axes = plt.subplots(nrows=6, ncols=4, figsize=(15,15))\n",
    "for i in range(len(feat)):\n",
    "    plt.subplot(4,3, i+1)\n",
    "    sns.boxplot (x = merge_train[feat[i]])\n",
    "    plt.tight_layout()"
   ]
  },
  {
   "cell_type": "code",
   "execution_count": 152,
   "metadata": {},
   "outputs": [],
   "source": [
    "# split the features and target of X_train\n",
    "X_train = merge_train.drop('Resign',axis = 1)\n",
    "y_train = merge_train['Resign']"
   ]
  },
  {
   "attachments": {},
   "cell_type": "markdown",
   "metadata": {},
   "source": [
    "**Feature Transformation**"
   ]
  },
  {
   "cell_type": "code",
   "execution_count": 153,
   "metadata": {},
   "outputs": [
    {
     "name": "stderr",
     "output_type": "stream",
     "text": [
      "C:\\Users\\una\\AppData\\Local\\Temp\\ipykernel_1368\\1047660715.py:4: MatplotlibDeprecationWarning:\n",
      "\n",
      "Auto-removal of overlapping axes is deprecated since 3.6 and will be removed two minor releases later; explicitly call ax.remove() as needed.\n",
      "\n",
      "C:\\Users\\una\\AppData\\Local\\Temp\\ipykernel_1368\\1047660715.py:6: UserWarning:\n",
      "\n",
      "tight_layout not applied: number of rows in subplot specifications must be multiples of one another.\n",
      "\n",
      "C:\\Users\\una\\AppData\\Local\\Temp\\ipykernel_1368\\1047660715.py:4: MatplotlibDeprecationWarning:\n",
      "\n",
      "Auto-removal of overlapping axes is deprecated since 3.6 and will be removed two minor releases later; explicitly call ax.remove() as needed.\n",
      "\n",
      "C:\\Users\\una\\AppData\\Local\\Temp\\ipykernel_1368\\1047660715.py:6: UserWarning:\n",
      "\n",
      "tight_layout not applied: number of rows in subplot specifications must be multiples of one another.\n",
      "\n",
      "C:\\Users\\una\\AppData\\Local\\Temp\\ipykernel_1368\\1047660715.py:4: MatplotlibDeprecationWarning:\n",
      "\n",
      "Auto-removal of overlapping axes is deprecated since 3.6 and will be removed two minor releases later; explicitly call ax.remove() as needed.\n",
      "\n",
      "C:\\Users\\una\\AppData\\Local\\Temp\\ipykernel_1368\\1047660715.py:6: UserWarning:\n",
      "\n",
      "tight_layout not applied: number of rows in subplot specifications must be multiples of one another.\n",
      "\n",
      "C:\\Users\\una\\AppData\\Local\\Temp\\ipykernel_1368\\1047660715.py:4: MatplotlibDeprecationWarning:\n",
      "\n",
      "Auto-removal of overlapping axes is deprecated since 3.6 and will be removed two minor releases later; explicitly call ax.remove() as needed.\n",
      "\n",
      "C:\\Users\\una\\AppData\\Local\\Temp\\ipykernel_1368\\1047660715.py:6: UserWarning:\n",
      "\n",
      "tight_layout not applied: number of rows in subplot specifications must be multiples of one another.\n",
      "\n",
      "C:\\Users\\una\\AppData\\Local\\Temp\\ipykernel_1368\\1047660715.py:4: MatplotlibDeprecationWarning:\n",
      "\n",
      "Auto-removal of overlapping axes is deprecated since 3.6 and will be removed two minor releases later; explicitly call ax.remove() as needed.\n",
      "\n",
      "C:\\Users\\una\\AppData\\Local\\Temp\\ipykernel_1368\\1047660715.py:6: UserWarning:\n",
      "\n",
      "tight_layout not applied: number of rows in subplot specifications must be multiples of one another.\n",
      "\n",
      "C:\\Users\\una\\AppData\\Local\\Temp\\ipykernel_1368\\1047660715.py:4: MatplotlibDeprecationWarning:\n",
      "\n",
      "Auto-removal of overlapping axes is deprecated since 3.6 and will be removed two minor releases later; explicitly call ax.remove() as needed.\n",
      "\n",
      "C:\\Users\\una\\AppData\\Local\\Temp\\ipykernel_1368\\1047660715.py:6: UserWarning:\n",
      "\n",
      "tight_layout not applied: number of rows in subplot specifications must be multiples of one another.\n",
      "\n",
      "C:\\Users\\una\\AppData\\Local\\Temp\\ipykernel_1368\\1047660715.py:4: MatplotlibDeprecationWarning:\n",
      "\n",
      "Auto-removal of overlapping axes is deprecated since 3.6 and will be removed two minor releases later; explicitly call ax.remove() as needed.\n",
      "\n",
      "C:\\Users\\una\\AppData\\Local\\Temp\\ipykernel_1368\\1047660715.py:6: UserWarning:\n",
      "\n",
      "tight_layout not applied: number of rows in subplot specifications must be multiples of one another.\n",
      "\n",
      "C:\\Users\\una\\AppData\\Local\\Temp\\ipykernel_1368\\1047660715.py:4: MatplotlibDeprecationWarning:\n",
      "\n",
      "Auto-removal of overlapping axes is deprecated since 3.6 and will be removed two minor releases later; explicitly call ax.remove() as needed.\n",
      "\n",
      "C:\\Users\\una\\AppData\\Local\\Temp\\ipykernel_1368\\1047660715.py:6: UserWarning:\n",
      "\n",
      "tight_layout not applied: number of rows in subplot specifications must be multiples of one another.\n",
      "\n",
      "C:\\Users\\una\\AppData\\Local\\Temp\\ipykernel_1368\\1047660715.py:4: MatplotlibDeprecationWarning:\n",
      "\n",
      "Auto-removal of overlapping axes is deprecated since 3.6 and will be removed two minor releases later; explicitly call ax.remove() as needed.\n",
      "\n",
      "C:\\Users\\una\\AppData\\Local\\Temp\\ipykernel_1368\\1047660715.py:6: UserWarning:\n",
      "\n",
      "tight_layout not applied: number of rows in subplot specifications must be multiples of one another.\n",
      "\n",
      "C:\\Users\\una\\AppData\\Local\\Temp\\ipykernel_1368\\1047660715.py:4: MatplotlibDeprecationWarning:\n",
      "\n",
      "Auto-removal of overlapping axes is deprecated since 3.6 and will be removed two minor releases later; explicitly call ax.remove() as needed.\n",
      "\n",
      "C:\\Users\\una\\AppData\\Local\\Temp\\ipykernel_1368\\1047660715.py:6: UserWarning:\n",
      "\n",
      "tight_layout not applied: number of rows in subplot specifications must be multiples of one another.\n",
      "\n"
     ]
    },
    {
     "data": {
      "image/png": "[encoded data removed]",
      "text/plain": [
       "<Figure size 1500x1500 with 12 Axes>"
      ]
     },
     "metadata": {},
     "output_type": "display_data"
    }
   ],
   "source": [
    "feat = X_train.select_dtypes(['int', 'float']).columns\n",
    "fig, axes = plt.subplots(nrows=6, ncols=4, figsize=(15,15))\n",
    "for i in range(len(feat)):\n",
    "    plt.subplot(4,3, i+1)\n",
    "    sns.kdeplot (x = X_train[feat[i]])\n",
    "    plt.tight_layout()"
   ]
  },
  {
   "attachments": {},
   "cell_type": "markdown",
   "metadata": {},
   "source": [
    "Kemudian akan dilakukan feature transformation untuk kolom 'PerformancePegawai', 'SkorSurveyEngagement', 'SkorKepuasanPegawai', 'JumlahKeikutsertaanProjek', 'JumlahKeterlambatanSebulanTerakhir', 'JumlahKetidakhadiran', 'Age', dan 'LamaBekerja' untuk menyeragamkan skala dengan feature lain. "
   ]
  },
  {
   "cell_type": "code",
   "execution_count": 154,
   "metadata": {},
   "outputs": [],
   "source": [
    "# Fix the skewness and distribution\n",
    "minmaxfeat = ['PerformancePegawai', 'SkorSurveyEngagement', 'SkorKepuasanPegawai', 'JumlahKeikutsertaanProjek', 'JumlahKeterlambatanSebulanTerakhir', 'JumlahKetidakhadiran', 'Age', 'LamaBekerja']\n",
    "minmaxscaler = MinMaxScaler()\n",
    "X_train_scaled = X_train.copy()\n",
    "X_test_scaled = X_test.copy()\n",
    "X_train_scaled[minmaxfeat] = minmaxscaler.fit_transform(X_train_scaled[minmaxfeat])\n",
    "X_test_scaled[minmaxfeat] = minmaxscaler.fit_transform(X_test_scaled[minmaxfeat])"
   ]
  },
  {
   "cell_type": "code",
   "execution_count": 155,
   "metadata": {},
   "outputs": [
    {
     "data": {
      "text/html": [
       "<div>\n",
       "<style scoped>\n",
       "    .dataframe tbody tr th:only-of-type {\n",
       "        vertical-align: middle;\n",
       "    }\n",
       "\n",
       "    .dataframe tbody tr th {\n",
       "        vertical-align: top;\n",
       "    }\n",
       "\n",
       "    .dataframe thead th {\n",
       "        text-align: right;\n",
       "    }\n",
       "</style>\n",
       "<table border=\"1\" class=\"dataframe\">\n",
       "  <thead>\n",
       "    <tr style=\"text-align: right;\">\n",
       "      <th></th>\n",
       "      <th>JenisKelamin</th>\n",
       "      <th>PerformancePegawai</th>\n",
       "      <th>SkorSurveyEngagement</th>\n",
       "      <th>SkorKepuasanPegawai</th>\n",
       "      <th>JumlahKeikutsertaanProjek</th>\n",
       "      <th>JumlahKeterlambatanSebulanTerakhir</th>\n",
       "      <th>JumlahKetidakhadiran</th>\n",
       "      <th>PernahBekerja</th>\n",
       "      <th>Age</th>\n",
       "      <th>LamaBekerja</th>\n",
       "      <th>...</th>\n",
       "      <th>Pekerjaan_SE</th>\n",
       "      <th>StatusKepegawaian_FullTime</th>\n",
       "      <th>StatusKepegawaian_Internship</th>\n",
       "      <th>StatusKepegawaian_Outsource</th>\n",
       "      <th>JenjangKarir_Freshgraduate_program</th>\n",
       "      <th>JenjangKarir_Mid_level</th>\n",
       "      <th>JenjangKarir_Senior_level</th>\n",
       "      <th>TingkatPendidikan_Doktor</th>\n",
       "      <th>TingkatPendidikan_Magister</th>\n",
       "      <th>TingkatPendidikan_Sarjana</th>\n",
       "    </tr>\n",
       "  </thead>\n",
       "  <tbody>\n",
       "    <tr>\n",
       "      <th>46</th>\n",
       "      <td>1</td>\n",
       "      <td>1.00</td>\n",
       "      <td>0.25</td>\n",
       "      <td>1.0</td>\n",
       "      <td>0.0</td>\n",
       "      <td>0.0</td>\n",
       "      <td>0.85</td>\n",
       "      <td>0</td>\n",
       "      <td>0.647059</td>\n",
       "      <td>0.337615</td>\n",
       "      <td>...</td>\n",
       "      <td>1</td>\n",
       "      <td>1</td>\n",
       "      <td>0</td>\n",
       "      <td>0</td>\n",
       "      <td>0</td>\n",
       "      <td>1</td>\n",
       "      <td>0</td>\n",
       "      <td>0</td>\n",
       "      <td>0</td>\n",
       "      <td>1</td>\n",
       "    </tr>\n",
       "    <tr>\n",
       "      <th>257</th>\n",
       "      <td>0</td>\n",
       "      <td>0.00</td>\n",
       "      <td>0.75</td>\n",
       "      <td>0.8</td>\n",
       "      <td>0.0</td>\n",
       "      <td>0.0</td>\n",
       "      <td>0.75</td>\n",
       "      <td>0</td>\n",
       "      <td>0.470588</td>\n",
       "      <td>0.586368</td>\n",
       "      <td>...</td>\n",
       "      <td>0</td>\n",
       "      <td>1</td>\n",
       "      <td>0</td>\n",
       "      <td>0</td>\n",
       "      <td>1</td>\n",
       "      <td>0</td>\n",
       "      <td>0</td>\n",
       "      <td>0</td>\n",
       "      <td>0</td>\n",
       "      <td>1</td>\n",
       "    </tr>\n",
       "    <tr>\n",
       "      <th>214</th>\n",
       "      <td>1</td>\n",
       "      <td>0.50</td>\n",
       "      <td>0.50</td>\n",
       "      <td>0.6</td>\n",
       "      <td>0.0</td>\n",
       "      <td>0.0</td>\n",
       "      <td>0.20</td>\n",
       "      <td>0</td>\n",
       "      <td>0.205882</td>\n",
       "      <td>0.061357</td>\n",
       "      <td>...</td>\n",
       "      <td>1</td>\n",
       "      <td>1</td>\n",
       "      <td>0</td>\n",
       "      <td>0</td>\n",
       "      <td>1</td>\n",
       "      <td>0</td>\n",
       "      <td>0</td>\n",
       "      <td>0</td>\n",
       "      <td>1</td>\n",
       "      <td>0</td>\n",
       "    </tr>\n",
       "    <tr>\n",
       "      <th>167</th>\n",
       "      <td>1</td>\n",
       "      <td>0.50</td>\n",
       "      <td>0.25</td>\n",
       "      <td>0.8</td>\n",
       "      <td>0.0</td>\n",
       "      <td>0.0</td>\n",
       "      <td>0.35</td>\n",
       "      <td>0</td>\n",
       "      <td>0.235294</td>\n",
       "      <td>0.421037</td>\n",
       "      <td>...</td>\n",
       "      <td>0</td>\n",
       "      <td>1</td>\n",
       "      <td>0</td>\n",
       "      <td>0</td>\n",
       "      <td>0</td>\n",
       "      <td>1</td>\n",
       "      <td>0</td>\n",
       "      <td>0</td>\n",
       "      <td>0</td>\n",
       "      <td>1</td>\n",
       "    </tr>\n",
       "    <tr>\n",
       "      <th>223</th>\n",
       "      <td>0</td>\n",
       "      <td>0.25</td>\n",
       "      <td>0.75</td>\n",
       "      <td>0.6</td>\n",
       "      <td>0.0</td>\n",
       "      <td>0.0</td>\n",
       "      <td>0.05</td>\n",
       "      <td>0</td>\n",
       "      <td>0.411765</td>\n",
       "      <td>0.642436</td>\n",
       "      <td>...</td>\n",
       "      <td>1</td>\n",
       "      <td>0</td>\n",
       "      <td>0</td>\n",
       "      <td>1</td>\n",
       "      <td>0</td>\n",
       "      <td>0</td>\n",
       "      <td>1</td>\n",
       "      <td>0</td>\n",
       "      <td>0</td>\n",
       "      <td>1</td>\n",
       "    </tr>\n",
       "  </tbody>\n",
       "</table>\n",
       "<p>5 rows × 24 columns</p>\n",
       "</div>"
      ],
      "text/plain": [
       "     JenisKelamin  PerformancePegawai  SkorSurveyEngagement  \\\n",
       "46              1                1.00                  0.25   \n",
       "257             0                0.00                  0.75   \n",
       "214             1                0.50                  0.50   \n",
       "167             1                0.50                  0.25   \n",
       "223             0                0.25                  0.75   \n",
       "\n",
       "     SkorKepuasanPegawai  JumlahKeikutsertaanProjek  \\\n",
       "46                   1.0                        0.0   \n",
       "257                  0.8                        0.0   \n",
       "214                  0.6                        0.0   \n",
       "167                  0.8                        0.0   \n",
       "223                  0.6                        0.0   \n",
       "\n",
       "     JumlahKeterlambatanSebulanTerakhir  JumlahKetidakhadiran  PernahBekerja  \\\n",
       "46                                  0.0                  0.85              0   \n",
       "257                                 0.0                  0.75              0   \n",
       "214                                 0.0                  0.20              0   \n",
       "167                                 0.0                  0.35              0   \n",
       "223                                 0.0                  0.05              0   \n",
       "\n",
       "          Age  LamaBekerja  ...  Pekerjaan_SE  StatusKepegawaian_FullTime  \\\n",
       "46   0.647059     0.337615  ...             1                           1   \n",
       "257  0.470588     0.586368  ...             0                           1   \n",
       "214  0.205882     0.061357  ...             1                           1   \n",
       "167  0.235294     0.421037  ...             0                           1   \n",
       "223  0.411765     0.642436  ...             1                           0   \n",
       "\n",
       "     StatusKepegawaian_Internship  StatusKepegawaian_Outsource  \\\n",
       "46                              0                            0   \n",
       "257                             0                            0   \n",
       "214                             0                            0   \n",
       "167                             0                            0   \n",
       "223                             0                            1   \n",
       "\n",
       "     JenjangKarir_Freshgraduate_program  JenjangKarir_Mid_level  \\\n",
       "46                                    0                       1   \n",
       "257                                   1                       0   \n",
       "214                                   1                       0   \n",
       "167                                   0                       1   \n",
       "223                                   0                       0   \n",
       "\n",
       "     JenjangKarir_Senior_level  TingkatPendidikan_Doktor  \\\n",
       "46                           0                         0   \n",
       "257                          0                         0   \n",
       "214                          0                         0   \n",
       "167                          0                         0   \n",
       "223                          1                         0   \n",
       "\n",
       "     TingkatPendidikan_Magister  TingkatPendidikan_Sarjana  \n",
       "46                            0                          1  \n",
       "257                           0                          1  \n",
       "214                           1                          0  \n",
       "167                           0                          1  \n",
       "223                           0                          1  \n",
       "\n",
       "[5 rows x 24 columns]"
      ]
     },
     "metadata": {},
     "output_type": "display_data"
    },
    {
     "data": {
      "text/html": [
       "<div>\n",
       "<style scoped>\n",
       "    .dataframe tbody tr th:only-of-type {\n",
       "        vertical-align: middle;\n",
       "    }\n",
       "\n",
       "    .dataframe tbody tr th {\n",
       "        vertical-align: top;\n",
       "    }\n",
       "\n",
       "    .dataframe thead th {\n",
       "        text-align: right;\n",
       "    }\n",
       "</style>\n",
       "<table border=\"1\" class=\"dataframe\">\n",
       "  <thead>\n",
       "    <tr style=\"text-align: right;\">\n",
       "      <th></th>\n",
       "      <th>JenisKelamin</th>\n",
       "      <th>PerformancePegawai</th>\n",
       "      <th>SkorSurveyEngagement</th>\n",
       "      <th>SkorKepuasanPegawai</th>\n",
       "      <th>JumlahKeikutsertaanProjek</th>\n",
       "      <th>JumlahKeterlambatanSebulanTerakhir</th>\n",
       "      <th>JumlahKetidakhadiran</th>\n",
       "      <th>PernahBekerja</th>\n",
       "      <th>Age</th>\n",
       "      <th>LamaBekerja</th>\n",
       "      <th>...</th>\n",
       "      <th>Pekerjaan_SE</th>\n",
       "      <th>StatusKepegawaian_FullTime</th>\n",
       "      <th>StatusKepegawaian_Internship</th>\n",
       "      <th>StatusKepegawaian_Outsource</th>\n",
       "      <th>JenjangKarir_Freshgraduate_program</th>\n",
       "      <th>JenjangKarir_Mid_level</th>\n",
       "      <th>JenjangKarir_Senior_level</th>\n",
       "      <th>TingkatPendidikan_Doktor</th>\n",
       "      <th>TingkatPendidikan_Magister</th>\n",
       "      <th>TingkatPendidikan_Sarjana</th>\n",
       "    </tr>\n",
       "  </thead>\n",
       "  <tbody>\n",
       "    <tr>\n",
       "      <th>55</th>\n",
       "      <td>0</td>\n",
       "      <td>0.50</td>\n",
       "      <td>0.666667</td>\n",
       "      <td>0.0</td>\n",
       "      <td>0.000000</td>\n",
       "      <td>0.0</td>\n",
       "      <td>0.20</td>\n",
       "      <td>0</td>\n",
       "      <td>0.473684</td>\n",
       "      <td>0.674093</td>\n",
       "      <td>...</td>\n",
       "      <td>1</td>\n",
       "      <td>1</td>\n",
       "      <td>0</td>\n",
       "      <td>0</td>\n",
       "      <td>1</td>\n",
       "      <td>0</td>\n",
       "      <td>0</td>\n",
       "      <td>0</td>\n",
       "      <td>0</td>\n",
       "      <td>1</td>\n",
       "    </tr>\n",
       "    <tr>\n",
       "      <th>181</th>\n",
       "      <td>1</td>\n",
       "      <td>0.75</td>\n",
       "      <td>1.000000</td>\n",
       "      <td>0.6</td>\n",
       "      <td>0.000000</td>\n",
       "      <td>0.0</td>\n",
       "      <td>0.26</td>\n",
       "      <td>0</td>\n",
       "      <td>0.342105</td>\n",
       "      <td>0.751537</td>\n",
       "      <td>...</td>\n",
       "      <td>1</td>\n",
       "      <td>0</td>\n",
       "      <td>0</td>\n",
       "      <td>1</td>\n",
       "      <td>1</td>\n",
       "      <td>0</td>\n",
       "      <td>0</td>\n",
       "      <td>0</td>\n",
       "      <td>1</td>\n",
       "      <td>0</td>\n",
       "    </tr>\n",
       "    <tr>\n",
       "      <th>92</th>\n",
       "      <td>0</td>\n",
       "      <td>0.50</td>\n",
       "      <td>1.000000</td>\n",
       "      <td>0.6</td>\n",
       "      <td>0.000000</td>\n",
       "      <td>0.0</td>\n",
       "      <td>0.34</td>\n",
       "      <td>0</td>\n",
       "      <td>0.973684</td>\n",
       "      <td>0.828980</td>\n",
       "      <td>...</td>\n",
       "      <td>1</td>\n",
       "      <td>0</td>\n",
       "      <td>0</td>\n",
       "      <td>1</td>\n",
       "      <td>1</td>\n",
       "      <td>0</td>\n",
       "      <td>0</td>\n",
       "      <td>0</td>\n",
       "      <td>0</td>\n",
       "      <td>1</td>\n",
       "    </tr>\n",
       "    <tr>\n",
       "      <th>207</th>\n",
       "      <td>0</td>\n",
       "      <td>1.00</td>\n",
       "      <td>1.000000</td>\n",
       "      <td>0.6</td>\n",
       "      <td>0.714286</td>\n",
       "      <td>0.0</td>\n",
       "      <td>0.34</td>\n",
       "      <td>0</td>\n",
       "      <td>0.447368</td>\n",
       "      <td>0.000000</td>\n",
       "      <td>...</td>\n",
       "      <td>1</td>\n",
       "      <td>1</td>\n",
       "      <td>0</td>\n",
       "      <td>0</td>\n",
       "      <td>0</td>\n",
       "      <td>1</td>\n",
       "      <td>0</td>\n",
       "      <td>0</td>\n",
       "      <td>0</td>\n",
       "      <td>1</td>\n",
       "    </tr>\n",
       "    <tr>\n",
       "      <th>188</th>\n",
       "      <td>0</td>\n",
       "      <td>0.75</td>\n",
       "      <td>0.666667</td>\n",
       "      <td>1.0</td>\n",
       "      <td>0.000000</td>\n",
       "      <td>0.0</td>\n",
       "      <td>0.14</td>\n",
       "      <td>0</td>\n",
       "      <td>0.605263</td>\n",
       "      <td>0.183620</td>\n",
       "      <td>...</td>\n",
       "      <td>1</td>\n",
       "      <td>1</td>\n",
       "      <td>0</td>\n",
       "      <td>0</td>\n",
       "      <td>1</td>\n",
       "      <td>0</td>\n",
       "      <td>0</td>\n",
       "      <td>1</td>\n",
       "      <td>0</td>\n",
       "      <td>0</td>\n",
       "    </tr>\n",
       "  </tbody>\n",
       "</table>\n",
       "<p>5 rows × 24 columns</p>\n",
       "</div>"
      ],
      "text/plain": [
       "     JenisKelamin  PerformancePegawai  SkorSurveyEngagement  \\\n",
       "55              0                0.50              0.666667   \n",
       "181             1                0.75              1.000000   \n",
       "92              0                0.50              1.000000   \n",
       "207             0                1.00              1.000000   \n",
       "188             0                0.75              0.666667   \n",
       "\n",
       "     SkorKepuasanPegawai  JumlahKeikutsertaanProjek  \\\n",
       "55                   0.0                   0.000000   \n",
       "181                  0.6                   0.000000   \n",
       "92                   0.6                   0.000000   \n",
       "207                  0.6                   0.714286   \n",
       "188                  1.0                   0.000000   \n",
       "\n",
       "     JumlahKeterlambatanSebulanTerakhir  JumlahKetidakhadiran  PernahBekerja  \\\n",
       "55                                  0.0                  0.20              0   \n",
       "181                                 0.0                  0.26              0   \n",
       "92                                  0.0                  0.34              0   \n",
       "207                                 0.0                  0.34              0   \n",
       "188                                 0.0                  0.14              0   \n",
       "\n",
       "          Age  LamaBekerja  ...  Pekerjaan_SE  StatusKepegawaian_FullTime  \\\n",
       "55   0.473684     0.674093  ...             1                           1   \n",
       "181  0.342105     0.751537  ...             1                           0   \n",
       "92   0.973684     0.828980  ...             1                           0   \n",
       "207  0.447368     0.000000  ...             1                           1   \n",
       "188  0.605263     0.183620  ...             1                           1   \n",
       "\n",
       "     StatusKepegawaian_Internship  StatusKepegawaian_Outsource  \\\n",
       "55                              0                            0   \n",
       "181                             0                            1   \n",
       "92                              0                            1   \n",
       "207                             0                            0   \n",
       "188                             0                            0   \n",
       "\n",
       "     JenjangKarir_Freshgraduate_program  JenjangKarir_Mid_level  \\\n",
       "55                                    1                       0   \n",
       "181                                   1                       0   \n",
       "92                                    1                       0   \n",
       "207                                   0                       1   \n",
       "188                                   1                       0   \n",
       "\n",
       "     JenjangKarir_Senior_level  TingkatPendidikan_Doktor  \\\n",
       "55                           0                         0   \n",
       "181                          0                         0   \n",
       "92                           0                         0   \n",
       "207                          0                         0   \n",
       "188                          0                         1   \n",
       "\n",
       "     TingkatPendidikan_Magister  TingkatPendidikan_Sarjana  \n",
       "55                            0                          1  \n",
       "181                           1                          0  \n",
       "92                            0                          1  \n",
       "207                           0                          1  \n",
       "188                           0                          0  \n",
       "\n",
       "[5 rows x 24 columns]"
      ]
     },
     "metadata": {},
     "output_type": "display_data"
    }
   ],
   "source": [
    "display(X_train_scaled.head())\n",
    "display(X_test_scaled.head())"
   ]
  },
  {
   "attachments": {},
   "cell_type": "markdown",
   "metadata": {},
   "source": [
    "**Imbalance Class Handling**"
   ]
  },
  {
   "cell_type": "code",
   "execution_count": 156,
   "metadata": {},
   "outputs": [
    {
     "data": {
      "image/png": "[encoded data removed]",
      "text/plain": [
       "<Figure size 640x480 with 1 Axes>"
      ]
     },
     "metadata": {},
     "output_type": "display_data"
    }
   ],
   "source": [
    "#Data Train's TARGET distribution\n",
    "y_train.value_counts().plot(kind='pie')\n",
    "plt.show()"
   ]
  },
  {
   "attachments": {},
   "cell_type": "markdown",
   "metadata": {},
   "source": [
    "Karena kelas pada data train tidak terlalu ekstrim, sehingga kita tidak melakukan imbalance class handling"
   ]
  },
  {
   "attachments": {},
   "cell_type": "markdown",
   "metadata": {},
   "source": [
    "### Data Modeling"
   ]
  },
  {
   "cell_type": "code",
   "execution_count": 157,
   "metadata": {},
   "outputs": [],
   "source": [
    "# Define evaluation metrics\n",
    "from sklearn.metrics import accuracy_score, precision_score, recall_score, f1_score, roc_auc_score\n",
    "from sklearn.model_selection import cross_validate\n",
    "from sklearn.metrics import classification_report, confusion_matrix\n",
    "\n",
    "def eval_classification(model):\n",
    "    y_pred = model.predict(X_test_scaled)\n",
    "    y_pred_proba = model.predict_proba(X_test_scaled)\n",
    "    y_pred_proba_train = model.predict_proba(X_train_scaled)\n",
    "    cm = confusion_matrix(y_test, y_pred)\n",
    "    cm = pd.DataFrame(cm)\n",
    "\n",
    "    print(\"Confusion Matrix\")\n",
    "    display(cm)\n",
    "    print(\"Accuracy (Test Set): %.2f\" % accuracy_score(y_test, y_pred))\n",
    "    print(\"Precision (Test Set): %.2f\" % precision_score(y_test, y_pred))\n",
    "    print(\"Recall (Test Set): %.2f\" % recall_score(y_test, y_pred))\n",
    "    print(\"F1-Score (Test Set): %.2f\" % f1_score(y_test, y_pred))\n",
    "    print(\"roc_auc (train-proba): %.2f\" % roc_auc_score(y_train, y_pred_proba_train[:, 1]))\n",
    "    print(\"roc_auc (test-proba): %.2f\" % roc_auc_score(y_test, y_pred_proba[:, 1]))"
   ]
  },
  {
   "cell_type": "code",
   "execution_count": 158,
   "metadata": {},
   "outputs": [
    {
     "name": "stdout",
     "output_type": "stream",
     "text": [
      "Confusion Matrix\n"
     ]
    },
    {
     "data": {
      "text/html": [
       "<div>\n",
       "<style scoped>\n",
       "    .dataframe tbody tr th:only-of-type {\n",
       "        vertical-align: middle;\n",
       "    }\n",
       "\n",
       "    .dataframe tbody tr th {\n",
       "        vertical-align: top;\n",
       "    }\n",
       "\n",
       "    .dataframe thead th {\n",
       "        text-align: right;\n",
       "    }\n",
       "</style>\n",
       "<table border=\"1\" class=\"dataframe\">\n",
       "  <thead>\n",
       "    <tr style=\"text-align: right;\">\n",
       "      <th></th>\n",
       "      <th>0</th>\n",
       "      <th>1</th>\n",
       "    </tr>\n",
       "  </thead>\n",
       "  <tbody>\n",
       "    <tr>\n",
       "      <th>0</th>\n",
       "      <td>44</td>\n",
       "      <td>0</td>\n",
       "    </tr>\n",
       "    <tr>\n",
       "      <th>1</th>\n",
       "      <td>9</td>\n",
       "      <td>5</td>\n",
       "    </tr>\n",
       "  </tbody>\n",
       "</table>\n",
       "</div>"
      ],
      "text/plain": [
       "    0  1\n",
       "0  44  0\n",
       "1   9  5"
      ]
     },
     "metadata": {},
     "output_type": "display_data"
    },
    {
     "name": "stdout",
     "output_type": "stream",
     "text": [
      "Accuracy (Test Set): 0.84\n",
      "Precision (Test Set): 1.00\n",
      "Recall (Test Set): 0.36\n",
      "F1-Score (Test Set): 0.53\n",
      "roc_auc (train-proba): 0.99\n",
      "roc_auc (test-proba): 0.94\n"
     ]
    }
   ],
   "source": [
    "#Data modeling\n",
    "#Classification with Logistic Regression\n",
    "from sklearn.linear_model import LogisticRegression\n",
    "lr = LogisticRegression()\n",
    "lr.fit(X_train_scaled, y_train)\n",
    "eval_classification(lr)"
   ]
  },
  {
   "cell_type": "code",
   "execution_count": 161,
   "metadata": {},
   "outputs": [
    {
     "name": "stdout",
     "output_type": "stream",
     "text": [
      "Confusion Matrix\n"
     ]
    },
    {
     "data": {
      "text/html": [
       "<div>\n",
       "<style scoped>\n",
       "    .dataframe tbody tr th:only-of-type {\n",
       "        vertical-align: middle;\n",
       "    }\n",
       "\n",
       "    .dataframe tbody tr th {\n",
       "        vertical-align: top;\n",
       "    }\n",
       "\n",
       "    .dataframe thead th {\n",
       "        text-align: right;\n",
       "    }\n",
       "</style>\n",
       "<table border=\"1\" class=\"dataframe\">\n",
       "  <thead>\n",
       "    <tr style=\"text-align: right;\">\n",
       "      <th></th>\n",
       "      <th>0</th>\n",
       "      <th>1</th>\n",
       "    </tr>\n",
       "  </thead>\n",
       "  <tbody>\n",
       "    <tr>\n",
       "      <th>0</th>\n",
       "      <td>36</td>\n",
       "      <td>8</td>\n",
       "    </tr>\n",
       "    <tr>\n",
       "      <th>1</th>\n",
       "      <td>8</td>\n",
       "      <td>6</td>\n",
       "    </tr>\n",
       "  </tbody>\n",
       "</table>\n",
       "</div>"
      ],
      "text/plain": [
       "    0  1\n",
       "0  36  8\n",
       "1   8  6"
      ]
     },
     "metadata": {},
     "output_type": "display_data"
    },
    {
     "name": "stdout",
     "output_type": "stream",
     "text": [
      "Accuracy (Test Set): 0.72\n",
      "Precision (Test Set): 0.43\n",
      "Recall (Test Set): 0.43\n",
      "F1-Score (Test Set): 0.43\n",
      "roc_auc (train-proba): 1.00\n",
      "roc_auc (test-proba): 0.62\n"
     ]
    }
   ],
   "source": [
    "#Data modeling\n",
    "#Classification with Decision Tree\n",
    "from sklearn.tree import DecisionTreeClassifier\n",
    "dt = DecisionTreeClassifier(random_state=42)\n",
    "dt.fit(X_train_scaled, y_train)\n",
    "eval_classification(dt)"
   ]
  },
  {
   "cell_type": "code",
   "execution_count": 162,
   "metadata": {},
   "outputs": [
    {
     "name": "stdout",
     "output_type": "stream",
     "text": [
      "Confusion Matrix\n"
     ]
    },
    {
     "data": {
      "text/html": [
       "<div>\n",
       "<style scoped>\n",
       "    .dataframe tbody tr th:only-of-type {\n",
       "        vertical-align: middle;\n",
       "    }\n",
       "\n",
       "    .dataframe tbody tr th {\n",
       "        vertical-align: top;\n",
       "    }\n",
       "\n",
       "    .dataframe thead th {\n",
       "        text-align: right;\n",
       "    }\n",
       "</style>\n",
       "<table border=\"1\" class=\"dataframe\">\n",
       "  <thead>\n",
       "    <tr style=\"text-align: right;\">\n",
       "      <th></th>\n",
       "      <th>0</th>\n",
       "      <th>1</th>\n",
       "    </tr>\n",
       "  </thead>\n",
       "  <tbody>\n",
       "    <tr>\n",
       "      <th>0</th>\n",
       "      <td>44</td>\n",
       "      <td>0</td>\n",
       "    </tr>\n",
       "    <tr>\n",
       "      <th>1</th>\n",
       "      <td>9</td>\n",
       "      <td>5</td>\n",
       "    </tr>\n",
       "  </tbody>\n",
       "</table>\n",
       "</div>"
      ],
      "text/plain": [
       "    0  1\n",
       "0  44  0\n",
       "1   9  5"
      ]
     },
     "metadata": {},
     "output_type": "display_data"
    },
    {
     "name": "stdout",
     "output_type": "stream",
     "text": [
      "Accuracy (Test Set): 0.84\n",
      "Precision (Test Set): 1.00\n",
      "Recall (Test Set): 0.36\n",
      "F1-Score (Test Set): 0.53\n",
      "roc_auc (train-proba): 1.00\n",
      "roc_auc (test-proba): 0.79\n"
     ]
    }
   ],
   "source": [
    "#Data modeling\n",
    "#Classification with XGBoost\n",
    "from xgboost import XGBClassifier\n",
    "xg = XGBClassifier(random_state=42)\n",
    "xg.fit(X_train_scaled, y_train)\n",
    "eval_classification(xg)"
   ]
  },
  {
   "cell_type": "code",
   "execution_count": 164,
   "metadata": {},
   "outputs": [
    {
     "name": "stdout",
     "output_type": "stream",
     "text": [
      "Confusion Matrix\n"
     ]
    },
    {
     "data": {
      "text/html": [
       "<div>\n",
       "<style scoped>\n",
       "    .dataframe tbody tr th:only-of-type {\n",
       "        vertical-align: middle;\n",
       "    }\n",
       "\n",
       "    .dataframe tbody tr th {\n",
       "        vertical-align: top;\n",
       "    }\n",
       "\n",
       "    .dataframe thead th {\n",
       "        text-align: right;\n",
       "    }\n",
       "</style>\n",
       "<table border=\"1\" class=\"dataframe\">\n",
       "  <thead>\n",
       "    <tr style=\"text-align: right;\">\n",
       "      <th></th>\n",
       "      <th>0</th>\n",
       "      <th>1</th>\n",
       "    </tr>\n",
       "  </thead>\n",
       "  <tbody>\n",
       "    <tr>\n",
       "      <th>0</th>\n",
       "      <td>44</td>\n",
       "      <td>0</td>\n",
       "    </tr>\n",
       "    <tr>\n",
       "      <th>1</th>\n",
       "      <td>9</td>\n",
       "      <td>5</td>\n",
       "    </tr>\n",
       "  </tbody>\n",
       "</table>\n",
       "</div>"
      ],
      "text/plain": [
       "    0  1\n",
       "0  44  0\n",
       "1   9  5"
      ]
     },
     "metadata": {},
     "output_type": "display_data"
    },
    {
     "name": "stdout",
     "output_type": "stream",
     "text": [
      "Accuracy (Test Set): 0.84\n",
      "Precision (Test Set): 1.00\n",
      "Recall (Test Set): 0.36\n",
      "F1-Score (Test Set): 0.53\n",
      "roc_auc (train-proba): 1.00\n",
      "roc_auc (test-proba): 0.77\n"
     ]
    }
   ],
   "source": [
    "#Data modeling\n",
    "#Classification with Random Forest Classifier\n",
    "from sklearn.ensemble import RandomForestClassifier\n",
    "rf = RandomForestClassifier(random_state=42)\n",
    "rf.fit(X_train_scaled, y_train)\n",
    "eval_classification(rf)"
   ]
  },
  {
   "attachments": {},
   "cell_type": "markdown",
   "metadata": {},
   "source": [
    "Karena dari keempat model memiliki nilai recall yang rendah, maka akan dicoba untuk melakukan log transformation."
   ]
  },
  {
   "cell_type": "code",
   "execution_count": null,
   "metadata": {},
   "outputs": [],
   "source": []
  },
  {
   "cell_type": "code",
   "execution_count": 165,
   "metadata": {},
   "outputs": [
    {
     "name": "stderr",
     "output_type": "stream",
     "text": [
      "C:\\Users\\una\\AppData\\Local\\Temp\\ipykernel_1368\\2485157580.py:4: MatplotlibDeprecationWarning:\n",
      "\n",
      "The seaborn styles shipped by Matplotlib are deprecated since 3.6, as they no longer correspond to the styles shipped by seaborn. However, they will remain available as 'seaborn-v0_8-<style>'. Alternatively, directly use the seaborn API instead.\n",
      "\n"
     ]
    },
    {
     "data": {
      "image/png": "[encoded data removed]",
      "text/plain": [
       "<Figure size 1000x1000 with 1 Axes>"
      ]
     },
     "metadata": {},
     "output_type": "display_data"
    }
   ],
   "source": [
    "# important features\n",
    "importances_rf = pd.Series(xg.feature_importances_, index=X_train.columns).sort_values(ascending=True)\n",
    "\n",
    "plt.style.use('seaborn-darkgrid')\n",
    "plt.figure(figsize=(10,10))\n",
    "fig = importances_rf.plot(kind ='barh', color='#7faadb', width=1)\n",
    "plt.title('Features Importance Plot\\n', fontsize=14)\n",
    "plt.show()\n",
    "\n",
    "fig.figure.tight_layout()"
   ]
  }
 ],
 "metadata": {
  "kernelspec": {
   "display_name": "Python 3",
   "language": "python",
   "name": "python3"
  },
  "language_info": {
   "codemirror_mode": {
    "name": "ipython",
    "version": 3
   },
   "file_extension": ".py",
   "mimetype": "text/x-python",
   "name": "python",
   "nbconvert_exporter": "python",
   "pygments_lexer": "ipython3",
   "version": "3.11.1"
  },
  "orig_nbformat": 4
 },
 "nbformat": 4,
 "nbformat_minor": 2
}
